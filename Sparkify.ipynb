{
 "cells": [
  {
   "cell_type": "markdown",
   "metadata": {},
   "source": [
    "# Sparkify Project Workspace\n",
    "This workspace contains a tiny subset (128MB) of the full dataset available (12GB). Feel free to use this workspace to build your project, or to explore a smaller subset with Spark before deploying your cluster on the cloud. Instructions for setting up your Spark cluster is included in the last lesson of the Extracurricular Spark Course content.\n",
    "\n",
    "You can follow the steps below to guide your data analysis and model building portion of this project."
   ]
  },
  {
   "cell_type": "code",
   "execution_count": 1,
   "metadata": {},
   "outputs": [],
   "source": [
    "# import libraries\n",
    "from pyspark.sql import SparkSession\n",
    "from pyspark.sql.functions import avg, col, concat, desc, explode, lit, min, max, split, udf, isnull\n",
    "from pyspark.sql.types import IntegerType\n",
    "from pyspark.sql import Window\n",
    "\n",
    "from pyspark.ml import Pipeline\n",
    "from pyspark.ml.classification import LogisticRegression, RandomForestClassifier,LinearSVC, GBTClassifier, DecisionTreeClassifier, NaiveBayes\n",
    "from pyspark.ml.evaluation import MulticlassClassificationEvaluator\n",
    "from pyspark.ml.feature import CountVectorizer, IDF, Normalizer, PCA, RegexTokenizer, StandardScaler, StopWordsRemover, StringIndexer, VectorAssembler\n",
    "from pyspark.ml.regression import LinearRegression\n",
    "from pyspark.ml.tuning import CrossValidator, ParamGridBuilder\n",
    "\n",
    "import re\n",
    "import matplotlib.pyplot as plt\n",
    "import pandas as pd\n",
    "import numpy as np\n",
    "import seaborn as sns\n",
    "import datetime\n",
    "from time import time"
   ]
  },
  {
   "cell_type": "code",
   "execution_count": 2,
   "metadata": {},
   "outputs": [],
   "source": [
    "# create a Spark session\n",
    "spark = SparkSession \\\n",
    "    .builder \\\n",
    "    .appName(\"Sparkify\") \\\n",
    "    .getOrCreate()"
   ]
  },
  {
   "cell_type": "markdown",
   "metadata": {},
   "source": [
    "# Load and Clean Dataset\n",
    "In this workspace, the mini-dataset file is `mini_sparkify_event_data.json`. Load and clean the dataset, checking for invalid or missing data - for example, records without userids or sessionids. "
   ]
  },
  {
   "cell_type": "markdown",
   "metadata": {},
   "source": [
    "### Preprocessing Steps\n",
    "\n",
    "I will perform below steps in the preprocessing part to discover and analyze the dataset in a better way. \n",
    "\n",
    "1. Loading the data from json file and make transformation to pandas dataframe.\n",
    "2. Dealing with missing variables.\n",
    "    1. Analyzing the variables of columns and removing empty entries, '', in userID.   \n",
    "    2. Identifying the missing features and removing or replacing them.\n",
    "3. Converting the timestamp column in more readible way. \n",
    "4. Converting gender information to binary variable from Female to Male. \n",
    "\n",
    "After performing these steps, *Churn* will be defined according to Cancellation Confirmation feature. In the Churn column, 1 will represent the user has churned and 0 otherwise. \n"
   ]
  },
  {
   "cell_type": "markdown",
   "metadata": {},
   "source": [
    "#### Loading The Data"
   ]
  },
  {
   "cell_type": "code",
   "execution_count": 89,
   "metadata": {},
   "outputs": [
    {
     "name": "stdout",
     "output_type": "stream",
     "text": [
      "root\n",
      " |-- artist: string (nullable = true)\n",
      " |-- auth: string (nullable = true)\n",
      " |-- firstName: string (nullable = true)\n",
      " |-- gender: string (nullable = true)\n",
      " |-- itemInSession: long (nullable = true)\n",
      " |-- lastName: string (nullable = true)\n",
      " |-- length: double (nullable = true)\n",
      " |-- level: string (nullable = true)\n",
      " |-- location: string (nullable = true)\n",
      " |-- method: string (nullable = true)\n",
      " |-- page: string (nullable = true)\n",
      " |-- registration: long (nullable = true)\n",
      " |-- sessionId: long (nullable = true)\n",
      " |-- song: string (nullable = true)\n",
      " |-- status: long (nullable = true)\n",
      " |-- ts: long (nullable = true)\n",
      " |-- userAgent: string (nullable = true)\n",
      " |-- userId: string (nullable = true)\n",
      "\n"
     ]
    }
   ],
   "source": [
    "data_path = 'mini_sparkify_event_data.json'\n",
    "df = spark.read.json(data_path)\n",
    "# df.persist()\n",
    "# See the frame schema\n",
    "df.printSchema()"
   ]
  },
  {
   "cell_type": "markdown",
   "metadata": {},
   "source": [
    "Since I am more familiar with pandas dataframe, I will convert the spark object to pandas df.\n",
    "\n",
    "[1] https://stackoverflow.com/questions/29226210/what-is-the-spark-dataframe-method-topandas-actually-doing\n",
    "\n",
    "[2] https://www.oreilly.com/library/view/pyspark-cookbook/9781788835367/fe13b699-9b45-4295-a0cb-6375fa98a3e3.xhtml"
   ]
  },
  {
   "cell_type": "code",
   "execution_count": 4,
   "metadata": {},
   "outputs": [
    {
     "data": {
      "text/html": [
       "<div>\n",
       "<style scoped>\n",
       "    .dataframe tbody tr th:only-of-type {\n",
       "        vertical-align: middle;\n",
       "    }\n",
       "\n",
       "    .dataframe tbody tr th {\n",
       "        vertical-align: top;\n",
       "    }\n",
       "\n",
       "    .dataframe thead th {\n",
       "        text-align: right;\n",
       "    }\n",
       "</style>\n",
       "<table border=\"1\" class=\"dataframe\">\n",
       "  <thead>\n",
       "    <tr style=\"text-align: right;\">\n",
       "      <th></th>\n",
       "      <th>artist</th>\n",
       "      <th>auth</th>\n",
       "      <th>firstName</th>\n",
       "      <th>gender</th>\n",
       "      <th>itemInSession</th>\n",
       "      <th>lastName</th>\n",
       "      <th>length</th>\n",
       "      <th>level</th>\n",
       "      <th>location</th>\n",
       "      <th>method</th>\n",
       "      <th>page</th>\n",
       "      <th>registration</th>\n",
       "      <th>sessionId</th>\n",
       "      <th>song</th>\n",
       "      <th>status</th>\n",
       "      <th>ts</th>\n",
       "      <th>userAgent</th>\n",
       "      <th>userId</th>\n",
       "    </tr>\n",
       "  </thead>\n",
       "  <tbody>\n",
       "    <tr>\n",
       "      <th>0</th>\n",
       "      <td>Martha Tilston</td>\n",
       "      <td>Logged In</td>\n",
       "      <td>Colin</td>\n",
       "      <td>M</td>\n",
       "      <td>50</td>\n",
       "      <td>Freeman</td>\n",
       "      <td>277.89016</td>\n",
       "      <td>paid</td>\n",
       "      <td>Bakersfield, CA</td>\n",
       "      <td>PUT</td>\n",
       "      <td>NextSong</td>\n",
       "      <td>1.538173e+12</td>\n",
       "      <td>29</td>\n",
       "      <td>Rockpools</td>\n",
       "      <td>200</td>\n",
       "      <td>1538352117000</td>\n",
       "      <td>Mozilla/5.0 (Windows NT 6.1; WOW64; rv:31.0) G...</td>\n",
       "      <td>30</td>\n",
       "    </tr>\n",
       "    <tr>\n",
       "      <th>1</th>\n",
       "      <td>Five Iron Frenzy</td>\n",
       "      <td>Logged In</td>\n",
       "      <td>Micah</td>\n",
       "      <td>M</td>\n",
       "      <td>79</td>\n",
       "      <td>Long</td>\n",
       "      <td>236.09424</td>\n",
       "      <td>free</td>\n",
       "      <td>Boston-Cambridge-Newton, MA-NH</td>\n",
       "      <td>PUT</td>\n",
       "      <td>NextSong</td>\n",
       "      <td>1.538332e+12</td>\n",
       "      <td>8</td>\n",
       "      <td>Canada</td>\n",
       "      <td>200</td>\n",
       "      <td>1538352180000</td>\n",
       "      <td>\"Mozilla/5.0 (Windows NT 6.1; WOW64) AppleWebK...</td>\n",
       "      <td>9</td>\n",
       "    </tr>\n",
       "    <tr>\n",
       "      <th>2</th>\n",
       "      <td>Adam Lambert</td>\n",
       "      <td>Logged In</td>\n",
       "      <td>Colin</td>\n",
       "      <td>M</td>\n",
       "      <td>51</td>\n",
       "      <td>Freeman</td>\n",
       "      <td>282.82730</td>\n",
       "      <td>paid</td>\n",
       "      <td>Bakersfield, CA</td>\n",
       "      <td>PUT</td>\n",
       "      <td>NextSong</td>\n",
       "      <td>1.538173e+12</td>\n",
       "      <td>29</td>\n",
       "      <td>Time For Miracles</td>\n",
       "      <td>200</td>\n",
       "      <td>1538352394000</td>\n",
       "      <td>Mozilla/5.0 (Windows NT 6.1; WOW64; rv:31.0) G...</td>\n",
       "      <td>30</td>\n",
       "    </tr>\n",
       "    <tr>\n",
       "      <th>3</th>\n",
       "      <td>Enigma</td>\n",
       "      <td>Logged In</td>\n",
       "      <td>Micah</td>\n",
       "      <td>M</td>\n",
       "      <td>80</td>\n",
       "      <td>Long</td>\n",
       "      <td>262.71302</td>\n",
       "      <td>free</td>\n",
       "      <td>Boston-Cambridge-Newton, MA-NH</td>\n",
       "      <td>PUT</td>\n",
       "      <td>NextSong</td>\n",
       "      <td>1.538332e+12</td>\n",
       "      <td>8</td>\n",
       "      <td>Knocking On Forbidden Doors</td>\n",
       "      <td>200</td>\n",
       "      <td>1538352416000</td>\n",
       "      <td>\"Mozilla/5.0 (Windows NT 6.1; WOW64) AppleWebK...</td>\n",
       "      <td>9</td>\n",
       "    </tr>\n",
       "    <tr>\n",
       "      <th>4</th>\n",
       "      <td>Daft Punk</td>\n",
       "      <td>Logged In</td>\n",
       "      <td>Colin</td>\n",
       "      <td>M</td>\n",
       "      <td>52</td>\n",
       "      <td>Freeman</td>\n",
       "      <td>223.60771</td>\n",
       "      <td>paid</td>\n",
       "      <td>Bakersfield, CA</td>\n",
       "      <td>PUT</td>\n",
       "      <td>NextSong</td>\n",
       "      <td>1.538173e+12</td>\n",
       "      <td>29</td>\n",
       "      <td>Harder Better Faster Stronger</td>\n",
       "      <td>200</td>\n",
       "      <td>1538352676000</td>\n",
       "      <td>Mozilla/5.0 (Windows NT 6.1; WOW64; rv:31.0) G...</td>\n",
       "      <td>30</td>\n",
       "    </tr>\n",
       "  </tbody>\n",
       "</table>\n",
       "</div>"
      ],
      "text/plain": [
       "             artist       auth firstName gender  itemInSession lastName  \\\n",
       "0    Martha Tilston  Logged In     Colin      M             50  Freeman   \n",
       "1  Five Iron Frenzy  Logged In     Micah      M             79     Long   \n",
       "2      Adam Lambert  Logged In     Colin      M             51  Freeman   \n",
       "3            Enigma  Logged In     Micah      M             80     Long   \n",
       "4         Daft Punk  Logged In     Colin      M             52  Freeman   \n",
       "\n",
       "      length level                        location method      page  \\\n",
       "0  277.89016  paid                 Bakersfield, CA    PUT  NextSong   \n",
       "1  236.09424  free  Boston-Cambridge-Newton, MA-NH    PUT  NextSong   \n",
       "2  282.82730  paid                 Bakersfield, CA    PUT  NextSong   \n",
       "3  262.71302  free  Boston-Cambridge-Newton, MA-NH    PUT  NextSong   \n",
       "4  223.60771  paid                 Bakersfield, CA    PUT  NextSong   \n",
       "\n",
       "   registration  sessionId                           song  status  \\\n",
       "0  1.538173e+12         29                      Rockpools     200   \n",
       "1  1.538332e+12          8                         Canada     200   \n",
       "2  1.538173e+12         29              Time For Miracles     200   \n",
       "3  1.538332e+12          8    Knocking On Forbidden Doors     200   \n",
       "4  1.538173e+12         29  Harder Better Faster Stronger     200   \n",
       "\n",
       "              ts                                          userAgent userId  \n",
       "0  1538352117000  Mozilla/5.0 (Windows NT 6.1; WOW64; rv:31.0) G...     30  \n",
       "1  1538352180000  \"Mozilla/5.0 (Windows NT 6.1; WOW64) AppleWebK...      9  \n",
       "2  1538352394000  Mozilla/5.0 (Windows NT 6.1; WOW64; rv:31.0) G...     30  \n",
       "3  1538352416000  \"Mozilla/5.0 (Windows NT 6.1; WOW64) AppleWebK...      9  \n",
       "4  1538352676000  Mozilla/5.0 (Windows NT 6.1; WOW64; rv:31.0) G...     30  "
      ]
     },
     "execution_count": 4,
     "metadata": {},
     "output_type": "execute_result"
    }
   ],
   "source": [
    "df_pandas = df.toPandas()\n",
    "df_pandas.head()"
   ]
  },
  {
   "cell_type": "code",
   "execution_count": 5,
   "metadata": {},
   "outputs": [
    {
     "name": "stdout",
     "output_type": "stream",
     "text": [
      "<class 'pandas.core.frame.DataFrame'>\n",
      "RangeIndex: 286500 entries, 0 to 286499\n",
      "Data columns (total 18 columns):\n",
      "artist           228108 non-null object\n",
      "auth             286500 non-null object\n",
      "firstName        278154 non-null object\n",
      "gender           278154 non-null object\n",
      "itemInSession    286500 non-null int64\n",
      "lastName         278154 non-null object\n",
      "length           228108 non-null float64\n",
      "level            286500 non-null object\n",
      "location         278154 non-null object\n",
      "method           286500 non-null object\n",
      "page             286500 non-null object\n",
      "registration     278154 non-null float64\n",
      "sessionId        286500 non-null int64\n",
      "song             228108 non-null object\n",
      "status           286500 non-null int64\n",
      "ts               286500 non-null int64\n",
      "userAgent        278154 non-null object\n",
      "userId           286500 non-null object\n",
      "dtypes: float64(2), int64(4), object(12)\n",
      "memory usage: 39.3+ MB\n"
     ]
    }
   ],
   "source": [
    "# To know nulls\n",
    "df_pandas.info()"
   ]
  },
  {
   "cell_type": "markdown",
   "metadata": {},
   "source": [
    "#### Dealing With Missing Values"
   ]
  },
  {
   "cell_type": "markdown",
   "metadata": {},
   "source": [
    "Before proceeding the data cleaning, lets see the NaN values in the dataset columns.."
   ]
  },
  {
   "cell_type": "code",
   "execution_count": 6,
   "metadata": {},
   "outputs": [
    {
     "data": {
      "text/plain": [
       "artist           58392\n",
       "auth                 0\n",
       "firstName         8346\n",
       "gender            8346\n",
       "itemInSession        0\n",
       "lastName          8346\n",
       "length           58392\n",
       "level                0\n",
       "location          8346\n",
       "method               0\n",
       "page                 0\n",
       "registration      8346\n",
       "sessionId            0\n",
       "song             58392\n",
       "status               0\n",
       "ts                   0\n",
       "userAgent         8346\n",
       "userId               0\n",
       "dtype: int64"
      ]
     },
     "execution_count": 6,
     "metadata": {},
     "output_type": "execute_result"
    }
   ],
   "source": [
    "df_pandas.isnull().sum()"
   ]
  },
  {
   "cell_type": "code",
   "execution_count": 7,
   "metadata": {},
   "outputs": [],
   "source": [
    "df = df.dropna(how = 'any', subset = ['userId', 'sessionId'])"
   ]
  },
  {
   "cell_type": "code",
   "execution_count": 8,
   "metadata": {},
   "outputs": [
    {
     "name": "stdout",
     "output_type": "stream",
     "text": [
      "+------+\n",
      "|userId|\n",
      "+------+\n",
      "|      |\n",
      "|    10|\n",
      "|   100|\n",
      "|100001|\n",
      "|100002|\n",
      "+------+\n",
      "only showing top 5 rows\n",
      "\n"
     ]
    }
   ],
   "source": [
    "df.select('userId').dropDuplicates().sort('userId').show(5)"
   ]
  },
  {
   "cell_type": "code",
   "execution_count": 9,
   "metadata": {},
   "outputs": [],
   "source": [
    "df_pandas = df.toPandas()"
   ]
  },
  {
   "cell_type": "code",
   "execution_count": 10,
   "metadata": {},
   "outputs": [
    {
     "data": {
      "text/plain": [
       "artist           58392\n",
       "auth                 0\n",
       "firstName         8346\n",
       "gender            8346\n",
       "itemInSession        0\n",
       "lastName          8346\n",
       "length           58392\n",
       "level                0\n",
       "location          8346\n",
       "method               0\n",
       "page                 0\n",
       "registration      8346\n",
       "sessionId            0\n",
       "song             58392\n",
       "status               0\n",
       "ts                   0\n",
       "userAgent         8346\n",
       "userId               0\n",
       "dtype: int64"
      ]
     },
     "execution_count": 10,
     "metadata": {},
     "output_type": "execute_result"
    }
   ],
   "source": [
    "df_pandas.isnull().sum()"
   ]
  },
  {
   "cell_type": "markdown",
   "metadata": {},
   "source": [
    "It is seen that *FirstName, Gender, LastName, Location, Registration, and UserAgent* have the same number of missing values."
   ]
  },
  {
   "cell_type": "code",
   "execution_count": 11,
   "metadata": {},
   "outputs": [
    {
     "data": {
      "text/plain": [
       "array(['Logged In', 'Logged Out', 'Cancelled', 'Guest'], dtype=object)"
      ]
     },
     "execution_count": 11,
     "metadata": {},
     "output_type": "execute_result"
    }
   ],
   "source": [
    "df_pandas['auth'].unique()"
   ]
  },
  {
   "cell_type": "code",
   "execution_count": 12,
   "metadata": {},
   "outputs": [
    {
     "data": {
      "text/plain": [
       "array(['M', 'F', None], dtype=object)"
      ]
     },
     "execution_count": 12,
     "metadata": {},
     "output_type": "execute_result"
    }
   ],
   "source": [
    "df_pandas['gender'].unique()"
   ]
  },
  {
   "cell_type": "markdown",
   "metadata": {},
   "source": [
    "It is seen that we have None values in gender section."
   ]
  },
  {
   "cell_type": "code",
   "execution_count": 13,
   "metadata": {},
   "outputs": [
    {
     "data": {
      "text/plain": [
       "array(['paid', 'free'], dtype=object)"
      ]
     },
     "execution_count": 13,
     "metadata": {},
     "output_type": "execute_result"
    }
   ],
   "source": [
    "df_pandas['level'].unique()"
   ]
  },
  {
   "cell_type": "code",
   "execution_count": 14,
   "metadata": {},
   "outputs": [
    {
     "data": {
      "text/plain": [
       "array(['PUT', 'GET'], dtype=object)"
      ]
     },
     "execution_count": 14,
     "metadata": {},
     "output_type": "execute_result"
    }
   ],
   "source": [
    "df_pandas['method'].unique()"
   ]
  },
  {
   "cell_type": "code",
   "execution_count": 15,
   "metadata": {},
   "outputs": [
    {
     "data": {
      "text/plain": [
       "array(['NextSong', 'Add to Playlist', 'Roll Advert', 'Thumbs Up',\n",
       "       'Downgrade', 'Thumbs Down', 'Home', 'Logout', 'Help', 'Login',\n",
       "       'Upgrade', 'Add Friend', 'About', 'Settings', 'Submit Upgrade',\n",
       "       'Submit Downgrade', 'Error', 'Save Settings', 'Cancel',\n",
       "       'Cancellation Confirmation', 'Register', 'Submit Registration'], dtype=object)"
      ]
     },
     "execution_count": 15,
     "metadata": {},
     "output_type": "execute_result"
    }
   ],
   "source": [
    "df_pandas['page'].unique()"
   ]
  },
  {
   "cell_type": "code",
   "execution_count": 16,
   "metadata": {},
   "outputs": [
    {
     "data": {
      "text/plain": [
       "array([200, 307, 404])"
      ]
     },
     "execution_count": 16,
     "metadata": {},
     "output_type": "execute_result"
    }
   ],
   "source": [
    "#df_pandas['registration'].unique()\n",
    "df_pandas['status'].unique()"
   ]
  },
  {
   "cell_type": "code",
   "execution_count": 17,
   "metadata": {},
   "outputs": [
    {
     "data": {
      "text/plain": [
       "array(['30', '9', '74', '54', '', '4', '101', '78', '88', '95', '25',\n",
       "       '142', '13', '45', '39', '87', '28', '131', '126', '146', '59',\n",
       "       '15', '36', '120', '92', '33', '51', '27', '143', '140', '6', '124',\n",
       "       '141', '93', '81', '40', '94', '113', '98', '137', '65', '53', '42',\n",
       "       '115', '38', '58', '77', '52', '29', '70', '61', '46', '35', '132',\n",
       "       '127', '136', '80', '110', '129', '121', '82', '100', '117', '18',\n",
       "       '85', '118', '105', '96', '20', '55', '3', '12', '41', '73', '17',\n",
       "       '86', '7', '67', '32', '5', '106', '114', '69', '99', '16', '49',\n",
       "       '50', '24', '103', '102', '122', '75', '135', '128', '111', '112',\n",
       "       '145', '66', '83', '44', '11', '91', '37', '90', '104', '138',\n",
       "       '148', '107', '97', '109', '134', '10', '2', '144', '76', '119',\n",
       "       '89', '14', '62', '19', '150', '68', '147', '8', '56', '34', '60',\n",
       "       '125', '47', '133', '26', '43', '57', '149', '64', '21', '71',\n",
       "       '108', '79', '123', '116', '152', '63', '139', '23', '154', '155',\n",
       "       '72', '151', '153', '22', '84', '156', '100009', '100022', '100001',\n",
       "       '100025', '100005', '100016', '100011', '100015', '100007',\n",
       "       '100013', '100004', '100012', '100023', '100024', '100018',\n",
       "       '100006', '100019', '100010', '100002', '100003', '100008',\n",
       "       '100014', '100021', '100017', '200014', '200019', '200002',\n",
       "       '200023', '200001', '200020', '200022', '200006', '200011',\n",
       "       '200010', '200015', '200004', '200021', '200017', '200008',\n",
       "       '200024', '200003', '200018', '200009', '200025', '200016',\n",
       "       '200007', '200005', '200012', '300001', '300017', '300015',\n",
       "       '300011', '300008', '300023', '300021', '300009', '300025',\n",
       "       '300002', '300012', '300007', '300005', '300010', '300014',\n",
       "       '300016', '300019', '300020', '300022', '300013', '300018',\n",
       "       '300006', '300003', '300004', '300024'], dtype=object)"
      ]
     },
     "execution_count": 17,
     "metadata": {},
     "output_type": "execute_result"
    }
   ],
   "source": [
    "df_pandas['userId'].unique()"
   ]
  },
  {
   "cell_type": "markdown",
   "metadata": {},
   "source": [
    "It is seen that we have **' '** value as an entry in the dataset. So we can clear them first and then check the None values in the gender section."
   ]
  },
  {
   "cell_type": "code",
   "execution_count": 18,
   "metadata": {},
   "outputs": [
    {
     "data": {
      "text/plain": [
       "8346"
      ]
     },
     "execution_count": 18,
     "metadata": {},
     "output_type": "execute_result"
    }
   ],
   "source": [
    "df_pandas[df_pandas['userId'] == '']['userId'].count()"
   ]
  },
  {
   "cell_type": "markdown",
   "metadata": {},
   "source": [
    "Lets check the count in the spark dataframe.\n",
    "\n",
    "[1] https://docs.databricks.com/spark/latest/dataframes-datasets/introduction-to-dataframes-python.html"
   ]
  },
  {
   "cell_type": "code",
   "execution_count": 19,
   "metadata": {},
   "outputs": [
    {
     "data": {
      "text/plain": [
       "8346"
      ]
     },
     "execution_count": 19,
     "metadata": {},
     "output_type": "execute_result"
    }
   ],
   "source": [
    "df.filter(df.userId == '').count()"
   ]
  },
  {
   "cell_type": "markdown",
   "metadata": {},
   "source": [
    "Next step will be removing the **' '** values in UserId. "
   ]
  },
  {
   "cell_type": "code",
   "execution_count": 20,
   "metadata": {},
   "outputs": [],
   "source": [
    "df = df.filter(df.userId != '')"
   ]
  },
  {
   "cell_type": "code",
   "execution_count": 21,
   "metadata": {},
   "outputs": [
    {
     "data": {
      "text/plain": [
       "0"
      ]
     },
     "execution_count": 21,
     "metadata": {},
     "output_type": "execute_result"
    }
   ],
   "source": [
    "df.filter(df.userId == '').count()"
   ]
  },
  {
   "cell_type": "code",
   "execution_count": 22,
   "metadata": {},
   "outputs": [
    {
     "data": {
      "text/plain": [
       "artist           50046\n",
       "auth                 0\n",
       "firstName            0\n",
       "gender               0\n",
       "itemInSession        0\n",
       "lastName             0\n",
       "length           50046\n",
       "level                0\n",
       "location             0\n",
       "method               0\n",
       "page                 0\n",
       "registration         0\n",
       "sessionId            0\n",
       "song             50046\n",
       "status               0\n",
       "ts                   0\n",
       "userAgent            0\n",
       "userId               0\n",
       "dtype: int64"
      ]
     },
     "execution_count": 22,
     "metadata": {},
     "output_type": "execute_result"
    }
   ],
   "source": [
    "df_pandas = df.toPandas()\n",
    "df_pandas.isnull().sum()"
   ]
  },
  {
   "cell_type": "markdown",
   "metadata": {},
   "source": [
    "Let's observe the missing values after the conversion."
   ]
  },
  {
   "cell_type": "code",
   "execution_count": 23,
   "metadata": {},
   "outputs": [
    {
     "data": {
      "text/html": [
       "<div>\n",
       "<style scoped>\n",
       "    .dataframe tbody tr th:only-of-type {\n",
       "        vertical-align: middle;\n",
       "    }\n",
       "\n",
       "    .dataframe tbody tr th {\n",
       "        vertical-align: top;\n",
       "    }\n",
       "\n",
       "    .dataframe thead th {\n",
       "        text-align: right;\n",
       "    }\n",
       "</style>\n",
       "<table border=\"1\" class=\"dataframe\">\n",
       "  <thead>\n",
       "    <tr style=\"text-align: right;\">\n",
       "      <th></th>\n",
       "      <th>artist</th>\n",
       "      <th>auth</th>\n",
       "      <th>firstName</th>\n",
       "      <th>gender</th>\n",
       "      <th>itemInSession</th>\n",
       "      <th>lastName</th>\n",
       "      <th>length</th>\n",
       "      <th>level</th>\n",
       "      <th>location</th>\n",
       "      <th>method</th>\n",
       "      <th>page</th>\n",
       "      <th>registration</th>\n",
       "      <th>sessionId</th>\n",
       "      <th>song</th>\n",
       "      <th>status</th>\n",
       "      <th>ts</th>\n",
       "      <th>userAgent</th>\n",
       "      <th>userId</th>\n",
       "    </tr>\n",
       "  </thead>\n",
       "  <tbody>\n",
       "    <tr>\n",
       "      <th>8</th>\n",
       "      <td>None</td>\n",
       "      <td>Logged In</td>\n",
       "      <td>Colin</td>\n",
       "      <td>M</td>\n",
       "      <td>54</td>\n",
       "      <td>Freeman</td>\n",
       "      <td>NaN</td>\n",
       "      <td>paid</td>\n",
       "      <td>Bakersfield, CA</td>\n",
       "      <td>PUT</td>\n",
       "      <td>Add to Playlist</td>\n",
       "      <td>1538173362000</td>\n",
       "      <td>29</td>\n",
       "      <td>None</td>\n",
       "      <td>200</td>\n",
       "      <td>1538352905000</td>\n",
       "      <td>Mozilla/5.0 (Windows NT 6.1; WOW64; rv:31.0) G...</td>\n",
       "      <td>30</td>\n",
       "    </tr>\n",
       "    <tr>\n",
       "      <th>11</th>\n",
       "      <td>None</td>\n",
       "      <td>Logged In</td>\n",
       "      <td>Micah</td>\n",
       "      <td>M</td>\n",
       "      <td>84</td>\n",
       "      <td>Long</td>\n",
       "      <td>NaN</td>\n",
       "      <td>free</td>\n",
       "      <td>Boston-Cambridge-Newton, MA-NH</td>\n",
       "      <td>GET</td>\n",
       "      <td>Roll Advert</td>\n",
       "      <td>1538331630000</td>\n",
       "      <td>8</td>\n",
       "      <td>None</td>\n",
       "      <td>200</td>\n",
       "      <td>1538353150000</td>\n",
       "      <td>\"Mozilla/5.0 (Windows NT 6.1; WOW64) AppleWebK...</td>\n",
       "      <td>9</td>\n",
       "    </tr>\n",
       "    <tr>\n",
       "      <th>14</th>\n",
       "      <td>None</td>\n",
       "      <td>Logged In</td>\n",
       "      <td>Micah</td>\n",
       "      <td>M</td>\n",
       "      <td>86</td>\n",
       "      <td>Long</td>\n",
       "      <td>NaN</td>\n",
       "      <td>free</td>\n",
       "      <td>Boston-Cambridge-Newton, MA-NH</td>\n",
       "      <td>PUT</td>\n",
       "      <td>Thumbs Up</td>\n",
       "      <td>1538331630000</td>\n",
       "      <td>8</td>\n",
       "      <td>None</td>\n",
       "      <td>307</td>\n",
       "      <td>1538353376000</td>\n",
       "      <td>\"Mozilla/5.0 (Windows NT 6.1; WOW64) AppleWebK...</td>\n",
       "      <td>9</td>\n",
       "    </tr>\n",
       "    <tr>\n",
       "      <th>35</th>\n",
       "      <td>None</td>\n",
       "      <td>Logged In</td>\n",
       "      <td>Alexi</td>\n",
       "      <td>F</td>\n",
       "      <td>4</td>\n",
       "      <td>Warren</td>\n",
       "      <td>NaN</td>\n",
       "      <td>paid</td>\n",
       "      <td>Spokane-Spokane Valley, WA</td>\n",
       "      <td>GET</td>\n",
       "      <td>Downgrade</td>\n",
       "      <td>1532482662000</td>\n",
       "      <td>53</td>\n",
       "      <td>None</td>\n",
       "      <td>200</td>\n",
       "      <td>1538354749000</td>\n",
       "      <td>Mozilla/5.0 (Windows NT 6.1; WOW64; rv:32.0) G...</td>\n",
       "      <td>54</td>\n",
       "    </tr>\n",
       "    <tr>\n",
       "      <th>44</th>\n",
       "      <td>None</td>\n",
       "      <td>Logged In</td>\n",
       "      <td>Alexi</td>\n",
       "      <td>F</td>\n",
       "      <td>7</td>\n",
       "      <td>Warren</td>\n",
       "      <td>NaN</td>\n",
       "      <td>paid</td>\n",
       "      <td>Spokane-Spokane Valley, WA</td>\n",
       "      <td>PUT</td>\n",
       "      <td>Thumbs Up</td>\n",
       "      <td>1532482662000</td>\n",
       "      <td>53</td>\n",
       "      <td>None</td>\n",
       "      <td>307</td>\n",
       "      <td>1538355255000</td>\n",
       "      <td>Mozilla/5.0 (Windows NT 6.1; WOW64; rv:32.0) G...</td>\n",
       "      <td>54</td>\n",
       "    </tr>\n",
       "    <tr>\n",
       "      <th>47</th>\n",
       "      <td>None</td>\n",
       "      <td>Logged In</td>\n",
       "      <td>Micah</td>\n",
       "      <td>M</td>\n",
       "      <td>95</td>\n",
       "      <td>Long</td>\n",
       "      <td>NaN</td>\n",
       "      <td>free</td>\n",
       "      <td>Boston-Cambridge-Newton, MA-NH</td>\n",
       "      <td>PUT</td>\n",
       "      <td>Thumbs Down</td>\n",
       "      <td>1538331630000</td>\n",
       "      <td>8</td>\n",
       "      <td>None</td>\n",
       "      <td>307</td>\n",
       "      <td>1538355306000</td>\n",
       "      <td>\"Mozilla/5.0 (Windows NT 6.1; WOW64) AppleWebK...</td>\n",
       "      <td>9</td>\n",
       "    </tr>\n",
       "    <tr>\n",
       "      <th>51</th>\n",
       "      <td>None</td>\n",
       "      <td>Logged In</td>\n",
       "      <td>Micah</td>\n",
       "      <td>M</td>\n",
       "      <td>97</td>\n",
       "      <td>Long</td>\n",
       "      <td>NaN</td>\n",
       "      <td>free</td>\n",
       "      <td>Boston-Cambridge-Newton, MA-NH</td>\n",
       "      <td>GET</td>\n",
       "      <td>Home</td>\n",
       "      <td>1538331630000</td>\n",
       "      <td>8</td>\n",
       "      <td>None</td>\n",
       "      <td>200</td>\n",
       "      <td>1538355504000</td>\n",
       "      <td>\"Mozilla/5.0 (Windows NT 6.1; WOW64) AppleWebK...</td>\n",
       "      <td>9</td>\n",
       "    </tr>\n",
       "    <tr>\n",
       "      <th>53</th>\n",
       "      <td>None</td>\n",
       "      <td>Logged In</td>\n",
       "      <td>Micah</td>\n",
       "      <td>M</td>\n",
       "      <td>99</td>\n",
       "      <td>Long</td>\n",
       "      <td>NaN</td>\n",
       "      <td>free</td>\n",
       "      <td>Boston-Cambridge-Newton, MA-NH</td>\n",
       "      <td>PUT</td>\n",
       "      <td>Logout</td>\n",
       "      <td>1538331630000</td>\n",
       "      <td>8</td>\n",
       "      <td>None</td>\n",
       "      <td>307</td>\n",
       "      <td>1538355687000</td>\n",
       "      <td>\"Mozilla/5.0 (Windows NT 6.1; WOW64) AppleWebK...</td>\n",
       "      <td>9</td>\n",
       "    </tr>\n",
       "    <tr>\n",
       "      <th>56</th>\n",
       "      <td>None</td>\n",
       "      <td>Logged In</td>\n",
       "      <td>Ashlynn</td>\n",
       "      <td>F</td>\n",
       "      <td>9</td>\n",
       "      <td>Williams</td>\n",
       "      <td>NaN</td>\n",
       "      <td>free</td>\n",
       "      <td>Tallahassee, FL</td>\n",
       "      <td>PUT</td>\n",
       "      <td>Thumbs Up</td>\n",
       "      <td>1537365219000</td>\n",
       "      <td>217</td>\n",
       "      <td>None</td>\n",
       "      <td>307</td>\n",
       "      <td>1538355711000</td>\n",
       "      <td>\"Mozilla/5.0 (Macintosh; Intel Mac OS X 10_9_4...</td>\n",
       "      <td>74</td>\n",
       "    </tr>\n",
       "    <tr>\n",
       "      <th>57</th>\n",
       "      <td>None</td>\n",
       "      <td>Logged In</td>\n",
       "      <td>Micah</td>\n",
       "      <td>M</td>\n",
       "      <td>104</td>\n",
       "      <td>Long</td>\n",
       "      <td>NaN</td>\n",
       "      <td>free</td>\n",
       "      <td>Boston-Cambridge-Newton, MA-NH</td>\n",
       "      <td>GET</td>\n",
       "      <td>Home</td>\n",
       "      <td>1538331630000</td>\n",
       "      <td>8</td>\n",
       "      <td>None</td>\n",
       "      <td>200</td>\n",
       "      <td>1538355855000</td>\n",
       "      <td>\"Mozilla/5.0 (Windows NT 6.1; WOW64) AppleWebK...</td>\n",
       "      <td>9</td>\n",
       "    </tr>\n",
       "    <tr>\n",
       "      <th>67</th>\n",
       "      <td>None</td>\n",
       "      <td>Logged In</td>\n",
       "      <td>Colin</td>\n",
       "      <td>M</td>\n",
       "      <td>71</td>\n",
       "      <td>Freeman</td>\n",
       "      <td>NaN</td>\n",
       "      <td>paid</td>\n",
       "      <td>Bakersfield, CA</td>\n",
       "      <td>PUT</td>\n",
       "      <td>Thumbs Down</td>\n",
       "      <td>1538173362000</td>\n",
       "      <td>29</td>\n",
       "      <td>None</td>\n",
       "      <td>307</td>\n",
       "      <td>1538356524000</td>\n",
       "      <td>Mozilla/5.0 (Windows NT 6.1; WOW64; rv:31.0) G...</td>\n",
       "      <td>30</td>\n",
       "    </tr>\n",
       "    <tr>\n",
       "      <th>71</th>\n",
       "      <td>None</td>\n",
       "      <td>Logged In</td>\n",
       "      <td>Warren</td>\n",
       "      <td>M</td>\n",
       "      <td>1</td>\n",
       "      <td>Miller</td>\n",
       "      <td>NaN</td>\n",
       "      <td>free</td>\n",
       "      <td>Baltimore-Columbia-Towson, MD</td>\n",
       "      <td>PUT</td>\n",
       "      <td>Logout</td>\n",
       "      <td>1538169823000</td>\n",
       "      <td>240</td>\n",
       "      <td>None</td>\n",
       "      <td>307</td>\n",
       "      <td>1538356651000</td>\n",
       "      <td>Mozilla/5.0 (Windows NT 6.0; rv:31.0) Gecko/20...</td>\n",
       "      <td>4</td>\n",
       "    </tr>\n",
       "    <tr>\n",
       "      <th>72</th>\n",
       "      <td>None</td>\n",
       "      <td>Logged In</td>\n",
       "      <td>Warren</td>\n",
       "      <td>M</td>\n",
       "      <td>4</td>\n",
       "      <td>Miller</td>\n",
       "      <td>NaN</td>\n",
       "      <td>free</td>\n",
       "      <td>Baltimore-Columbia-Towson, MD</td>\n",
       "      <td>GET</td>\n",
       "      <td>Home</td>\n",
       "      <td>1538169823000</td>\n",
       "      <td>240</td>\n",
       "      <td>None</td>\n",
       "      <td>200</td>\n",
       "      <td>1538356686000</td>\n",
       "      <td>Mozilla/5.0 (Windows NT 6.0; rv:31.0) Gecko/20...</td>\n",
       "      <td>4</td>\n",
       "    </tr>\n",
       "    <tr>\n",
       "      <th>75</th>\n",
       "      <td>None</td>\n",
       "      <td>Logged In</td>\n",
       "      <td>Ashlynn</td>\n",
       "      <td>F</td>\n",
       "      <td>15</td>\n",
       "      <td>Williams</td>\n",
       "      <td>NaN</td>\n",
       "      <td>free</td>\n",
       "      <td>Tallahassee, FL</td>\n",
       "      <td>PUT</td>\n",
       "      <td>Add to Playlist</td>\n",
       "      <td>1537365219000</td>\n",
       "      <td>217</td>\n",
       "      <td>None</td>\n",
       "      <td>200</td>\n",
       "      <td>1538356816000</td>\n",
       "      <td>\"Mozilla/5.0 (Macintosh; Intel Mac OS X 10_9_4...</td>\n",
       "      <td>74</td>\n",
       "    </tr>\n",
       "    <tr>\n",
       "      <th>80</th>\n",
       "      <td>None</td>\n",
       "      <td>Logged In</td>\n",
       "      <td>Warren</td>\n",
       "      <td>M</td>\n",
       "      <td>6</td>\n",
       "      <td>Miller</td>\n",
       "      <td>NaN</td>\n",
       "      <td>free</td>\n",
       "      <td>Baltimore-Columbia-Towson, MD</td>\n",
       "      <td>GET</td>\n",
       "      <td>Home</td>\n",
       "      <td>1538169823000</td>\n",
       "      <td>240</td>\n",
       "      <td>None</td>\n",
       "      <td>200</td>\n",
       "      <td>1538356954000</td>\n",
       "      <td>Mozilla/5.0 (Windows NT 6.0; rv:31.0) Gecko/20...</td>\n",
       "      <td>4</td>\n",
       "    </tr>\n",
       "    <tr>\n",
       "      <th>82</th>\n",
       "      <td>None</td>\n",
       "      <td>Logged In</td>\n",
       "      <td>Ashlynn</td>\n",
       "      <td>F</td>\n",
       "      <td>18</td>\n",
       "      <td>Williams</td>\n",
       "      <td>NaN</td>\n",
       "      <td>free</td>\n",
       "      <td>Tallahassee, FL</td>\n",
       "      <td>PUT</td>\n",
       "      <td>Thumbs Up</td>\n",
       "      <td>1537365219000</td>\n",
       "      <td>217</td>\n",
       "      <td>None</td>\n",
       "      <td>307</td>\n",
       "      <td>1538357104000</td>\n",
       "      <td>\"Mozilla/5.0 (Macintosh; Intel Mac OS X 10_9_4...</td>\n",
       "      <td>74</td>\n",
       "    </tr>\n",
       "    <tr>\n",
       "      <th>85</th>\n",
       "      <td>None</td>\n",
       "      <td>Logged In</td>\n",
       "      <td>Micah</td>\n",
       "      <td>M</td>\n",
       "      <td>111</td>\n",
       "      <td>Long</td>\n",
       "      <td>NaN</td>\n",
       "      <td>free</td>\n",
       "      <td>Boston-Cambridge-Newton, MA-NH</td>\n",
       "      <td>PUT</td>\n",
       "      <td>Thumbs Up</td>\n",
       "      <td>1538331630000</td>\n",
       "      <td>8</td>\n",
       "      <td>None</td>\n",
       "      <td>307</td>\n",
       "      <td>1538357160000</td>\n",
       "      <td>\"Mozilla/5.0 (Windows NT 6.1; WOW64) AppleWebK...</td>\n",
       "      <td>9</td>\n",
       "    </tr>\n",
       "    <tr>\n",
       "      <th>95</th>\n",
       "      <td>None</td>\n",
       "      <td>Logged In</td>\n",
       "      <td>Colin</td>\n",
       "      <td>M</td>\n",
       "      <td>77</td>\n",
       "      <td>Freeman</td>\n",
       "      <td>NaN</td>\n",
       "      <td>paid</td>\n",
       "      <td>Bakersfield, CA</td>\n",
       "      <td>PUT</td>\n",
       "      <td>Thumbs Up</td>\n",
       "      <td>1538173362000</td>\n",
       "      <td>29</td>\n",
       "      <td>None</td>\n",
       "      <td>307</td>\n",
       "      <td>1538357649000</td>\n",
       "      <td>Mozilla/5.0 (Windows NT 6.1; WOW64; rv:31.0) G...</td>\n",
       "      <td>30</td>\n",
       "    </tr>\n",
       "    <tr>\n",
       "      <th>99</th>\n",
       "      <td>None</td>\n",
       "      <td>Logged In</td>\n",
       "      <td>Ashlynn</td>\n",
       "      <td>F</td>\n",
       "      <td>22</td>\n",
       "      <td>Williams</td>\n",
       "      <td>NaN</td>\n",
       "      <td>free</td>\n",
       "      <td>Tallahassee, FL</td>\n",
       "      <td>PUT</td>\n",
       "      <td>Thumbs Up</td>\n",
       "      <td>1537365219000</td>\n",
       "      <td>217</td>\n",
       "      <td>None</td>\n",
       "      <td>307</td>\n",
       "      <td>1538357916000</td>\n",
       "      <td>\"Mozilla/5.0 (Macintosh; Intel Mac OS X 10_9_4...</td>\n",
       "      <td>74</td>\n",
       "    </tr>\n",
       "    <tr>\n",
       "      <th>101</th>\n",
       "      <td>None</td>\n",
       "      <td>Logged In</td>\n",
       "      <td>Colin</td>\n",
       "      <td>M</td>\n",
       "      <td>79</td>\n",
       "      <td>Freeman</td>\n",
       "      <td>NaN</td>\n",
       "      <td>paid</td>\n",
       "      <td>Bakersfield, CA</td>\n",
       "      <td>PUT</td>\n",
       "      <td>Thumbs Up</td>\n",
       "      <td>1538173362000</td>\n",
       "      <td>29</td>\n",
       "      <td>None</td>\n",
       "      <td>307</td>\n",
       "      <td>1538357991000</td>\n",
       "      <td>Mozilla/5.0 (Windows NT 6.1; WOW64; rv:31.0) G...</td>\n",
       "      <td>30</td>\n",
       "    </tr>\n",
       "    <tr>\n",
       "      <th>105</th>\n",
       "      <td>None</td>\n",
       "      <td>Logged In</td>\n",
       "      <td>Ashlynn</td>\n",
       "      <td>F</td>\n",
       "      <td>24</td>\n",
       "      <td>Williams</td>\n",
       "      <td>NaN</td>\n",
       "      <td>free</td>\n",
       "      <td>Tallahassee, FL</td>\n",
       "      <td>PUT</td>\n",
       "      <td>Thumbs Down</td>\n",
       "      <td>1537365219000</td>\n",
       "      <td>217</td>\n",
       "      <td>None</td>\n",
       "      <td>307</td>\n",
       "      <td>1538358192000</td>\n",
       "      <td>\"Mozilla/5.0 (Macintosh; Intel Mac OS X 10_9_4...</td>\n",
       "      <td>74</td>\n",
       "    </tr>\n",
       "    <tr>\n",
       "      <th>111</th>\n",
       "      <td>None</td>\n",
       "      <td>Logged In</td>\n",
       "      <td>Alex</td>\n",
       "      <td>M</td>\n",
       "      <td>1</td>\n",
       "      <td>Hogan</td>\n",
       "      <td>NaN</td>\n",
       "      <td>free</td>\n",
       "      <td>Denver-Aurora-Lakewood, CO</td>\n",
       "      <td>GET</td>\n",
       "      <td>Home</td>\n",
       "      <td>1535066380000</td>\n",
       "      <td>100</td>\n",
       "      <td>None</td>\n",
       "      <td>200</td>\n",
       "      <td>1538358605000</td>\n",
       "      <td>Mozilla/5.0 (Windows NT 6.2; WOW64; rv:31.0) G...</td>\n",
       "      <td>101</td>\n",
       "    </tr>\n",
       "    <tr>\n",
       "      <th>115</th>\n",
       "      <td>None</td>\n",
       "      <td>Logged In</td>\n",
       "      <td>Micah</td>\n",
       "      <td>M</td>\n",
       "      <td>119</td>\n",
       "      <td>Long</td>\n",
       "      <td>NaN</td>\n",
       "      <td>free</td>\n",
       "      <td>Boston-Cambridge-Newton, MA-NH</td>\n",
       "      <td>GET</td>\n",
       "      <td>Roll Advert</td>\n",
       "      <td>1538331630000</td>\n",
       "      <td>8</td>\n",
       "      <td>None</td>\n",
       "      <td>200</td>\n",
       "      <td>1538358779000</td>\n",
       "      <td>\"Mozilla/5.0 (Windows NT 6.1; WOW64) AppleWebK...</td>\n",
       "      <td>9</td>\n",
       "    </tr>\n",
       "    <tr>\n",
       "      <th>120</th>\n",
       "      <td>None</td>\n",
       "      <td>Logged In</td>\n",
       "      <td>Ainsley</td>\n",
       "      <td>F</td>\n",
       "      <td>0</td>\n",
       "      <td>Farley</td>\n",
       "      <td>NaN</td>\n",
       "      <td>free</td>\n",
       "      <td>McAllen-Edinburg-Mission, TX</td>\n",
       "      <td>GET</td>\n",
       "      <td>Home</td>\n",
       "      <td>1538304455000</td>\n",
       "      <td>187</td>\n",
       "      <td>None</td>\n",
       "      <td>200</td>\n",
       "      <td>1538359181000</td>\n",
       "      <td>\"Mozilla/5.0 (Windows NT 6.1; WOW64) AppleWebK...</td>\n",
       "      <td>78</td>\n",
       "    </tr>\n",
       "    <tr>\n",
       "      <th>123</th>\n",
       "      <td>None</td>\n",
       "      <td>Logged In</td>\n",
       "      <td>Micah</td>\n",
       "      <td>M</td>\n",
       "      <td>122</td>\n",
       "      <td>Long</td>\n",
       "      <td>NaN</td>\n",
       "      <td>free</td>\n",
       "      <td>Boston-Cambridge-Newton, MA-NH</td>\n",
       "      <td>PUT</td>\n",
       "      <td>Add to Playlist</td>\n",
       "      <td>1538331630000</td>\n",
       "      <td>8</td>\n",
       "      <td>None</td>\n",
       "      <td>200</td>\n",
       "      <td>1538359261000</td>\n",
       "      <td>\"Mozilla/5.0 (Windows NT 6.1; WOW64) AppleWebK...</td>\n",
       "      <td>9</td>\n",
       "    </tr>\n",
       "    <tr>\n",
       "      <th>132</th>\n",
       "      <td>None</td>\n",
       "      <td>Logged In</td>\n",
       "      <td>Alex</td>\n",
       "      <td>M</td>\n",
       "      <td>7</td>\n",
       "      <td>Hogan</td>\n",
       "      <td>NaN</td>\n",
       "      <td>free</td>\n",
       "      <td>Denver-Aurora-Lakewood, CO</td>\n",
       "      <td>GET</td>\n",
       "      <td>Help</td>\n",
       "      <td>1535066380000</td>\n",
       "      <td>100</td>\n",
       "      <td>None</td>\n",
       "      <td>200</td>\n",
       "      <td>1538359923000</td>\n",
       "      <td>Mozilla/5.0 (Windows NT 6.2; WOW64; rv:31.0) G...</td>\n",
       "      <td>101</td>\n",
       "    </tr>\n",
       "    <tr>\n",
       "      <th>137</th>\n",
       "      <td>None</td>\n",
       "      <td>Logged In</td>\n",
       "      <td>Micah</td>\n",
       "      <td>M</td>\n",
       "      <td>124</td>\n",
       "      <td>Long</td>\n",
       "      <td>NaN</td>\n",
       "      <td>free</td>\n",
       "      <td>Boston-Cambridge-Newton, MA-NH</td>\n",
       "      <td>GET</td>\n",
       "      <td>Upgrade</td>\n",
       "      <td>1538331630000</td>\n",
       "      <td>8</td>\n",
       "      <td>None</td>\n",
       "      <td>200</td>\n",
       "      <td>1538360042000</td>\n",
       "      <td>\"Mozilla/5.0 (Windows NT 6.1; WOW64) AppleWebK...</td>\n",
       "      <td>9</td>\n",
       "    </tr>\n",
       "    <tr>\n",
       "      <th>138</th>\n",
       "      <td>None</td>\n",
       "      <td>Logged In</td>\n",
       "      <td>Micah</td>\n",
       "      <td>M</td>\n",
       "      <td>125</td>\n",
       "      <td>Long</td>\n",
       "      <td>NaN</td>\n",
       "      <td>free</td>\n",
       "      <td>Boston-Cambridge-Newton, MA-NH</td>\n",
       "      <td>GET</td>\n",
       "      <td>Upgrade</td>\n",
       "      <td>1538331630000</td>\n",
       "      <td>8</td>\n",
       "      <td>None</td>\n",
       "      <td>200</td>\n",
       "      <td>1538360044000</td>\n",
       "      <td>\"Mozilla/5.0 (Windows NT 6.1; WOW64) AppleWebK...</td>\n",
       "      <td>9</td>\n",
       "    </tr>\n",
       "    <tr>\n",
       "      <th>139</th>\n",
       "      <td>None</td>\n",
       "      <td>Logged In</td>\n",
       "      <td>Zyonna</td>\n",
       "      <td>F</td>\n",
       "      <td>1</td>\n",
       "      <td>Bird</td>\n",
       "      <td>NaN</td>\n",
       "      <td>free</td>\n",
       "      <td>Columbus, GA-AL</td>\n",
       "      <td>GET</td>\n",
       "      <td>Home</td>\n",
       "      <td>1536663902000</td>\n",
       "      <td>241</td>\n",
       "      <td>None</td>\n",
       "      <td>200</td>\n",
       "      <td>1538360138000</td>\n",
       "      <td>Mozilla/5.0 (Windows NT 6.1; WOW64; rv:31.0) G...</td>\n",
       "      <td>88</td>\n",
       "    </tr>\n",
       "    <tr>\n",
       "      <th>144</th>\n",
       "      <td>None</td>\n",
       "      <td>Logged In</td>\n",
       "      <td>Micah</td>\n",
       "      <td>M</td>\n",
       "      <td>127</td>\n",
       "      <td>Long</td>\n",
       "      <td>NaN</td>\n",
       "      <td>free</td>\n",
       "      <td>Boston-Cambridge-Newton, MA-NH</td>\n",
       "      <td>GET</td>\n",
       "      <td>Roll Advert</td>\n",
       "      <td>1538331630000</td>\n",
       "      <td>8</td>\n",
       "      <td>None</td>\n",
       "      <td>200</td>\n",
       "      <td>1538360228000</td>\n",
       "      <td>\"Mozilla/5.0 (Windows NT 6.1; WOW64) AppleWebK...</td>\n",
       "      <td>9</td>\n",
       "    </tr>\n",
       "    <tr>\n",
       "      <th>...</th>\n",
       "      <td>...</td>\n",
       "      <td>...</td>\n",
       "      <td>...</td>\n",
       "      <td>...</td>\n",
       "      <td>...</td>\n",
       "      <td>...</td>\n",
       "      <td>...</td>\n",
       "      <td>...</td>\n",
       "      <td>...</td>\n",
       "      <td>...</td>\n",
       "      <td>...</td>\n",
       "      <td>...</td>\n",
       "      <td>...</td>\n",
       "      <td>...</td>\n",
       "      <td>...</td>\n",
       "      <td>...</td>\n",
       "      <td>...</td>\n",
       "      <td>...</td>\n",
       "    </tr>\n",
       "    <tr>\n",
       "      <th>278013</th>\n",
       "      <td>None</td>\n",
       "      <td>Logged In</td>\n",
       "      <td>Joshua</td>\n",
       "      <td>M</td>\n",
       "      <td>375</td>\n",
       "      <td>White</td>\n",
       "      <td>NaN</td>\n",
       "      <td>paid</td>\n",
       "      <td>San Antonio-New Braunfels, TX</td>\n",
       "      <td>PUT</td>\n",
       "      <td>Thumbs Up</td>\n",
       "      <td>1528780738000</td>\n",
       "      <td>492</td>\n",
       "      <td>None</td>\n",
       "      <td>307</td>\n",
       "      <td>1543593541000</td>\n",
       "      <td>\"Mozilla/5.0 (iPhone; CPU iPhone OS 7_1_2 like...</td>\n",
       "      <td>300015</td>\n",
       "    </tr>\n",
       "    <tr>\n",
       "      <th>278021</th>\n",
       "      <td>None</td>\n",
       "      <td>Logged In</td>\n",
       "      <td>Emilia</td>\n",
       "      <td>F</td>\n",
       "      <td>8</td>\n",
       "      <td>House</td>\n",
       "      <td>NaN</td>\n",
       "      <td>paid</td>\n",
       "      <td>New York-Newark-Jersey City, NY-NJ-PA</td>\n",
       "      <td>GET</td>\n",
       "      <td>Settings</td>\n",
       "      <td>1538336771000</td>\n",
       "      <td>496</td>\n",
       "      <td>None</td>\n",
       "      <td>200</td>\n",
       "      <td>1543594576000</td>\n",
       "      <td>Mozilla/5.0 (compatible; MSIE 9.0; Windows NT ...</td>\n",
       "      <td>300011</td>\n",
       "    </tr>\n",
       "    <tr>\n",
       "      <th>278024</th>\n",
       "      <td>None</td>\n",
       "      <td>Logged In</td>\n",
       "      <td>Joshua</td>\n",
       "      <td>M</td>\n",
       "      <td>382</td>\n",
       "      <td>White</td>\n",
       "      <td>NaN</td>\n",
       "      <td>paid</td>\n",
       "      <td>San Antonio-New Braunfels, TX</td>\n",
       "      <td>PUT</td>\n",
       "      <td>Thumbs Up</td>\n",
       "      <td>1528780738000</td>\n",
       "      <td>492</td>\n",
       "      <td>None</td>\n",
       "      <td>307</td>\n",
       "      <td>1543594794000</td>\n",
       "      <td>\"Mozilla/5.0 (iPhone; CPU iPhone OS 7_1_2 like...</td>\n",
       "      <td>300015</td>\n",
       "    </tr>\n",
       "    <tr>\n",
       "      <th>278040</th>\n",
       "      <td>None</td>\n",
       "      <td>Logged In</td>\n",
       "      <td>Joshua</td>\n",
       "      <td>M</td>\n",
       "      <td>389</td>\n",
       "      <td>White</td>\n",
       "      <td>NaN</td>\n",
       "      <td>paid</td>\n",
       "      <td>San Antonio-New Braunfels, TX</td>\n",
       "      <td>PUT</td>\n",
       "      <td>Add Friend</td>\n",
       "      <td>1528780738000</td>\n",
       "      <td>492</td>\n",
       "      <td>None</td>\n",
       "      <td>307</td>\n",
       "      <td>1543596785000</td>\n",
       "      <td>\"Mozilla/5.0 (iPhone; CPU iPhone OS 7_1_2 like...</td>\n",
       "      <td>300015</td>\n",
       "    </tr>\n",
       "    <tr>\n",
       "      <th>278041</th>\n",
       "      <td>None</td>\n",
       "      <td>Logged In</td>\n",
       "      <td>Joshua</td>\n",
       "      <td>M</td>\n",
       "      <td>390</td>\n",
       "      <td>White</td>\n",
       "      <td>NaN</td>\n",
       "      <td>paid</td>\n",
       "      <td>San Antonio-New Braunfels, TX</td>\n",
       "      <td>PUT</td>\n",
       "      <td>Add Friend</td>\n",
       "      <td>1528780738000</td>\n",
       "      <td>492</td>\n",
       "      <td>None</td>\n",
       "      <td>307</td>\n",
       "      <td>1543596786000</td>\n",
       "      <td>\"Mozilla/5.0 (iPhone; CPU iPhone OS 7_1_2 like...</td>\n",
       "      <td>300015</td>\n",
       "    </tr>\n",
       "    <tr>\n",
       "      <th>278054</th>\n",
       "      <td>None</td>\n",
       "      <td>Logged In</td>\n",
       "      <td>Lauren</td>\n",
       "      <td>F</td>\n",
       "      <td>12</td>\n",
       "      <td>Boone</td>\n",
       "      <td>NaN</td>\n",
       "      <td>paid</td>\n",
       "      <td>St. Louis, MO-IL</td>\n",
       "      <td>PUT</td>\n",
       "      <td>Thumbs Up</td>\n",
       "      <td>1534859694000</td>\n",
       "      <td>485</td>\n",
       "      <td>None</td>\n",
       "      <td>307</td>\n",
       "      <td>1543600395000</td>\n",
       "      <td>\"Mozilla/5.0 (Windows NT 6.1; WOW64) AppleWebK...</td>\n",
       "      <td>300009</td>\n",
       "    </tr>\n",
       "    <tr>\n",
       "      <th>278059</th>\n",
       "      <td>None</td>\n",
       "      <td>Logged In</td>\n",
       "      <td>Lauren</td>\n",
       "      <td>F</td>\n",
       "      <td>17</td>\n",
       "      <td>Boone</td>\n",
       "      <td>NaN</td>\n",
       "      <td>paid</td>\n",
       "      <td>St. Louis, MO-IL</td>\n",
       "      <td>PUT</td>\n",
       "      <td>Thumbs Up</td>\n",
       "      <td>1534859694000</td>\n",
       "      <td>485</td>\n",
       "      <td>None</td>\n",
       "      <td>307</td>\n",
       "      <td>1543601677000</td>\n",
       "      <td>\"Mozilla/5.0 (Windows NT 6.1; WOW64) AppleWebK...</td>\n",
       "      <td>300009</td>\n",
       "    </tr>\n",
       "    <tr>\n",
       "      <th>278060</th>\n",
       "      <td>None</td>\n",
       "      <td>Logged In</td>\n",
       "      <td>Lauren</td>\n",
       "      <td>F</td>\n",
       "      <td>18</td>\n",
       "      <td>Boone</td>\n",
       "      <td>NaN</td>\n",
       "      <td>paid</td>\n",
       "      <td>St. Louis, MO-IL</td>\n",
       "      <td>PUT</td>\n",
       "      <td>Add to Playlist</td>\n",
       "      <td>1534859694000</td>\n",
       "      <td>485</td>\n",
       "      <td>None</td>\n",
       "      <td>200</td>\n",
       "      <td>1543601693000</td>\n",
       "      <td>\"Mozilla/5.0 (Windows NT 6.1; WOW64) AppleWebK...</td>\n",
       "      <td>300009</td>\n",
       "    </tr>\n",
       "    <tr>\n",
       "      <th>278064</th>\n",
       "      <td>None</td>\n",
       "      <td>Logged In</td>\n",
       "      <td>Lauren</td>\n",
       "      <td>F</td>\n",
       "      <td>22</td>\n",
       "      <td>Boone</td>\n",
       "      <td>NaN</td>\n",
       "      <td>paid</td>\n",
       "      <td>St. Louis, MO-IL</td>\n",
       "      <td>PUT</td>\n",
       "      <td>Thumbs Up</td>\n",
       "      <td>1534859694000</td>\n",
       "      <td>485</td>\n",
       "      <td>None</td>\n",
       "      <td>307</td>\n",
       "      <td>1543602458000</td>\n",
       "      <td>\"Mozilla/5.0 (Windows NT 6.1; WOW64) AppleWebK...</td>\n",
       "      <td>300009</td>\n",
       "    </tr>\n",
       "    <tr>\n",
       "      <th>278068</th>\n",
       "      <td>None</td>\n",
       "      <td>Logged In</td>\n",
       "      <td>Lauren</td>\n",
       "      <td>F</td>\n",
       "      <td>26</td>\n",
       "      <td>Boone</td>\n",
       "      <td>NaN</td>\n",
       "      <td>paid</td>\n",
       "      <td>St. Louis, MO-IL</td>\n",
       "      <td>PUT</td>\n",
       "      <td>Thumbs Up</td>\n",
       "      <td>1534859694000</td>\n",
       "      <td>485</td>\n",
       "      <td>None</td>\n",
       "      <td>307</td>\n",
       "      <td>1543603099000</td>\n",
       "      <td>\"Mozilla/5.0 (Windows NT 6.1; WOW64) AppleWebK...</td>\n",
       "      <td>300009</td>\n",
       "    </tr>\n",
       "    <tr>\n",
       "      <th>278074</th>\n",
       "      <td>None</td>\n",
       "      <td>Logged In</td>\n",
       "      <td>Lauren</td>\n",
       "      <td>F</td>\n",
       "      <td>31</td>\n",
       "      <td>Boone</td>\n",
       "      <td>NaN</td>\n",
       "      <td>paid</td>\n",
       "      <td>St. Louis, MO-IL</td>\n",
       "      <td>PUT</td>\n",
       "      <td>Logout</td>\n",
       "      <td>1534859694000</td>\n",
       "      <td>485</td>\n",
       "      <td>None</td>\n",
       "      <td>307</td>\n",
       "      <td>1543604084000</td>\n",
       "      <td>\"Mozilla/5.0 (Windows NT 6.1; WOW64) AppleWebK...</td>\n",
       "      <td>300009</td>\n",
       "    </tr>\n",
       "    <tr>\n",
       "      <th>278075</th>\n",
       "      <td>None</td>\n",
       "      <td>Logged In</td>\n",
       "      <td>Lauren</td>\n",
       "      <td>F</td>\n",
       "      <td>35</td>\n",
       "      <td>Boone</td>\n",
       "      <td>NaN</td>\n",
       "      <td>paid</td>\n",
       "      <td>St. Louis, MO-IL</td>\n",
       "      <td>GET</td>\n",
       "      <td>Home</td>\n",
       "      <td>1534859694000</td>\n",
       "      <td>485</td>\n",
       "      <td>None</td>\n",
       "      <td>200</td>\n",
       "      <td>1543604239000</td>\n",
       "      <td>\"Mozilla/5.0 (Windows NT 6.1; WOW64) AppleWebK...</td>\n",
       "      <td>300009</td>\n",
       "    </tr>\n",
       "    <tr>\n",
       "      <th>278076</th>\n",
       "      <td>None</td>\n",
       "      <td>Logged In</td>\n",
       "      <td>Lauren</td>\n",
       "      <td>F</td>\n",
       "      <td>36</td>\n",
       "      <td>Boone</td>\n",
       "      <td>NaN</td>\n",
       "      <td>paid</td>\n",
       "      <td>St. Louis, MO-IL</td>\n",
       "      <td>PUT</td>\n",
       "      <td>Add Friend</td>\n",
       "      <td>1534859694000</td>\n",
       "      <td>485</td>\n",
       "      <td>None</td>\n",
       "      <td>307</td>\n",
       "      <td>1543604240000</td>\n",
       "      <td>\"Mozilla/5.0 (Windows NT 6.1; WOW64) AppleWebK...</td>\n",
       "      <td>300009</td>\n",
       "    </tr>\n",
       "    <tr>\n",
       "      <th>278080</th>\n",
       "      <td>None</td>\n",
       "      <td>Logged In</td>\n",
       "      <td>Emma</td>\n",
       "      <td>F</td>\n",
       "      <td>3</td>\n",
       "      <td>Allen</td>\n",
       "      <td>NaN</td>\n",
       "      <td>paid</td>\n",
       "      <td>Wilson, NC</td>\n",
       "      <td>PUT</td>\n",
       "      <td>Logout</td>\n",
       "      <td>1537611935000</td>\n",
       "      <td>498</td>\n",
       "      <td>None</td>\n",
       "      <td>307</td>\n",
       "      <td>1543604493000</td>\n",
       "      <td>\"Mozilla/5.0 (Macintosh; Intel Mac OS X 10_9_4...</td>\n",
       "      <td>300021</td>\n",
       "    </tr>\n",
       "    <tr>\n",
       "      <th>278083</th>\n",
       "      <td>None</td>\n",
       "      <td>Logged In</td>\n",
       "      <td>Emma</td>\n",
       "      <td>F</td>\n",
       "      <td>7</td>\n",
       "      <td>Allen</td>\n",
       "      <td>NaN</td>\n",
       "      <td>paid</td>\n",
       "      <td>Wilson, NC</td>\n",
       "      <td>GET</td>\n",
       "      <td>Home</td>\n",
       "      <td>1537611935000</td>\n",
       "      <td>498</td>\n",
       "      <td>None</td>\n",
       "      <td>200</td>\n",
       "      <td>1543604786000</td>\n",
       "      <td>\"Mozilla/5.0 (Macintosh; Intel Mac OS X 10_9_4...</td>\n",
       "      <td>300021</td>\n",
       "    </tr>\n",
       "    <tr>\n",
       "      <th>278085</th>\n",
       "      <td>None</td>\n",
       "      <td>Logged In</td>\n",
       "      <td>Lauren</td>\n",
       "      <td>F</td>\n",
       "      <td>41</td>\n",
       "      <td>Boone</td>\n",
       "      <td>NaN</td>\n",
       "      <td>paid</td>\n",
       "      <td>St. Louis, MO-IL</td>\n",
       "      <td>PUT</td>\n",
       "      <td>Thumbs Up</td>\n",
       "      <td>1534859694000</td>\n",
       "      <td>485</td>\n",
       "      <td>None</td>\n",
       "      <td>307</td>\n",
       "      <td>1543605019000</td>\n",
       "      <td>\"Mozilla/5.0 (Windows NT 6.1; WOW64) AppleWebK...</td>\n",
       "      <td>300009</td>\n",
       "    </tr>\n",
       "    <tr>\n",
       "      <th>278089</th>\n",
       "      <td>None</td>\n",
       "      <td>Logged In</td>\n",
       "      <td>Lauren</td>\n",
       "      <td>F</td>\n",
       "      <td>43</td>\n",
       "      <td>Boone</td>\n",
       "      <td>NaN</td>\n",
       "      <td>paid</td>\n",
       "      <td>St. Louis, MO-IL</td>\n",
       "      <td>GET</td>\n",
       "      <td>Home</td>\n",
       "      <td>1534859694000</td>\n",
       "      <td>485</td>\n",
       "      <td>None</td>\n",
       "      <td>200</td>\n",
       "      <td>1543605457000</td>\n",
       "      <td>\"Mozilla/5.0 (Windows NT 6.1; WOW64) AppleWebK...</td>\n",
       "      <td>300009</td>\n",
       "    </tr>\n",
       "    <tr>\n",
       "      <th>278103</th>\n",
       "      <td>None</td>\n",
       "      <td>Logged In</td>\n",
       "      <td>Emma</td>\n",
       "      <td>F</td>\n",
       "      <td>23</td>\n",
       "      <td>Allen</td>\n",
       "      <td>NaN</td>\n",
       "      <td>paid</td>\n",
       "      <td>Wilson, NC</td>\n",
       "      <td>PUT</td>\n",
       "      <td>Thumbs Down</td>\n",
       "      <td>1537611935000</td>\n",
       "      <td>498</td>\n",
       "      <td>None</td>\n",
       "      <td>307</td>\n",
       "      <td>1543608481000</td>\n",
       "      <td>\"Mozilla/5.0 (Macintosh; Intel Mac OS X 10_9_4...</td>\n",
       "      <td>300021</td>\n",
       "    </tr>\n",
       "    <tr>\n",
       "      <th>278107</th>\n",
       "      <td>None</td>\n",
       "      <td>Logged In</td>\n",
       "      <td>Emma</td>\n",
       "      <td>F</td>\n",
       "      <td>27</td>\n",
       "      <td>Allen</td>\n",
       "      <td>NaN</td>\n",
       "      <td>paid</td>\n",
       "      <td>Wilson, NC</td>\n",
       "      <td>GET</td>\n",
       "      <td>Home</td>\n",
       "      <td>1537611935000</td>\n",
       "      <td>498</td>\n",
       "      <td>None</td>\n",
       "      <td>200</td>\n",
       "      <td>1543609421000</td>\n",
       "      <td>\"Mozilla/5.0 (Macintosh; Intel Mac OS X 10_9_4...</td>\n",
       "      <td>300021</td>\n",
       "    </tr>\n",
       "    <tr>\n",
       "      <th>278109</th>\n",
       "      <td>None</td>\n",
       "      <td>Logged In</td>\n",
       "      <td>Emma</td>\n",
       "      <td>F</td>\n",
       "      <td>29</td>\n",
       "      <td>Allen</td>\n",
       "      <td>NaN</td>\n",
       "      <td>paid</td>\n",
       "      <td>Wilson, NC</td>\n",
       "      <td>GET</td>\n",
       "      <td>Home</td>\n",
       "      <td>1537611935000</td>\n",
       "      <td>498</td>\n",
       "      <td>None</td>\n",
       "      <td>200</td>\n",
       "      <td>1543609683000</td>\n",
       "      <td>\"Mozilla/5.0 (Macintosh; Intel Mac OS X 10_9_4...</td>\n",
       "      <td>300021</td>\n",
       "    </tr>\n",
       "    <tr>\n",
       "      <th>278113</th>\n",
       "      <td>None</td>\n",
       "      <td>Logged In</td>\n",
       "      <td>Emilia</td>\n",
       "      <td>F</td>\n",
       "      <td>2</td>\n",
       "      <td>House</td>\n",
       "      <td>NaN</td>\n",
       "      <td>paid</td>\n",
       "      <td>New York-Newark-Jersey City, NY-NJ-PA</td>\n",
       "      <td>PUT</td>\n",
       "      <td>Thumbs Up</td>\n",
       "      <td>1538336771000</td>\n",
       "      <td>500</td>\n",
       "      <td>None</td>\n",
       "      <td>307</td>\n",
       "      <td>1543614016000</td>\n",
       "      <td>Mozilla/5.0 (compatible; MSIE 9.0; Windows NT ...</td>\n",
       "      <td>300011</td>\n",
       "    </tr>\n",
       "    <tr>\n",
       "      <th>278116</th>\n",
       "      <td>None</td>\n",
       "      <td>Logged In</td>\n",
       "      <td>Emilia</td>\n",
       "      <td>F</td>\n",
       "      <td>5</td>\n",
       "      <td>House</td>\n",
       "      <td>NaN</td>\n",
       "      <td>paid</td>\n",
       "      <td>New York-Newark-Jersey City, NY-NJ-PA</td>\n",
       "      <td>PUT</td>\n",
       "      <td>Thumbs Down</td>\n",
       "      <td>1538336771000</td>\n",
       "      <td>500</td>\n",
       "      <td>None</td>\n",
       "      <td>307</td>\n",
       "      <td>1543614528000</td>\n",
       "      <td>Mozilla/5.0 (compatible; MSIE 9.0; Windows NT ...</td>\n",
       "      <td>300011</td>\n",
       "    </tr>\n",
       "    <tr>\n",
       "      <th>278126</th>\n",
       "      <td>None</td>\n",
       "      <td>Logged In</td>\n",
       "      <td>Emilia</td>\n",
       "      <td>F</td>\n",
       "      <td>15</td>\n",
       "      <td>House</td>\n",
       "      <td>NaN</td>\n",
       "      <td>paid</td>\n",
       "      <td>New York-Newark-Jersey City, NY-NJ-PA</td>\n",
       "      <td>GET</td>\n",
       "      <td>Home</td>\n",
       "      <td>1538336771000</td>\n",
       "      <td>500</td>\n",
       "      <td>None</td>\n",
       "      <td>200</td>\n",
       "      <td>1543617317000</td>\n",
       "      <td>Mozilla/5.0 (compatible; MSIE 9.0; Windows NT ...</td>\n",
       "      <td>300011</td>\n",
       "    </tr>\n",
       "    <tr>\n",
       "      <th>278132</th>\n",
       "      <td>None</td>\n",
       "      <td>Logged In</td>\n",
       "      <td>Emilia</td>\n",
       "      <td>F</td>\n",
       "      <td>21</td>\n",
       "      <td>House</td>\n",
       "      <td>NaN</td>\n",
       "      <td>paid</td>\n",
       "      <td>New York-Newark-Jersey City, NY-NJ-PA</td>\n",
       "      <td>PUT</td>\n",
       "      <td>Thumbs Up</td>\n",
       "      <td>1538336771000</td>\n",
       "      <td>500</td>\n",
       "      <td>None</td>\n",
       "      <td>307</td>\n",
       "      <td>1543618270000</td>\n",
       "      <td>Mozilla/5.0 (compatible; MSIE 9.0; Windows NT ...</td>\n",
       "      <td>300011</td>\n",
       "    </tr>\n",
       "    <tr>\n",
       "      <th>278136</th>\n",
       "      <td>None</td>\n",
       "      <td>Logged In</td>\n",
       "      <td>Emilia</td>\n",
       "      <td>F</td>\n",
       "      <td>25</td>\n",
       "      <td>House</td>\n",
       "      <td>NaN</td>\n",
       "      <td>paid</td>\n",
       "      <td>New York-Newark-Jersey City, NY-NJ-PA</td>\n",
       "      <td>PUT</td>\n",
       "      <td>Add Friend</td>\n",
       "      <td>1538336771000</td>\n",
       "      <td>500</td>\n",
       "      <td>None</td>\n",
       "      <td>307</td>\n",
       "      <td>1543618841000</td>\n",
       "      <td>Mozilla/5.0 (compatible; MSIE 9.0; Windows NT ...</td>\n",
       "      <td>300011</td>\n",
       "    </tr>\n",
       "    <tr>\n",
       "      <th>278139</th>\n",
       "      <td>None</td>\n",
       "      <td>Logged In</td>\n",
       "      <td>Emilia</td>\n",
       "      <td>F</td>\n",
       "      <td>28</td>\n",
       "      <td>House</td>\n",
       "      <td>NaN</td>\n",
       "      <td>paid</td>\n",
       "      <td>New York-Newark-Jersey City, NY-NJ-PA</td>\n",
       "      <td>GET</td>\n",
       "      <td>Home</td>\n",
       "      <td>1538336771000</td>\n",
       "      <td>500</td>\n",
       "      <td>None</td>\n",
       "      <td>200</td>\n",
       "      <td>1543619556000</td>\n",
       "      <td>Mozilla/5.0 (compatible; MSIE 9.0; Windows NT ...</td>\n",
       "      <td>300011</td>\n",
       "    </tr>\n",
       "    <tr>\n",
       "      <th>278147</th>\n",
       "      <td>None</td>\n",
       "      <td>Logged In</td>\n",
       "      <td>Emilia</td>\n",
       "      <td>F</td>\n",
       "      <td>36</td>\n",
       "      <td>House</td>\n",
       "      <td>NaN</td>\n",
       "      <td>paid</td>\n",
       "      <td>New York-Newark-Jersey City, NY-NJ-PA</td>\n",
       "      <td>GET</td>\n",
       "      <td>Home</td>\n",
       "      <td>1538336771000</td>\n",
       "      <td>500</td>\n",
       "      <td>None</td>\n",
       "      <td>200</td>\n",
       "      <td>1543621485000</td>\n",
       "      <td>Mozilla/5.0 (compatible; MSIE 9.0; Windows NT ...</td>\n",
       "      <td>300011</td>\n",
       "    </tr>\n",
       "    <tr>\n",
       "      <th>278150</th>\n",
       "      <td>None</td>\n",
       "      <td>Logged In</td>\n",
       "      <td>Emilia</td>\n",
       "      <td>F</td>\n",
       "      <td>39</td>\n",
       "      <td>House</td>\n",
       "      <td>NaN</td>\n",
       "      <td>paid</td>\n",
       "      <td>New York-Newark-Jersey City, NY-NJ-PA</td>\n",
       "      <td>PUT</td>\n",
       "      <td>Logout</td>\n",
       "      <td>1538336771000</td>\n",
       "      <td>500</td>\n",
       "      <td>None</td>\n",
       "      <td>307</td>\n",
       "      <td>1543622122000</td>\n",
       "      <td>Mozilla/5.0 (compatible; MSIE 9.0; Windows NT ...</td>\n",
       "      <td>300011</td>\n",
       "    </tr>\n",
       "    <tr>\n",
       "      <th>278151</th>\n",
       "      <td>None</td>\n",
       "      <td>Logged In</td>\n",
       "      <td>Emilia</td>\n",
       "      <td>F</td>\n",
       "      <td>43</td>\n",
       "      <td>House</td>\n",
       "      <td>NaN</td>\n",
       "      <td>paid</td>\n",
       "      <td>New York-Newark-Jersey City, NY-NJ-PA</td>\n",
       "      <td>GET</td>\n",
       "      <td>Home</td>\n",
       "      <td>1538336771000</td>\n",
       "      <td>500</td>\n",
       "      <td>None</td>\n",
       "      <td>200</td>\n",
       "      <td>1543622248000</td>\n",
       "      <td>Mozilla/5.0 (compatible; MSIE 9.0; Windows NT ...</td>\n",
       "      <td>300011</td>\n",
       "    </tr>\n",
       "    <tr>\n",
       "      <th>278152</th>\n",
       "      <td>None</td>\n",
       "      <td>Logged In</td>\n",
       "      <td>Emilia</td>\n",
       "      <td>F</td>\n",
       "      <td>44</td>\n",
       "      <td>House</td>\n",
       "      <td>NaN</td>\n",
       "      <td>paid</td>\n",
       "      <td>New York-Newark-Jersey City, NY-NJ-PA</td>\n",
       "      <td>GET</td>\n",
       "      <td>About</td>\n",
       "      <td>1538336771000</td>\n",
       "      <td>500</td>\n",
       "      <td>None</td>\n",
       "      <td>200</td>\n",
       "      <td>1543622398000</td>\n",
       "      <td>Mozilla/5.0 (compatible; MSIE 9.0; Windows NT ...</td>\n",
       "      <td>300011</td>\n",
       "    </tr>\n",
       "  </tbody>\n",
       "</table>\n",
       "<p>50046 rows × 18 columns</p>\n",
       "</div>"
      ],
      "text/plain": [
       "       artist       auth firstName gender  itemInSession  lastName  length  \\\n",
       "8        None  Logged In     Colin      M             54   Freeman     NaN   \n",
       "11       None  Logged In     Micah      M             84      Long     NaN   \n",
       "14       None  Logged In     Micah      M             86      Long     NaN   \n",
       "35       None  Logged In     Alexi      F              4    Warren     NaN   \n",
       "44       None  Logged In     Alexi      F              7    Warren     NaN   \n",
       "47       None  Logged In     Micah      M             95      Long     NaN   \n",
       "51       None  Logged In     Micah      M             97      Long     NaN   \n",
       "53       None  Logged In     Micah      M             99      Long     NaN   \n",
       "56       None  Logged In   Ashlynn      F              9  Williams     NaN   \n",
       "57       None  Logged In     Micah      M            104      Long     NaN   \n",
       "67       None  Logged In     Colin      M             71   Freeman     NaN   \n",
       "71       None  Logged In    Warren      M              1    Miller     NaN   \n",
       "72       None  Logged In    Warren      M              4    Miller     NaN   \n",
       "75       None  Logged In   Ashlynn      F             15  Williams     NaN   \n",
       "80       None  Logged In    Warren      M              6    Miller     NaN   \n",
       "82       None  Logged In   Ashlynn      F             18  Williams     NaN   \n",
       "85       None  Logged In     Micah      M            111      Long     NaN   \n",
       "95       None  Logged In     Colin      M             77   Freeman     NaN   \n",
       "99       None  Logged In   Ashlynn      F             22  Williams     NaN   \n",
       "101      None  Logged In     Colin      M             79   Freeman     NaN   \n",
       "105      None  Logged In   Ashlynn      F             24  Williams     NaN   \n",
       "111      None  Logged In      Alex      M              1     Hogan     NaN   \n",
       "115      None  Logged In     Micah      M            119      Long     NaN   \n",
       "120      None  Logged In   Ainsley      F              0    Farley     NaN   \n",
       "123      None  Logged In     Micah      M            122      Long     NaN   \n",
       "132      None  Logged In      Alex      M              7     Hogan     NaN   \n",
       "137      None  Logged In     Micah      M            124      Long     NaN   \n",
       "138      None  Logged In     Micah      M            125      Long     NaN   \n",
       "139      None  Logged In    Zyonna      F              1      Bird     NaN   \n",
       "144      None  Logged In     Micah      M            127      Long     NaN   \n",
       "...       ...        ...       ...    ...            ...       ...     ...   \n",
       "278013   None  Logged In    Joshua      M            375     White     NaN   \n",
       "278021   None  Logged In    Emilia      F              8     House     NaN   \n",
       "278024   None  Logged In    Joshua      M            382     White     NaN   \n",
       "278040   None  Logged In    Joshua      M            389     White     NaN   \n",
       "278041   None  Logged In    Joshua      M            390     White     NaN   \n",
       "278054   None  Logged In    Lauren      F             12     Boone     NaN   \n",
       "278059   None  Logged In    Lauren      F             17     Boone     NaN   \n",
       "278060   None  Logged In    Lauren      F             18     Boone     NaN   \n",
       "278064   None  Logged In    Lauren      F             22     Boone     NaN   \n",
       "278068   None  Logged In    Lauren      F             26     Boone     NaN   \n",
       "278074   None  Logged In    Lauren      F             31     Boone     NaN   \n",
       "278075   None  Logged In    Lauren      F             35     Boone     NaN   \n",
       "278076   None  Logged In    Lauren      F             36     Boone     NaN   \n",
       "278080   None  Logged In      Emma      F              3     Allen     NaN   \n",
       "278083   None  Logged In      Emma      F              7     Allen     NaN   \n",
       "278085   None  Logged In    Lauren      F             41     Boone     NaN   \n",
       "278089   None  Logged In    Lauren      F             43     Boone     NaN   \n",
       "278103   None  Logged In      Emma      F             23     Allen     NaN   \n",
       "278107   None  Logged In      Emma      F             27     Allen     NaN   \n",
       "278109   None  Logged In      Emma      F             29     Allen     NaN   \n",
       "278113   None  Logged In    Emilia      F              2     House     NaN   \n",
       "278116   None  Logged In    Emilia      F              5     House     NaN   \n",
       "278126   None  Logged In    Emilia      F             15     House     NaN   \n",
       "278132   None  Logged In    Emilia      F             21     House     NaN   \n",
       "278136   None  Logged In    Emilia      F             25     House     NaN   \n",
       "278139   None  Logged In    Emilia      F             28     House     NaN   \n",
       "278147   None  Logged In    Emilia      F             36     House     NaN   \n",
       "278150   None  Logged In    Emilia      F             39     House     NaN   \n",
       "278151   None  Logged In    Emilia      F             43     House     NaN   \n",
       "278152   None  Logged In    Emilia      F             44     House     NaN   \n",
       "\n",
       "       level                               location method             page  \\\n",
       "8       paid                        Bakersfield, CA    PUT  Add to Playlist   \n",
       "11      free         Boston-Cambridge-Newton, MA-NH    GET      Roll Advert   \n",
       "14      free         Boston-Cambridge-Newton, MA-NH    PUT        Thumbs Up   \n",
       "35      paid             Spokane-Spokane Valley, WA    GET        Downgrade   \n",
       "44      paid             Spokane-Spokane Valley, WA    PUT        Thumbs Up   \n",
       "47      free         Boston-Cambridge-Newton, MA-NH    PUT      Thumbs Down   \n",
       "51      free         Boston-Cambridge-Newton, MA-NH    GET             Home   \n",
       "53      free         Boston-Cambridge-Newton, MA-NH    PUT           Logout   \n",
       "56      free                        Tallahassee, FL    PUT        Thumbs Up   \n",
       "57      free         Boston-Cambridge-Newton, MA-NH    GET             Home   \n",
       "67      paid                        Bakersfield, CA    PUT      Thumbs Down   \n",
       "71      free          Baltimore-Columbia-Towson, MD    PUT           Logout   \n",
       "72      free          Baltimore-Columbia-Towson, MD    GET             Home   \n",
       "75      free                        Tallahassee, FL    PUT  Add to Playlist   \n",
       "80      free          Baltimore-Columbia-Towson, MD    GET             Home   \n",
       "82      free                        Tallahassee, FL    PUT        Thumbs Up   \n",
       "85      free         Boston-Cambridge-Newton, MA-NH    PUT        Thumbs Up   \n",
       "95      paid                        Bakersfield, CA    PUT        Thumbs Up   \n",
       "99      free                        Tallahassee, FL    PUT        Thumbs Up   \n",
       "101     paid                        Bakersfield, CA    PUT        Thumbs Up   \n",
       "105     free                        Tallahassee, FL    PUT      Thumbs Down   \n",
       "111     free             Denver-Aurora-Lakewood, CO    GET             Home   \n",
       "115     free         Boston-Cambridge-Newton, MA-NH    GET      Roll Advert   \n",
       "120     free           McAllen-Edinburg-Mission, TX    GET             Home   \n",
       "123     free         Boston-Cambridge-Newton, MA-NH    PUT  Add to Playlist   \n",
       "132     free             Denver-Aurora-Lakewood, CO    GET             Help   \n",
       "137     free         Boston-Cambridge-Newton, MA-NH    GET          Upgrade   \n",
       "138     free         Boston-Cambridge-Newton, MA-NH    GET          Upgrade   \n",
       "139     free                        Columbus, GA-AL    GET             Home   \n",
       "144     free         Boston-Cambridge-Newton, MA-NH    GET      Roll Advert   \n",
       "...      ...                                    ...    ...              ...   \n",
       "278013  paid          San Antonio-New Braunfels, TX    PUT        Thumbs Up   \n",
       "278021  paid  New York-Newark-Jersey City, NY-NJ-PA    GET         Settings   \n",
       "278024  paid          San Antonio-New Braunfels, TX    PUT        Thumbs Up   \n",
       "278040  paid          San Antonio-New Braunfels, TX    PUT       Add Friend   \n",
       "278041  paid          San Antonio-New Braunfels, TX    PUT       Add Friend   \n",
       "278054  paid                       St. Louis, MO-IL    PUT        Thumbs Up   \n",
       "278059  paid                       St. Louis, MO-IL    PUT        Thumbs Up   \n",
       "278060  paid                       St. Louis, MO-IL    PUT  Add to Playlist   \n",
       "278064  paid                       St. Louis, MO-IL    PUT        Thumbs Up   \n",
       "278068  paid                       St. Louis, MO-IL    PUT        Thumbs Up   \n",
       "278074  paid                       St. Louis, MO-IL    PUT           Logout   \n",
       "278075  paid                       St. Louis, MO-IL    GET             Home   \n",
       "278076  paid                       St. Louis, MO-IL    PUT       Add Friend   \n",
       "278080  paid                             Wilson, NC    PUT           Logout   \n",
       "278083  paid                             Wilson, NC    GET             Home   \n",
       "278085  paid                       St. Louis, MO-IL    PUT        Thumbs Up   \n",
       "278089  paid                       St. Louis, MO-IL    GET             Home   \n",
       "278103  paid                             Wilson, NC    PUT      Thumbs Down   \n",
       "278107  paid                             Wilson, NC    GET             Home   \n",
       "278109  paid                             Wilson, NC    GET             Home   \n",
       "278113  paid  New York-Newark-Jersey City, NY-NJ-PA    PUT        Thumbs Up   \n",
       "278116  paid  New York-Newark-Jersey City, NY-NJ-PA    PUT      Thumbs Down   \n",
       "278126  paid  New York-Newark-Jersey City, NY-NJ-PA    GET             Home   \n",
       "278132  paid  New York-Newark-Jersey City, NY-NJ-PA    PUT        Thumbs Up   \n",
       "278136  paid  New York-Newark-Jersey City, NY-NJ-PA    PUT       Add Friend   \n",
       "278139  paid  New York-Newark-Jersey City, NY-NJ-PA    GET             Home   \n",
       "278147  paid  New York-Newark-Jersey City, NY-NJ-PA    GET             Home   \n",
       "278150  paid  New York-Newark-Jersey City, NY-NJ-PA    PUT           Logout   \n",
       "278151  paid  New York-Newark-Jersey City, NY-NJ-PA    GET             Home   \n",
       "278152  paid  New York-Newark-Jersey City, NY-NJ-PA    GET            About   \n",
       "\n",
       "         registration  sessionId  song  status             ts  \\\n",
       "8       1538173362000         29  None     200  1538352905000   \n",
       "11      1538331630000          8  None     200  1538353150000   \n",
       "14      1538331630000          8  None     307  1538353376000   \n",
       "35      1532482662000         53  None     200  1538354749000   \n",
       "44      1532482662000         53  None     307  1538355255000   \n",
       "47      1538331630000          8  None     307  1538355306000   \n",
       "51      1538331630000          8  None     200  1538355504000   \n",
       "53      1538331630000          8  None     307  1538355687000   \n",
       "56      1537365219000        217  None     307  1538355711000   \n",
       "57      1538331630000          8  None     200  1538355855000   \n",
       "67      1538173362000         29  None     307  1538356524000   \n",
       "71      1538169823000        240  None     307  1538356651000   \n",
       "72      1538169823000        240  None     200  1538356686000   \n",
       "75      1537365219000        217  None     200  1538356816000   \n",
       "80      1538169823000        240  None     200  1538356954000   \n",
       "82      1537365219000        217  None     307  1538357104000   \n",
       "85      1538331630000          8  None     307  1538357160000   \n",
       "95      1538173362000         29  None     307  1538357649000   \n",
       "99      1537365219000        217  None     307  1538357916000   \n",
       "101     1538173362000         29  None     307  1538357991000   \n",
       "105     1537365219000        217  None     307  1538358192000   \n",
       "111     1535066380000        100  None     200  1538358605000   \n",
       "115     1538331630000          8  None     200  1538358779000   \n",
       "120     1538304455000        187  None     200  1538359181000   \n",
       "123     1538331630000          8  None     200  1538359261000   \n",
       "132     1535066380000        100  None     200  1538359923000   \n",
       "137     1538331630000          8  None     200  1538360042000   \n",
       "138     1538331630000          8  None     200  1538360044000   \n",
       "139     1536663902000        241  None     200  1538360138000   \n",
       "144     1538331630000          8  None     200  1538360228000   \n",
       "...               ...        ...   ...     ...            ...   \n",
       "278013  1528780738000        492  None     307  1543593541000   \n",
       "278021  1538336771000        496  None     200  1543594576000   \n",
       "278024  1528780738000        492  None     307  1543594794000   \n",
       "278040  1528780738000        492  None     307  1543596785000   \n",
       "278041  1528780738000        492  None     307  1543596786000   \n",
       "278054  1534859694000        485  None     307  1543600395000   \n",
       "278059  1534859694000        485  None     307  1543601677000   \n",
       "278060  1534859694000        485  None     200  1543601693000   \n",
       "278064  1534859694000        485  None     307  1543602458000   \n",
       "278068  1534859694000        485  None     307  1543603099000   \n",
       "278074  1534859694000        485  None     307  1543604084000   \n",
       "278075  1534859694000        485  None     200  1543604239000   \n",
       "278076  1534859694000        485  None     307  1543604240000   \n",
       "278080  1537611935000        498  None     307  1543604493000   \n",
       "278083  1537611935000        498  None     200  1543604786000   \n",
       "278085  1534859694000        485  None     307  1543605019000   \n",
       "278089  1534859694000        485  None     200  1543605457000   \n",
       "278103  1537611935000        498  None     307  1543608481000   \n",
       "278107  1537611935000        498  None     200  1543609421000   \n",
       "278109  1537611935000        498  None     200  1543609683000   \n",
       "278113  1538336771000        500  None     307  1543614016000   \n",
       "278116  1538336771000        500  None     307  1543614528000   \n",
       "278126  1538336771000        500  None     200  1543617317000   \n",
       "278132  1538336771000        500  None     307  1543618270000   \n",
       "278136  1538336771000        500  None     307  1543618841000   \n",
       "278139  1538336771000        500  None     200  1543619556000   \n",
       "278147  1538336771000        500  None     200  1543621485000   \n",
       "278150  1538336771000        500  None     307  1543622122000   \n",
       "278151  1538336771000        500  None     200  1543622248000   \n",
       "278152  1538336771000        500  None     200  1543622398000   \n",
       "\n",
       "                                                userAgent  userId  \n",
       "8       Mozilla/5.0 (Windows NT 6.1; WOW64; rv:31.0) G...      30  \n",
       "11      \"Mozilla/5.0 (Windows NT 6.1; WOW64) AppleWebK...       9  \n",
       "14      \"Mozilla/5.0 (Windows NT 6.1; WOW64) AppleWebK...       9  \n",
       "35      Mozilla/5.0 (Windows NT 6.1; WOW64; rv:32.0) G...      54  \n",
       "44      Mozilla/5.0 (Windows NT 6.1; WOW64; rv:32.0) G...      54  \n",
       "47      \"Mozilla/5.0 (Windows NT 6.1; WOW64) AppleWebK...       9  \n",
       "51      \"Mozilla/5.0 (Windows NT 6.1; WOW64) AppleWebK...       9  \n",
       "53      \"Mozilla/5.0 (Windows NT 6.1; WOW64) AppleWebK...       9  \n",
       "56      \"Mozilla/5.0 (Macintosh; Intel Mac OS X 10_9_4...      74  \n",
       "57      \"Mozilla/5.0 (Windows NT 6.1; WOW64) AppleWebK...       9  \n",
       "67      Mozilla/5.0 (Windows NT 6.1; WOW64; rv:31.0) G...      30  \n",
       "71      Mozilla/5.0 (Windows NT 6.0; rv:31.0) Gecko/20...       4  \n",
       "72      Mozilla/5.0 (Windows NT 6.0; rv:31.0) Gecko/20...       4  \n",
       "75      \"Mozilla/5.0 (Macintosh; Intel Mac OS X 10_9_4...      74  \n",
       "80      Mozilla/5.0 (Windows NT 6.0; rv:31.0) Gecko/20...       4  \n",
       "82      \"Mozilla/5.0 (Macintosh; Intel Mac OS X 10_9_4...      74  \n",
       "85      \"Mozilla/5.0 (Windows NT 6.1; WOW64) AppleWebK...       9  \n",
       "95      Mozilla/5.0 (Windows NT 6.1; WOW64; rv:31.0) G...      30  \n",
       "99      \"Mozilla/5.0 (Macintosh; Intel Mac OS X 10_9_4...      74  \n",
       "101     Mozilla/5.0 (Windows NT 6.1; WOW64; rv:31.0) G...      30  \n",
       "105     \"Mozilla/5.0 (Macintosh; Intel Mac OS X 10_9_4...      74  \n",
       "111     Mozilla/5.0 (Windows NT 6.2; WOW64; rv:31.0) G...     101  \n",
       "115     \"Mozilla/5.0 (Windows NT 6.1; WOW64) AppleWebK...       9  \n",
       "120     \"Mozilla/5.0 (Windows NT 6.1; WOW64) AppleWebK...      78  \n",
       "123     \"Mozilla/5.0 (Windows NT 6.1; WOW64) AppleWebK...       9  \n",
       "132     Mozilla/5.0 (Windows NT 6.2; WOW64; rv:31.0) G...     101  \n",
       "137     \"Mozilla/5.0 (Windows NT 6.1; WOW64) AppleWebK...       9  \n",
       "138     \"Mozilla/5.0 (Windows NT 6.1; WOW64) AppleWebK...       9  \n",
       "139     Mozilla/5.0 (Windows NT 6.1; WOW64; rv:31.0) G...      88  \n",
       "144     \"Mozilla/5.0 (Windows NT 6.1; WOW64) AppleWebK...       9  \n",
       "...                                                   ...     ...  \n",
       "278013  \"Mozilla/5.0 (iPhone; CPU iPhone OS 7_1_2 like...  300015  \n",
       "278021  Mozilla/5.0 (compatible; MSIE 9.0; Windows NT ...  300011  \n",
       "278024  \"Mozilla/5.0 (iPhone; CPU iPhone OS 7_1_2 like...  300015  \n",
       "278040  \"Mozilla/5.0 (iPhone; CPU iPhone OS 7_1_2 like...  300015  \n",
       "278041  \"Mozilla/5.0 (iPhone; CPU iPhone OS 7_1_2 like...  300015  \n",
       "278054  \"Mozilla/5.0 (Windows NT 6.1; WOW64) AppleWebK...  300009  \n",
       "278059  \"Mozilla/5.0 (Windows NT 6.1; WOW64) AppleWebK...  300009  \n",
       "278060  \"Mozilla/5.0 (Windows NT 6.1; WOW64) AppleWebK...  300009  \n",
       "278064  \"Mozilla/5.0 (Windows NT 6.1; WOW64) AppleWebK...  300009  \n",
       "278068  \"Mozilla/5.0 (Windows NT 6.1; WOW64) AppleWebK...  300009  \n",
       "278074  \"Mozilla/5.0 (Windows NT 6.1; WOW64) AppleWebK...  300009  \n",
       "278075  \"Mozilla/5.0 (Windows NT 6.1; WOW64) AppleWebK...  300009  \n",
       "278076  \"Mozilla/5.0 (Windows NT 6.1; WOW64) AppleWebK...  300009  \n",
       "278080  \"Mozilla/5.0 (Macintosh; Intel Mac OS X 10_9_4...  300021  \n",
       "278083  \"Mozilla/5.0 (Macintosh; Intel Mac OS X 10_9_4...  300021  \n",
       "278085  \"Mozilla/5.0 (Windows NT 6.1; WOW64) AppleWebK...  300009  \n",
       "278089  \"Mozilla/5.0 (Windows NT 6.1; WOW64) AppleWebK...  300009  \n",
       "278103  \"Mozilla/5.0 (Macintosh; Intel Mac OS X 10_9_4...  300021  \n",
       "278107  \"Mozilla/5.0 (Macintosh; Intel Mac OS X 10_9_4...  300021  \n",
       "278109  \"Mozilla/5.0 (Macintosh; Intel Mac OS X 10_9_4...  300021  \n",
       "278113  Mozilla/5.0 (compatible; MSIE 9.0; Windows NT ...  300011  \n",
       "278116  Mozilla/5.0 (compatible; MSIE 9.0; Windows NT ...  300011  \n",
       "278126  Mozilla/5.0 (compatible; MSIE 9.0; Windows NT ...  300011  \n",
       "278132  Mozilla/5.0 (compatible; MSIE 9.0; Windows NT ...  300011  \n",
       "278136  Mozilla/5.0 (compatible; MSIE 9.0; Windows NT ...  300011  \n",
       "278139  Mozilla/5.0 (compatible; MSIE 9.0; Windows NT ...  300011  \n",
       "278147  Mozilla/5.0 (compatible; MSIE 9.0; Windows NT ...  300011  \n",
       "278150  Mozilla/5.0 (compatible; MSIE 9.0; Windows NT ...  300011  \n",
       "278151  Mozilla/5.0 (compatible; MSIE 9.0; Windows NT ...  300011  \n",
       "278152  Mozilla/5.0 (compatible; MSIE 9.0; Windows NT ...  300011  \n",
       "\n",
       "[50046 rows x 18 columns]"
      ]
     },
     "execution_count": 23,
     "metadata": {},
     "output_type": "execute_result"
    }
   ],
   "source": [
    "df_pandas[df_pandas.isnull().any(axis=1)]"
   ]
  },
  {
   "cell_type": "markdown",
   "metadata": {},
   "source": [
    "Since we will make analysis based on Chunk, it is not needed to drop the None values in artist, length, and song column. Because, they indicate that user is logged in but not listening any song yet therefore no length value."
   ]
  },
  {
   "cell_type": "code",
   "execution_count": 24,
   "metadata": {},
   "outputs": [
    {
     "name": "stdout",
     "output_type": "stream",
     "text": [
      "Unique values in auth  column : \n",
      "['Logged In' 'Cancelled']\n",
      "Unique values in gender  column : \n",
      "['M' 'F']\n",
      "Unique values in level  column : \n",
      "['paid' 'free']\n",
      "Unique values in method  column : \n",
      "['PUT' 'GET']\n",
      "Unique values in page  column : \n",
      "['NextSong' 'Add to Playlist' 'Roll Advert' 'Thumbs Up' 'Downgrade'\n",
      " 'Thumbs Down' 'Home' 'Logout' 'Help' 'Upgrade' 'Add Friend' 'Settings'\n",
      " 'Submit Upgrade' 'About' 'Submit Downgrade' 'Error' 'Save Settings'\n",
      " 'Cancel' 'Cancellation Confirmation']\n",
      "Unique values in status  column : \n",
      "[200 307 404]\n"
     ]
    }
   ],
   "source": [
    "print('Unique values in auth  column : \\n{}'.format(df_pandas['auth'].unique()))\n",
    "print('Unique values in gender  column : \\n{}'.format(df_pandas['gender'].unique()))\n",
    "print('Unique values in level  column : \\n{}'.format(df_pandas['level'].unique()))\n",
    "print('Unique values in method  column : \\n{}'.format(df_pandas['method'].unique()))\n",
    "print('Unique values in page  column : \\n{}'.format(df_pandas['page'].unique()))\n",
    "print('Unique values in status  column : \\n{}'.format(df_pandas['status'].unique()))"
   ]
  },
  {
   "cell_type": "markdown",
   "metadata": {},
   "source": [
    "It is seen that after dropping the ' ' values in UserId column, we also clean the FirstName, Gender, LastName, Location, Registration, and UserAgent columns which have the same missing number count as UserId ' ' count."
   ]
  },
  {
   "cell_type": "markdown",
   "metadata": {},
   "source": [
    "When we compare the unique values in dataset before and after the cleaning of UserId column, it is seen that we have lost two information in the auth column, Logged out and Guest. Additionaly, in the page column, we do not have Login, Registration, and Submit Registration informations anymore. \n",
    "\n",
    "Since we have dropped the *empty* user ıds, it might be logical in the sense of users without userid can be guests or logged out users. It make sense for page column also because the lost informations are related to guest users and logged out users.\n",
    "\n",
    "It is also logical that we have lost None values in gender column, because guest users or logged out users do not have gender information. \n",
    "\n"
   ]
  },
  {
   "cell_type": "markdown",
   "metadata": {},
   "source": [
    "#### Converting The Timestamp"
   ]
  },
  {
   "cell_type": "markdown",
   "metadata": {},
   "source": [
    "[1] https://pandas.pydata.org/pandas-docs/stable/reference/api/pandas.Timestamp.html\n",
    "\n",
    "[2] https://stackoverflow.com/questions/13890935/does-pythons-time-time-return-the-local-or-utc-timestamp\n",
    "\n",
    "[3] https://stackoverflow.com/questions/2265357/parse-date-string-and-change-format"
   ]
  },
  {
   "cell_type": "code",
   "execution_count": 25,
   "metadata": {},
   "outputs": [
    {
     "data": {
      "text/plain": [
       "0    1538352117000\n",
       "1    1538352180000\n",
       "2    1538352394000\n",
       "3    1538352416000\n",
       "4    1538352676000\n",
       "Name: ts, dtype: int64"
      ]
     },
     "execution_count": 25,
     "metadata": {},
     "output_type": "execute_result"
    }
   ],
   "source": [
    "df_pandas['ts'].head()"
   ]
  },
  {
   "cell_type": "code",
   "execution_count": 26,
   "metadata": {},
   "outputs": [],
   "source": [
    "get_time = udf(lambda x: datetime.datetime.fromtimestamp(x / 1000.0).strftime(\"%Y-%m-%d %H:%M:%S\"))\n",
    "df = df.withColumn(\"time\", get_time(df.ts))"
   ]
  },
  {
   "cell_type": "markdown",
   "metadata": {},
   "source": [
    "In order to use Python function in Spark, I have used udf.\n",
    "\n",
    "[1] https://changhsinlee.com/pyspark-udf/\n",
    "\n",
    "[2] https://docs.databricks.com/spark/latest/spark-sql/udf-python.html"
   ]
  },
  {
   "cell_type": "code",
   "execution_count": 27,
   "metadata": {},
   "outputs": [],
   "source": [
    "df_pandas = df.toPandas()"
   ]
  },
  {
   "cell_type": "code",
   "execution_count": 28,
   "metadata": {
    "scrolled": true
   },
   "outputs": [
    {
     "data": {
      "text/html": [
       "<div>\n",
       "<style scoped>\n",
       "    .dataframe tbody tr th:only-of-type {\n",
       "        vertical-align: middle;\n",
       "    }\n",
       "\n",
       "    .dataframe tbody tr th {\n",
       "        vertical-align: top;\n",
       "    }\n",
       "\n",
       "    .dataframe thead th {\n",
       "        text-align: right;\n",
       "    }\n",
       "</style>\n",
       "<table border=\"1\" class=\"dataframe\">\n",
       "  <thead>\n",
       "    <tr style=\"text-align: right;\">\n",
       "      <th></th>\n",
       "      <th>artist</th>\n",
       "      <th>auth</th>\n",
       "      <th>firstName</th>\n",
       "      <th>gender</th>\n",
       "      <th>itemInSession</th>\n",
       "      <th>lastName</th>\n",
       "      <th>length</th>\n",
       "      <th>level</th>\n",
       "      <th>location</th>\n",
       "      <th>method</th>\n",
       "      <th>page</th>\n",
       "      <th>registration</th>\n",
       "      <th>sessionId</th>\n",
       "      <th>song</th>\n",
       "      <th>status</th>\n",
       "      <th>ts</th>\n",
       "      <th>userAgent</th>\n",
       "      <th>userId</th>\n",
       "      <th>time</th>\n",
       "    </tr>\n",
       "  </thead>\n",
       "  <tbody>\n",
       "    <tr>\n",
       "      <th>0</th>\n",
       "      <td>Martha Tilston</td>\n",
       "      <td>Logged In</td>\n",
       "      <td>Colin</td>\n",
       "      <td>M</td>\n",
       "      <td>50</td>\n",
       "      <td>Freeman</td>\n",
       "      <td>277.89016</td>\n",
       "      <td>paid</td>\n",
       "      <td>Bakersfield, CA</td>\n",
       "      <td>PUT</td>\n",
       "      <td>NextSong</td>\n",
       "      <td>1538173362000</td>\n",
       "      <td>29</td>\n",
       "      <td>Rockpools</td>\n",
       "      <td>200</td>\n",
       "      <td>1538352117000</td>\n",
       "      <td>Mozilla/5.0 (Windows NT 6.1; WOW64; rv:31.0) G...</td>\n",
       "      <td>30</td>\n",
       "      <td>2018-10-01 00:01:57</td>\n",
       "    </tr>\n",
       "    <tr>\n",
       "      <th>1</th>\n",
       "      <td>Five Iron Frenzy</td>\n",
       "      <td>Logged In</td>\n",
       "      <td>Micah</td>\n",
       "      <td>M</td>\n",
       "      <td>79</td>\n",
       "      <td>Long</td>\n",
       "      <td>236.09424</td>\n",
       "      <td>free</td>\n",
       "      <td>Boston-Cambridge-Newton, MA-NH</td>\n",
       "      <td>PUT</td>\n",
       "      <td>NextSong</td>\n",
       "      <td>1538331630000</td>\n",
       "      <td>8</td>\n",
       "      <td>Canada</td>\n",
       "      <td>200</td>\n",
       "      <td>1538352180000</td>\n",
       "      <td>\"Mozilla/5.0 (Windows NT 6.1; WOW64) AppleWebK...</td>\n",
       "      <td>9</td>\n",
       "      <td>2018-10-01 00:03:00</td>\n",
       "    </tr>\n",
       "    <tr>\n",
       "      <th>2</th>\n",
       "      <td>Adam Lambert</td>\n",
       "      <td>Logged In</td>\n",
       "      <td>Colin</td>\n",
       "      <td>M</td>\n",
       "      <td>51</td>\n",
       "      <td>Freeman</td>\n",
       "      <td>282.82730</td>\n",
       "      <td>paid</td>\n",
       "      <td>Bakersfield, CA</td>\n",
       "      <td>PUT</td>\n",
       "      <td>NextSong</td>\n",
       "      <td>1538173362000</td>\n",
       "      <td>29</td>\n",
       "      <td>Time For Miracles</td>\n",
       "      <td>200</td>\n",
       "      <td>1538352394000</td>\n",
       "      <td>Mozilla/5.0 (Windows NT 6.1; WOW64; rv:31.0) G...</td>\n",
       "      <td>30</td>\n",
       "      <td>2018-10-01 00:06:34</td>\n",
       "    </tr>\n",
       "    <tr>\n",
       "      <th>3</th>\n",
       "      <td>Enigma</td>\n",
       "      <td>Logged In</td>\n",
       "      <td>Micah</td>\n",
       "      <td>M</td>\n",
       "      <td>80</td>\n",
       "      <td>Long</td>\n",
       "      <td>262.71302</td>\n",
       "      <td>free</td>\n",
       "      <td>Boston-Cambridge-Newton, MA-NH</td>\n",
       "      <td>PUT</td>\n",
       "      <td>NextSong</td>\n",
       "      <td>1538331630000</td>\n",
       "      <td>8</td>\n",
       "      <td>Knocking On Forbidden Doors</td>\n",
       "      <td>200</td>\n",
       "      <td>1538352416000</td>\n",
       "      <td>\"Mozilla/5.0 (Windows NT 6.1; WOW64) AppleWebK...</td>\n",
       "      <td>9</td>\n",
       "      <td>2018-10-01 00:06:56</td>\n",
       "    </tr>\n",
       "    <tr>\n",
       "      <th>4</th>\n",
       "      <td>Daft Punk</td>\n",
       "      <td>Logged In</td>\n",
       "      <td>Colin</td>\n",
       "      <td>M</td>\n",
       "      <td>52</td>\n",
       "      <td>Freeman</td>\n",
       "      <td>223.60771</td>\n",
       "      <td>paid</td>\n",
       "      <td>Bakersfield, CA</td>\n",
       "      <td>PUT</td>\n",
       "      <td>NextSong</td>\n",
       "      <td>1538173362000</td>\n",
       "      <td>29</td>\n",
       "      <td>Harder Better Faster Stronger</td>\n",
       "      <td>200</td>\n",
       "      <td>1538352676000</td>\n",
       "      <td>Mozilla/5.0 (Windows NT 6.1; WOW64; rv:31.0) G...</td>\n",
       "      <td>30</td>\n",
       "      <td>2018-10-01 00:11:16</td>\n",
       "    </tr>\n",
       "  </tbody>\n",
       "</table>\n",
       "</div>"
      ],
      "text/plain": [
       "             artist       auth firstName gender  itemInSession lastName  \\\n",
       "0    Martha Tilston  Logged In     Colin      M             50  Freeman   \n",
       "1  Five Iron Frenzy  Logged In     Micah      M             79     Long   \n",
       "2      Adam Lambert  Logged In     Colin      M             51  Freeman   \n",
       "3            Enigma  Logged In     Micah      M             80     Long   \n",
       "4         Daft Punk  Logged In     Colin      M             52  Freeman   \n",
       "\n",
       "      length level                        location method      page  \\\n",
       "0  277.89016  paid                 Bakersfield, CA    PUT  NextSong   \n",
       "1  236.09424  free  Boston-Cambridge-Newton, MA-NH    PUT  NextSong   \n",
       "2  282.82730  paid                 Bakersfield, CA    PUT  NextSong   \n",
       "3  262.71302  free  Boston-Cambridge-Newton, MA-NH    PUT  NextSong   \n",
       "4  223.60771  paid                 Bakersfield, CA    PUT  NextSong   \n",
       "\n",
       "    registration  sessionId                           song  status  \\\n",
       "0  1538173362000         29                      Rockpools     200   \n",
       "1  1538331630000          8                         Canada     200   \n",
       "2  1538173362000         29              Time For Miracles     200   \n",
       "3  1538331630000          8    Knocking On Forbidden Doors     200   \n",
       "4  1538173362000         29  Harder Better Faster Stronger     200   \n",
       "\n",
       "              ts                                          userAgent userId  \\\n",
       "0  1538352117000  Mozilla/5.0 (Windows NT 6.1; WOW64; rv:31.0) G...     30   \n",
       "1  1538352180000  \"Mozilla/5.0 (Windows NT 6.1; WOW64) AppleWebK...      9   \n",
       "2  1538352394000  Mozilla/5.0 (Windows NT 6.1; WOW64; rv:31.0) G...     30   \n",
       "3  1538352416000  \"Mozilla/5.0 (Windows NT 6.1; WOW64) AppleWebK...      9   \n",
       "4  1538352676000  Mozilla/5.0 (Windows NT 6.1; WOW64; rv:31.0) G...     30   \n",
       "\n",
       "                  time  \n",
       "0  2018-10-01 00:01:57  \n",
       "1  2018-10-01 00:03:00  \n",
       "2  2018-10-01 00:06:34  \n",
       "3  2018-10-01 00:06:56  \n",
       "4  2018-10-01 00:11:16  "
      ]
     },
     "execution_count": 28,
     "metadata": {},
     "output_type": "execute_result"
    }
   ],
   "source": [
    "df_pandas.head()"
   ]
  },
  {
   "cell_type": "markdown",
   "metadata": {},
   "source": [
    "Since the registration column is also in timestamp format, I will perform the same conversion of ts column for registration column."
   ]
  },
  {
   "cell_type": "code",
   "execution_count": 29,
   "metadata": {},
   "outputs": [],
   "source": [
    "df = df.withColumn('registration_time', get_time(df.registration))"
   ]
  },
  {
   "cell_type": "code",
   "execution_count": 30,
   "metadata": {},
   "outputs": [],
   "source": [
    "df_pandas = df.toPandas()"
   ]
  },
  {
   "cell_type": "code",
   "execution_count": 31,
   "metadata": {},
   "outputs": [
    {
     "data": {
      "text/html": [
       "<div>\n",
       "<style scoped>\n",
       "    .dataframe tbody tr th:only-of-type {\n",
       "        vertical-align: middle;\n",
       "    }\n",
       "\n",
       "    .dataframe tbody tr th {\n",
       "        vertical-align: top;\n",
       "    }\n",
       "\n",
       "    .dataframe thead th {\n",
       "        text-align: right;\n",
       "    }\n",
       "</style>\n",
       "<table border=\"1\" class=\"dataframe\">\n",
       "  <thead>\n",
       "    <tr style=\"text-align: right;\">\n",
       "      <th></th>\n",
       "      <th>artist</th>\n",
       "      <th>auth</th>\n",
       "      <th>firstName</th>\n",
       "      <th>gender</th>\n",
       "      <th>itemInSession</th>\n",
       "      <th>lastName</th>\n",
       "      <th>length</th>\n",
       "      <th>level</th>\n",
       "      <th>location</th>\n",
       "      <th>method</th>\n",
       "      <th>page</th>\n",
       "      <th>registration</th>\n",
       "      <th>sessionId</th>\n",
       "      <th>song</th>\n",
       "      <th>status</th>\n",
       "      <th>ts</th>\n",
       "      <th>userAgent</th>\n",
       "      <th>userId</th>\n",
       "      <th>time</th>\n",
       "      <th>registration_time</th>\n",
       "    </tr>\n",
       "  </thead>\n",
       "  <tbody>\n",
       "    <tr>\n",
       "      <th>0</th>\n",
       "      <td>Martha Tilston</td>\n",
       "      <td>Logged In</td>\n",
       "      <td>Colin</td>\n",
       "      <td>M</td>\n",
       "      <td>50</td>\n",
       "      <td>Freeman</td>\n",
       "      <td>277.89016</td>\n",
       "      <td>paid</td>\n",
       "      <td>Bakersfield, CA</td>\n",
       "      <td>PUT</td>\n",
       "      <td>NextSong</td>\n",
       "      <td>1538173362000</td>\n",
       "      <td>29</td>\n",
       "      <td>Rockpools</td>\n",
       "      <td>200</td>\n",
       "      <td>1538352117000</td>\n",
       "      <td>Mozilla/5.0 (Windows NT 6.1; WOW64; rv:31.0) G...</td>\n",
       "      <td>30</td>\n",
       "      <td>2018-10-01 00:01:57</td>\n",
       "      <td>2018-09-28 22:22:42</td>\n",
       "    </tr>\n",
       "    <tr>\n",
       "      <th>1</th>\n",
       "      <td>Five Iron Frenzy</td>\n",
       "      <td>Logged In</td>\n",
       "      <td>Micah</td>\n",
       "      <td>M</td>\n",
       "      <td>79</td>\n",
       "      <td>Long</td>\n",
       "      <td>236.09424</td>\n",
       "      <td>free</td>\n",
       "      <td>Boston-Cambridge-Newton, MA-NH</td>\n",
       "      <td>PUT</td>\n",
       "      <td>NextSong</td>\n",
       "      <td>1538331630000</td>\n",
       "      <td>8</td>\n",
       "      <td>Canada</td>\n",
       "      <td>200</td>\n",
       "      <td>1538352180000</td>\n",
       "      <td>\"Mozilla/5.0 (Windows NT 6.1; WOW64) AppleWebK...</td>\n",
       "      <td>9</td>\n",
       "      <td>2018-10-01 00:03:00</td>\n",
       "      <td>2018-09-30 18:20:30</td>\n",
       "    </tr>\n",
       "    <tr>\n",
       "      <th>2</th>\n",
       "      <td>Adam Lambert</td>\n",
       "      <td>Logged In</td>\n",
       "      <td>Colin</td>\n",
       "      <td>M</td>\n",
       "      <td>51</td>\n",
       "      <td>Freeman</td>\n",
       "      <td>282.82730</td>\n",
       "      <td>paid</td>\n",
       "      <td>Bakersfield, CA</td>\n",
       "      <td>PUT</td>\n",
       "      <td>NextSong</td>\n",
       "      <td>1538173362000</td>\n",
       "      <td>29</td>\n",
       "      <td>Time For Miracles</td>\n",
       "      <td>200</td>\n",
       "      <td>1538352394000</td>\n",
       "      <td>Mozilla/5.0 (Windows NT 6.1; WOW64; rv:31.0) G...</td>\n",
       "      <td>30</td>\n",
       "      <td>2018-10-01 00:06:34</td>\n",
       "      <td>2018-09-28 22:22:42</td>\n",
       "    </tr>\n",
       "    <tr>\n",
       "      <th>3</th>\n",
       "      <td>Enigma</td>\n",
       "      <td>Logged In</td>\n",
       "      <td>Micah</td>\n",
       "      <td>M</td>\n",
       "      <td>80</td>\n",
       "      <td>Long</td>\n",
       "      <td>262.71302</td>\n",
       "      <td>free</td>\n",
       "      <td>Boston-Cambridge-Newton, MA-NH</td>\n",
       "      <td>PUT</td>\n",
       "      <td>NextSong</td>\n",
       "      <td>1538331630000</td>\n",
       "      <td>8</td>\n",
       "      <td>Knocking On Forbidden Doors</td>\n",
       "      <td>200</td>\n",
       "      <td>1538352416000</td>\n",
       "      <td>\"Mozilla/5.0 (Windows NT 6.1; WOW64) AppleWebK...</td>\n",
       "      <td>9</td>\n",
       "      <td>2018-10-01 00:06:56</td>\n",
       "      <td>2018-09-30 18:20:30</td>\n",
       "    </tr>\n",
       "    <tr>\n",
       "      <th>4</th>\n",
       "      <td>Daft Punk</td>\n",
       "      <td>Logged In</td>\n",
       "      <td>Colin</td>\n",
       "      <td>M</td>\n",
       "      <td>52</td>\n",
       "      <td>Freeman</td>\n",
       "      <td>223.60771</td>\n",
       "      <td>paid</td>\n",
       "      <td>Bakersfield, CA</td>\n",
       "      <td>PUT</td>\n",
       "      <td>NextSong</td>\n",
       "      <td>1538173362000</td>\n",
       "      <td>29</td>\n",
       "      <td>Harder Better Faster Stronger</td>\n",
       "      <td>200</td>\n",
       "      <td>1538352676000</td>\n",
       "      <td>Mozilla/5.0 (Windows NT 6.1; WOW64; rv:31.0) G...</td>\n",
       "      <td>30</td>\n",
       "      <td>2018-10-01 00:11:16</td>\n",
       "      <td>2018-09-28 22:22:42</td>\n",
       "    </tr>\n",
       "  </tbody>\n",
       "</table>\n",
       "</div>"
      ],
      "text/plain": [
       "             artist       auth firstName gender  itemInSession lastName  \\\n",
       "0    Martha Tilston  Logged In     Colin      M             50  Freeman   \n",
       "1  Five Iron Frenzy  Logged In     Micah      M             79     Long   \n",
       "2      Adam Lambert  Logged In     Colin      M             51  Freeman   \n",
       "3            Enigma  Logged In     Micah      M             80     Long   \n",
       "4         Daft Punk  Logged In     Colin      M             52  Freeman   \n",
       "\n",
       "      length level                        location method      page  \\\n",
       "0  277.89016  paid                 Bakersfield, CA    PUT  NextSong   \n",
       "1  236.09424  free  Boston-Cambridge-Newton, MA-NH    PUT  NextSong   \n",
       "2  282.82730  paid                 Bakersfield, CA    PUT  NextSong   \n",
       "3  262.71302  free  Boston-Cambridge-Newton, MA-NH    PUT  NextSong   \n",
       "4  223.60771  paid                 Bakersfield, CA    PUT  NextSong   \n",
       "\n",
       "    registration  sessionId                           song  status  \\\n",
       "0  1538173362000         29                      Rockpools     200   \n",
       "1  1538331630000          8                         Canada     200   \n",
       "2  1538173362000         29              Time For Miracles     200   \n",
       "3  1538331630000          8    Knocking On Forbidden Doors     200   \n",
       "4  1538173362000         29  Harder Better Faster Stronger     200   \n",
       "\n",
       "              ts                                          userAgent userId  \\\n",
       "0  1538352117000  Mozilla/5.0 (Windows NT 6.1; WOW64; rv:31.0) G...     30   \n",
       "1  1538352180000  \"Mozilla/5.0 (Windows NT 6.1; WOW64) AppleWebK...      9   \n",
       "2  1538352394000  Mozilla/5.0 (Windows NT 6.1; WOW64; rv:31.0) G...     30   \n",
       "3  1538352416000  \"Mozilla/5.0 (Windows NT 6.1; WOW64) AppleWebK...      9   \n",
       "4  1538352676000  Mozilla/5.0 (Windows NT 6.1; WOW64; rv:31.0) G...     30   \n",
       "\n",
       "                  time    registration_time  \n",
       "0  2018-10-01 00:01:57  2018-09-28 22:22:42  \n",
       "1  2018-10-01 00:03:00  2018-09-30 18:20:30  \n",
       "2  2018-10-01 00:06:34  2018-09-28 22:22:42  \n",
       "3  2018-10-01 00:06:56  2018-09-30 18:20:30  \n",
       "4  2018-10-01 00:11:16  2018-09-28 22:22:42  "
      ]
     },
     "execution_count": 31,
     "metadata": {},
     "output_type": "execute_result"
    }
   ],
   "source": [
    "df_pandas.head()"
   ]
  },
  {
   "cell_type": "markdown",
   "metadata": {},
   "source": [
    "# Exploratory Data Analysis\n",
    "When you're working with the full dataset, perform EDA by loading a small subset of the data and doing basic manipulations within Spark. In this workspace, you are already provided a small subset of data you can explore.\n",
    "\n",
    "### Define Churn\n",
    "\n",
    "Once you've done some preliminary analysis, create a column `Churn` to use as the label for your model. I suggest using the `Cancellation Confirmation` events to define your churn, which happen for both paid and free users. As a bonus task, you can also look into the `Downgrade` events.\n",
    "\n",
    "Customer churn occurs when customers/subscribers stop doing business with a company or service. We can define a user as churned if there is an Cancellation Confirmation event. And Churn is defined both free and paid users. In order to track the downgrade event of a paid user can also be sight about customer churn.\n",
    "\n",
    "\n",
    "[1] https://blog.recurly.com/better-way-to-calculate-your-churn-rate\n"
   ]
  },
  {
   "cell_type": "markdown",
   "metadata": {},
   "source": [
    "First look for cancellation confirmation events to define Churn."
   ]
  },
  {
   "cell_type": "code",
   "execution_count": 32,
   "metadata": {},
   "outputs": [],
   "source": [
    "# create churn label\n",
    "flag_cancellation = udf(lambda x: 1 if x == 'Cancellation Confirmation' else 0, IntegerType())\n",
    "\n",
    "# Apply it to the dataframe\n",
    "df = df.withColumn('churn', flag_cancellation('page'))\n",
    "\n",
    "# label user who churned\n",
    "windowval = Window.partitionBy('userId')\n",
    "\n",
    "# Apply it to the dataframe\n",
    "df = df.withColumn('churn', max('churn').over(windowval))"
   ]
  },
  {
   "cell_type": "code",
   "execution_count": 33,
   "metadata": {},
   "outputs": [],
   "source": [
    "df_pandas = df.toPandas()"
   ]
  },
  {
   "cell_type": "markdown",
   "metadata": {},
   "source": [
    "Now, look for downgrade events."
   ]
  },
  {
   "cell_type": "code",
   "execution_count": 34,
   "metadata": {},
   "outputs": [],
   "source": [
    "# create downgrade label\n",
    "flag_downgrade = udf(lambda x: 1 if x == \"Submit Downgrade\" else 0, IntegerType())\n",
    "\n",
    "# Apply it to the dataframe\n",
    "df = df.withColumn(\"downgrade\", flag_downgrade(\"page\"))\n",
    "\n",
    "# label user who've ever downgraded\n",
    "windowval = Window.partitionBy('userId')\n",
    "\n",
    "# Apply it to the dataframe\n",
    "df = df.withColumn('downgrade', max('downgrade').over(windowval))"
   ]
  },
  {
   "cell_type": "code",
   "execution_count": 35,
   "metadata": {},
   "outputs": [],
   "source": [
    "df_pandas = df.toPandas()"
   ]
  },
  {
   "cell_type": "code",
   "execution_count": 36,
   "metadata": {},
   "outputs": [
    {
     "data": {
      "text/html": [
       "<div>\n",
       "<style scoped>\n",
       "    .dataframe tbody tr th:only-of-type {\n",
       "        vertical-align: middle;\n",
       "    }\n",
       "\n",
       "    .dataframe tbody tr th {\n",
       "        vertical-align: top;\n",
       "    }\n",
       "\n",
       "    .dataframe thead th {\n",
       "        text-align: right;\n",
       "    }\n",
       "</style>\n",
       "<table border=\"1\" class=\"dataframe\">\n",
       "  <thead>\n",
       "    <tr style=\"text-align: right;\">\n",
       "      <th></th>\n",
       "      <th>artist</th>\n",
       "      <th>auth</th>\n",
       "      <th>firstName</th>\n",
       "      <th>gender</th>\n",
       "      <th>itemInSession</th>\n",
       "      <th>lastName</th>\n",
       "      <th>length</th>\n",
       "      <th>level</th>\n",
       "      <th>location</th>\n",
       "      <th>method</th>\n",
       "      <th>...</th>\n",
       "      <th>sessionId</th>\n",
       "      <th>song</th>\n",
       "      <th>status</th>\n",
       "      <th>ts</th>\n",
       "      <th>userAgent</th>\n",
       "      <th>userId</th>\n",
       "      <th>time</th>\n",
       "      <th>registration_time</th>\n",
       "      <th>churn</th>\n",
       "      <th>downgrade</th>\n",
       "    </tr>\n",
       "  </thead>\n",
       "  <tbody>\n",
       "    <tr>\n",
       "      <th>185153</th>\n",
       "      <td>Jamie T</td>\n",
       "      <td>Logged In</td>\n",
       "      <td>Daniel</td>\n",
       "      <td>M</td>\n",
       "      <td>161</td>\n",
       "      <td>Marks</td>\n",
       "      <td>259.65669</td>\n",
       "      <td>paid</td>\n",
       "      <td>Chicago-Naperville-Elgin, IL-IN-WI</td>\n",
       "      <td>PUT</td>\n",
       "      <td>...</td>\n",
       "      <td>94</td>\n",
       "      <td>Sheila (Explicit)</td>\n",
       "      <td>200</td>\n",
       "      <td>1539972314000</td>\n",
       "      <td>\"Mozilla/5.0 (Macintosh; Intel Mac OS X 10_9_4...</td>\n",
       "      <td>100012</td>\n",
       "      <td>2018-10-19 18:05:14</td>\n",
       "      <td>2018-09-19 18:19:14</td>\n",
       "      <td>1</td>\n",
       "      <td>1</td>\n",
       "    </tr>\n",
       "    <tr>\n",
       "      <th>12368</th>\n",
       "      <td>Energy 52</td>\n",
       "      <td>Logged In</td>\n",
       "      <td>Alexi</td>\n",
       "      <td>F</td>\n",
       "      <td>30</td>\n",
       "      <td>Warren</td>\n",
       "      <td>462.13179</td>\n",
       "      <td>free</td>\n",
       "      <td>Spokane-Spokane Valley, WA</td>\n",
       "      <td>PUT</td>\n",
       "      <td>...</td>\n",
       "      <td>963</td>\n",
       "      <td>CafÃÂ© Del Mar</td>\n",
       "      <td>200</td>\n",
       "      <td>1539789477000</td>\n",
       "      <td>Mozilla/5.0 (Windows NT 6.1; WOW64; rv:32.0) G...</td>\n",
       "      <td>54</td>\n",
       "      <td>2018-10-17 15:17:57</td>\n",
       "      <td>2018-07-25 01:37:42</td>\n",
       "      <td>1</td>\n",
       "      <td>1</td>\n",
       "    </tr>\n",
       "    <tr>\n",
       "      <th>178657</th>\n",
       "      <td>P.O.D.</td>\n",
       "      <td>Logged In</td>\n",
       "      <td>Erick</td>\n",
       "      <td>M</td>\n",
       "      <td>153</td>\n",
       "      <td>Brooks</td>\n",
       "      <td>258.16771</td>\n",
       "      <td>paid</td>\n",
       "      <td>Selma, AL</td>\n",
       "      <td>PUT</td>\n",
       "      <td>...</td>\n",
       "      <td>1069</td>\n",
       "      <td>Youth Of The Nation (2006 Remastered Album Ver...</td>\n",
       "      <td>200</td>\n",
       "      <td>1540023127000</td>\n",
       "      <td>\"Mozilla/5.0 (Windows NT 6.3; WOW64) AppleWebK...</td>\n",
       "      <td>58</td>\n",
       "      <td>2018-10-20 08:12:07</td>\n",
       "      <td>2018-09-26 10:12:31</td>\n",
       "      <td>1</td>\n",
       "      <td>0</td>\n",
       "    </tr>\n",
       "    <tr>\n",
       "      <th>190882</th>\n",
       "      <td>DJ Khaled</td>\n",
       "      <td>Logged In</td>\n",
       "      <td>Kaylenn</td>\n",
       "      <td>F</td>\n",
       "      <td>82</td>\n",
       "      <td>Jenkins</td>\n",
       "      <td>227.08200</td>\n",
       "      <td>paid</td>\n",
       "      <td>Price, UT</td>\n",
       "      <td>PUT</td>\n",
       "      <td>...</td>\n",
       "      <td>649</td>\n",
       "      <td>All I Do Is Win (feat. T-Pain_ Ludacris_ Snoop...</td>\n",
       "      <td>200</td>\n",
       "      <td>1540054668000</td>\n",
       "      <td>\"Mozilla/5.0 (Macintosh; Intel Mac OS X 10_9_2...</td>\n",
       "      <td>141</td>\n",
       "      <td>2018-10-20 16:57:48</td>\n",
       "      <td>2018-09-02 15:57:58</td>\n",
       "      <td>0</td>\n",
       "      <td>1</td>\n",
       "    </tr>\n",
       "    <tr>\n",
       "      <th>256047</th>\n",
       "      <td>LMFAO</td>\n",
       "      <td>Logged In</td>\n",
       "      <td>Anika</td>\n",
       "      <td>F</td>\n",
       "      <td>10</td>\n",
       "      <td>Osborne</td>\n",
       "      <td>227.99628</td>\n",
       "      <td>free</td>\n",
       "      <td>Philadelphia-Camden-Wilmington, PA-NJ-DE-MD</td>\n",
       "      <td>PUT</td>\n",
       "      <td>...</td>\n",
       "      <td>1262</td>\n",
       "      <td>I'm In Miami Bitch</td>\n",
       "      <td>200</td>\n",
       "      <td>1540478927000</td>\n",
       "      <td>\"Mozilla/5.0 (iPhone; CPU iPhone OS 7_1_2 like...</td>\n",
       "      <td>13</td>\n",
       "      <td>2018-10-25 14:48:47</td>\n",
       "      <td>2018-08-02 06:40:32</td>\n",
       "      <td>0</td>\n",
       "      <td>1</td>\n",
       "    </tr>\n",
       "  </tbody>\n",
       "</table>\n",
       "<p>5 rows × 22 columns</p>\n",
       "</div>"
      ],
      "text/plain": [
       "           artist       auth firstName gender  itemInSession lastName  \\\n",
       "185153    Jamie T  Logged In    Daniel      M            161    Marks   \n",
       "12368   Energy 52  Logged In     Alexi      F             30   Warren   \n",
       "178657     P.O.D.  Logged In     Erick      M            153   Brooks   \n",
       "190882  DJ Khaled  Logged In   Kaylenn      F             82  Jenkins   \n",
       "256047      LMFAO  Logged In     Anika      F             10  Osborne   \n",
       "\n",
       "           length level                                     location method  \\\n",
       "185153  259.65669  paid           Chicago-Naperville-Elgin, IL-IN-WI    PUT   \n",
       "12368   462.13179  free                   Spokane-Spokane Valley, WA    PUT   \n",
       "178657  258.16771  paid                                    Selma, AL    PUT   \n",
       "190882  227.08200  paid                                    Price, UT    PUT   \n",
       "256047  227.99628  free  Philadelphia-Camden-Wilmington, PA-NJ-DE-MD    PUT   \n",
       "\n",
       "          ...    sessionId                                               song  \\\n",
       "185153    ...           94                                  Sheila (Explicit)   \n",
       "12368     ...          963                                    CafÃÂ© Del Mar   \n",
       "178657    ...         1069  Youth Of The Nation (2006 Remastered Album Ver...   \n",
       "190882    ...          649  All I Do Is Win (feat. T-Pain_ Ludacris_ Snoop...   \n",
       "256047    ...         1262                                 I'm In Miami Bitch   \n",
       "\n",
       "        status             ts  \\\n",
       "185153     200  1539972314000   \n",
       "12368      200  1539789477000   \n",
       "178657     200  1540023127000   \n",
       "190882     200  1540054668000   \n",
       "256047     200  1540478927000   \n",
       "\n",
       "                                                userAgent  userId  \\\n",
       "185153  \"Mozilla/5.0 (Macintosh; Intel Mac OS X 10_9_4...  100012   \n",
       "12368   Mozilla/5.0 (Windows NT 6.1; WOW64; rv:32.0) G...      54   \n",
       "178657  \"Mozilla/5.0 (Windows NT 6.3; WOW64) AppleWebK...      58   \n",
       "190882  \"Mozilla/5.0 (Macintosh; Intel Mac OS X 10_9_2...     141   \n",
       "256047  \"Mozilla/5.0 (iPhone; CPU iPhone OS 7_1_2 like...      13   \n",
       "\n",
       "                       time    registration_time churn downgrade  \n",
       "185153  2018-10-19 18:05:14  2018-09-19 18:19:14     1         1  \n",
       "12368   2018-10-17 15:17:57  2018-07-25 01:37:42     1         1  \n",
       "178657  2018-10-20 08:12:07  2018-09-26 10:12:31     1         0  \n",
       "190882  2018-10-20 16:57:48  2018-09-02 15:57:58     0         1  \n",
       "256047  2018-10-25 14:48:47  2018-08-02 06:40:32     0         1  \n",
       "\n",
       "[5 rows x 22 columns]"
      ]
     },
     "execution_count": 36,
     "metadata": {},
     "output_type": "execute_result"
    }
   ],
   "source": [
    "df_pandas.sample(5)"
   ]
  },
  {
   "cell_type": "markdown",
   "metadata": {},
   "source": [
    "Let's observe the spark dataframe"
   ]
  },
  {
   "cell_type": "code",
   "execution_count": 37,
   "metadata": {},
   "outputs": [
    {
     "name": "stdout",
     "output_type": "stream",
     "text": [
      "+------+\n",
      "|userId|\n",
      "+------+\n",
      "|    10|\n",
      "|   100|\n",
      "|100001|\n",
      "|100002|\n",
      "|100003|\n",
      "+------+\n",
      "only showing top 5 rows\n",
      "\n"
     ]
    }
   ],
   "source": [
    "df.select('userId').dropDuplicates().sort('userId').show(5)"
   ]
  },
  {
   "cell_type": "code",
   "execution_count": 38,
   "metadata": {},
   "outputs": [
    {
     "name": "stdout",
     "output_type": "stream",
     "text": [
      "+------+-----+---------+\n",
      "|userId|churn|downgrade|\n",
      "+------+-----+---------+\n",
      "|100010|    0|        0|\n",
      "|200002|    0|        0|\n",
      "|   125|    1|        0|\n",
      "|   124|    0|        0|\n",
      "|    51|    1|        0|\n",
      "|     7|    0|        0|\n",
      "|    15|    0|        0|\n",
      "|    54|    1|        1|\n",
      "|   155|    0|        0|\n",
      "|100014|    1|        0|\n",
      "|   132|    0|        0|\n",
      "|   154|    0|        0|\n",
      "|   101|    1|        0|\n",
      "|    11|    0|        1|\n",
      "|   138|    0|        0|\n",
      "|300017|    0|        0|\n",
      "|100021|    1|        0|\n",
      "|    29|    1|        0|\n",
      "|    69|    0|        0|\n",
      "|   112|    0|        0|\n",
      "+------+-----+---------+\n",
      "only showing top 20 rows\n",
      "\n"
     ]
    }
   ],
   "source": [
    "df.select(['userId', 'churn', 'downgrade']).dropDuplicates().show(20)"
   ]
  },
  {
   "cell_type": "markdown",
   "metadata": {},
   "source": [
    "Now we have defined **churn** and **downgrade** events as seperate columns."
   ]
  },
  {
   "cell_type": "markdown",
   "metadata": {},
   "source": [
    "\n",
    "### Explore Data\n",
    "Once you've defined churn, perform some exploratory data analysis to observe the behavior for users who stayed vs users who churned. You can start by exploring aggregates on these two groups of users, observing how much of a specific action they experienced per a certain time unit or number of songs played."
   ]
  },
  {
   "cell_type": "markdown",
   "metadata": {},
   "source": [
    "##### Gender distribution on churn event\n",
    "\n",
    "First, we can explore the gender distribution on churn event to understand gender has an effect or not.\n",
    "\n",
    "[1] https://medium.com/@andykashyap/top-5-tricks-to-make-plots-look-better-9f6e687c1e08"
   ]
  },
  {
   "cell_type": "code",
   "execution_count": 39,
   "metadata": {},
   "outputs": [
    {
     "name": "stdout",
     "output_type": "stream",
     "text": [
      "+-----+------+-----+\n",
      "|churn|gender|count|\n",
      "+-----+------+-----+\n",
      "|    0|     M|   89|\n",
      "|    0|     F|   84|\n",
      "|    1|     F|   20|\n",
      "|    1|     M|   32|\n",
      "+-----+------+-----+\n",
      "\n"
     ]
    }
   ],
   "source": [
    "df.dropDuplicates([\"userId\", \"gender\"]).groupby([\"churn\", \"gender\"]).count().sort(\"churn\").show()"
   ]
  },
  {
   "cell_type": "code",
   "execution_count": 40,
   "metadata": {},
   "outputs": [],
   "source": [
    "df_pandas_gender = df.dropDuplicates([\"userId\", \"gender\"]).groupby([\"churn\", \"gender\"]).count().sort(\"churn\").toPandas()"
   ]
  },
  {
   "cell_type": "code",
   "execution_count": 41,
   "metadata": {},
   "outputs": [
    {
     "data": {
      "image/png": "[encoded data removed]",
      "text/plain": [
       "<matplotlib.figure.Figure at 0x7f45068adcc0>"
      ]
     },
     "metadata": {
      "needs_background": "light"
     },
     "output_type": "display_data"
    }
   ],
   "source": [
    "plt.figure(figsize=(10,8))\n",
    "ax = sns.barplot(x = 'churn', y = 'count', hue = 'gender', data = df_pandas_gender,  palette = \"Blues_d\")\n",
    "plt.xlabel('Churn', fontsize = 14)\n",
    "plt.ylabel('Count', fontsize = 14)\n",
    "plt.legend(title = 'Gender', loc = 'best', ncol = 2)\n",
    "\n",
    "plot = plt.title('Gender Distribution of Churn Event', fontsize = 14)\n"
   ]
  },
  {
   "cell_type": "markdown",
   "metadata": {},
   "source": [
    "It is seen that male customers are slightly like to be churn than the female users. "
   ]
  },
  {
   "cell_type": "markdown",
   "metadata": {},
   "source": [
    "##### Number of played/listened songs\n",
    "\n",
    "It might be a good indicator to understand the number of played songs in a session among the genders. Therefore, we may see the reason of male users have more likely to be churned.\n",
    "\n",
    "[1] https://www.datacamp.com/community/blog/seaborn-cheat-sheet-python\n",
    "\n",
    "[2] https://seaborn.pydata.org/generated/seaborn.violinplot.html"
   ]
  },
  {
   "cell_type": "code",
   "execution_count": 42,
   "metadata": {},
   "outputs": [],
   "source": [
    "df_pandas_song = df.where('page == \"NextSong\"').groupby(['churn', 'userId', 'sessionId','gender']).count()\\\n",
    "    .groupby(['churn', 'userId', 'gender']).agg({'count':'avg'})\\\n",
    "    .withColumnRenamed('avg(count)', 'avg_songs_played')\\\n",
    "    .toPandas()"
   ]
  },
  {
   "cell_type": "code",
   "execution_count": 43,
   "metadata": {},
   "outputs": [
    {
     "data": {
      "image/png": "[encoded data removed]",
      "text/plain": [
       "<matplotlib.figure.Figure at 0x7f44e7548320>"
      ]
     },
     "metadata": {
      "needs_background": "light"
     },
     "output_type": "display_data"
    }
   ],
   "source": [
    "plt.figure(figsize=(10,8))\n",
    "ax = sns.violinplot('churn', y = 'avg_songs_played', hue = 'gender', data = df_pandas_song, palette=\"Set2\", split = True, inner=\"quartile\")\n",
    "plt.xlabel('churn', fontsize = 12)\n",
    "plt.ylabel('Average count of listened songs per session', fontsize = 12)\n",
    "plt.legend(title = 'Gender', loc = 'best', ncol = 2)\n",
    "plt.title('Listened music distribution among gender')\n",
    "sns.despine(ax=ax);"
   ]
  },
  {
   "cell_type": "markdown",
   "metadata": {},
   "source": [
    "It is seen that churned users had listened less music than the others. And also churned female users average listened songs are more than males. "
   ]
  },
  {
   "cell_type": "markdown",
   "metadata": {},
   "source": [
    "###### Notes on Violin Plot\n",
    "\n",
    "A violin plot plays a similar role as a box and whisker plot. It shows the distribution of quantitative data across several levels of one (or more) categorical variables such that those distributions can be compared. Unlike a box plot, in which all of the plot components correspond to actual datapoints, the violin plot features a kernel density estimation of the underlying distribution.\n",
    "\n",
    "Violin plots have many of the same summary statistics as box plots:\n",
    "* The white dot represents the median\n",
    "* The thick gray bar in the center represents the interquartile range\n",
    "* The thin gray line represents the rest of the distribution, except for points that are determined to be “outliers” using a method that is a function of the interquartile range.\n",
    "\n",
    "On each side of the gray line is a kernel density estimation to show the distribution shape of the data. Wider sections of the violin plot represent a higher probability that members of the population will take on the given value; the skinnier sections represent a lower probability.\n",
    "\n",
    "[1] https://mode.com/blog/violin-plot-examples\n",
    "\n",
    "[2] https://blog.bioturing.com/2018/05/16/5-reasons-you-should-use-a-violin-graph/"
   ]
  },
  {
   "cell_type": "code",
   "execution_count": 44,
   "metadata": {},
   "outputs": [],
   "source": [
    "df_pandas_likes = df.where('page == \"NextSong\" OR page == \"Thumbs Up\"').groupby(['userId', 'churn', 'gender', 'page']).count().toPandas()\n",
    "df_pandas_likes = df_pandas_likes.pivot_table(index=['userId','churn','gender'], values='count', columns='page').reset_index()"
   ]
  },
  {
   "cell_type": "code",
   "execution_count": 45,
   "metadata": {},
   "outputs": [
    {
     "data": {
      "image/png": "[encoded data removed]",
      "text/plain": [
       "<matplotlib.figure.Figure at 0x7f44e3940278>"
      ]
     },
     "metadata": {
      "needs_background": "light"
     },
     "output_type": "display_data"
    }
   ],
   "source": [
    "plt.figure(figsize=(10,8))\n",
    "ax = sns.violinplot(data = df_pandas_likes, x = 'churn', y = 'NextSong', hue = 'gender', split = True,  inner = \"quartile\", palette=\"Set2\")\n",
    "plt.xlabel('Churn Event')\n",
    "plt.ylabel('Played songs count according to NextSong Event')\n",
    "plt.legend(title = 'Gender', loc = 'best')\n",
    "title = plt.title('Total listening song distribution effect on churn by gender')"
   ]
  },
  {
   "cell_type": "markdown",
   "metadata": {},
   "source": [
    "It seems that the mean of the total listened songs do not change that much among churned and unchurned users. However, we can say that female users have larger mean value and distribution than the male users."
   ]
  },
  {
   "cell_type": "code",
   "execution_count": 46,
   "metadata": {},
   "outputs": [
    {
     "data": {
      "image/png": "[encoded data removed]",
      "text/plain": [
       "<matplotlib.figure.Figure at 0x7f44e445c748>"
      ]
     },
     "metadata": {
      "needs_background": "light"
     },
     "output_type": "display_data"
    }
   ],
   "source": [
    "plt.figure(figsize=(10,8))\n",
    "ax = sns.violinplot(data = df_pandas_likes, x = 'churn', y = 'Thumbs Up', hue = 'gender', split = True,  inner = \"quartile\", palette=\"Set3\")\n",
    "plt.xlabel('Churn event')\n",
    "plt.ylabel('Liked song count according to ThumbsUp event')\n",
    "plt.legend(title='Gender', loc='best')\n",
    "title = plt.title('Total liked song distribution effect on churn by gender')"
   ]
  },
  {
   "cell_type": "markdown",
   "metadata": {},
   "source": [
    "Also for the liked song distribution, churned and normal users have similar characteristics."
   ]
  },
  {
   "cell_type": "markdown",
   "metadata": {},
   "source": [
    "###### Churned user status\n",
    "\n",
    "It might me a good indicator to see which payment status of user had churned most."
   ]
  },
  {
   "cell_type": "code",
   "execution_count": 47,
   "metadata": {},
   "outputs": [],
   "source": [
    "df_pandas_level = df.filter('page == \"Cancellation Confirmation\"').groupby('level').count().toPandas()"
   ]
  },
  {
   "cell_type": "code",
   "execution_count": 48,
   "metadata": {},
   "outputs": [
    {
     "data": {
      "image/png": "[encoded data removed]",
      "text/plain": [
       "<matplotlib.figure.Figure at 0x7f44e8000278>"
      ]
     },
     "metadata": {
      "needs_background": "light"
     },
     "output_type": "display_data"
    }
   ],
   "source": [
    "plt.figure(figsize=(10,8))\n",
    "ax = sns.barplot(data = df_pandas_level, x = 'level', y = 'count', palette=\"Set1\")\n",
    "plt.xlabel('Payment level', fontsize = 12)\n",
    "plt.ylabel('')\n",
    "plt.title('Churned user payment level distribution', fontsize = 14)\n",
    "sns.despine(ax=ax);"
   ]
  },
  {
   "cell_type": "markdown",
   "metadata": {},
   "source": [
    "It is seen that paid users had churned more than free users."
   ]
  },
  {
   "cell_type": "markdown",
   "metadata": {},
   "source": [
    "###### Page distribution\n",
    "\n",
    "Let see the page distribution of churned and current users to understand the differences between them."
   ]
  },
  {
   "cell_type": "code",
   "execution_count": 49,
   "metadata": {},
   "outputs": [],
   "source": [
    "churned_user = df_pandas[df_pandas.churn == 1].groupby(['page'])['userId'].count()\n",
    "churned_user = churned_user /churned_user.sum()*100\n",
    "\n",
    "active_user = df_pandas[df_pandas.churn == 0].groupby(['page'])['userId'].count()\n",
    "active_user = active_user /active_user.sum()*100\n",
    "\n",
    "users_df = pd.DataFrame({'Cancelled': churned_user,'Active users':active_user})"
   ]
  },
  {
   "cell_type": "code",
   "execution_count": 50,
   "metadata": {},
   "outputs": [
    {
     "data": {
      "image/png": "[encoded data removed]",
      "text/plain": [
       "<matplotlib.figure.Figure at 0x7f4504eaaa90>"
      ]
     },
     "metadata": {
      "needs_background": "light"
     },
     "output_type": "display_data"
    }
   ],
   "source": [
    "ax = users_df.plot(kind='barh', figsize=(12,10), cmap = \"plasma\");\n",
    "ax.set_xlabel('Percent of envent occurence (%)')\n",
    "ax.set_title('Percent of envent occurence for active and cancelled users');"
   ]
  },
  {
   "cell_type": "markdown",
   "metadata": {},
   "source": [
    "Since Next Song creates a bias in the figure, I have decided to drop it."
   ]
  },
  {
   "cell_type": "code",
   "execution_count": 51,
   "metadata": {},
   "outputs": [],
   "source": [
    "churned_user = df_pandas[df_pandas.churn == 1].groupby(['page'])['userId'].count().drop('NextSong')\n",
    "# Define percentage to visualize better\n",
    "churned_user = churned_user /churned_user.sum()*100\n",
    "\n",
    "active_user = df_pandas[df_pandas.churn == 0].groupby(['page'])['userId'].count().drop('NextSong')\n",
    "# Define percentage to visualize better\n",
    "active_user = active_user /active_user.sum()*100\n",
    "\n",
    "users_df = pd.DataFrame({'Cancelled': churned_user,'Active users':active_user})"
   ]
  },
  {
   "cell_type": "code",
   "execution_count": 52,
   "metadata": {},
   "outputs": [
    {
     "data": {
      "image/png": "[encoded data removed]",
      "text/plain": [
       "<matplotlib.figure.Figure at 0x7f450ff171d0>"
      ]
     },
     "metadata": {
      "needs_background": "light"
     },
     "output_type": "display_data"
    }
   ],
   "source": [
    "ax = users_df.plot(kind='barh', figsize=(12,10), cmap = \"plasma\");\n",
    "ax.set_xlabel('Percentage of envent occurence (%)')\n",
    "ax.set_title('Percentage distribution of page events among the active and cancelled users ');"
   ]
  },
  {
   "cell_type": "markdown",
   "metadata": {},
   "source": [
    "##### Membership duration\n",
    "\n",
    "Lastly, we can investigate the membership duration of users to see effect on churn event."
   ]
  },
  {
   "cell_type": "code",
   "execution_count": 53,
   "metadata": {},
   "outputs": [],
   "source": [
    "df_pandas_lifetime = df\\\n",
    "    .select('userId','registration','ts','churn') \\\n",
    "    .withColumn('lifetime',(df.ts-df.registration)) \\\n",
    "    .groupBy('userId','churn') \\\n",
    "    .agg({'lifetime':'max'}) \\\n",
    "    .withColumnRenamed('max(lifetime)','lifetime') \\\n",
    "    .select('userId', 'churn', (col('lifetime')/1000/3600/24).alias('lifetime')) \\\n",
    "    .toPandas()"
   ]
  },
  {
   "cell_type": "code",
   "execution_count": 54,
   "metadata": {},
   "outputs": [
    {
     "data": {
      "image/png": "[encoded data removed]",
      "text/plain": [
       "<matplotlib.figure.Figure at 0x7f45060845c0>"
      ]
     },
     "metadata": {
      "needs_background": "light"
     },
     "output_type": "display_data"
    }
   ],
   "source": [
    "ax = sns.boxplot(data = df_pandas_lifetime, y = 'churn', x = 'lifetime', orient = 'h', palette = \"Set2\")\n",
    "plt.xlabel('Days since registration when churn')\n",
    "plt.ylabel('Has customer churned')\n",
    "title = plt.title('Churned customer use the service for a shorter period of time')"
   ]
  },
  {
   "cell_type": "markdown",
   "metadata": {},
   "source": [
    "# Feature Engineering\n",
    "Once you've familiarized yourself with the data, build out the features you find promising to train your model on. To work with the full dataset, you can follow the following steps.\n",
    "- Write a script to extract the necessary features from the smaller subset of data\n",
    "- Ensure that your script is scalable, using the best practices discussed in Lesson 3\n",
    "- Try your script on the full data set, debugging your script if necessary\n",
    "\n",
    "If you are working in the classroom workspace, you can just extract features based on the small subset of data contained here. Be sure to transfer over this work to the larger dataset when you work on your Spark cluster."
   ]
  },
  {
   "cell_type": "markdown",
   "metadata": {},
   "source": [
    "###### Dataset Features:\n",
    "In the dataset, we have below features:\n",
    "\n",
    "<u>Categorical features</u>\n",
    "* Currently listening artists\n",
    "* Authorization\n",
    "* First/Last name of user\n",
    "* Gender of user\n",
    "* The payment level of membership (Paid/Free)\n",
    "* Location\n",
    "* Method\n",
    "* Current page\n",
    "* Currently listening song\n",
    "* User agent, (MacOs, Windows, etc.)\n",
    "\n",
    "<u>Numerical features</u>\n",
    "* Item in session\n",
    "* Length\n",
    "* Registration date in timestamp format\n",
    "* SessionId\n",
    "* Status\n",
    "* Time as ts in timestamp format\n",
    "* Userid\n",
    "\n",
    "\n",
    "For the analysis, we will add the below features according to the data exploration that we have performed in the previous section.\n",
    "\n",
    "1. Gender feature as numerical/binary variable\n",
    "2. Number of played/listened songs\n",
    "3. Number of liked songs according to thumbs up/down\n",
    "4. Number of songs added to playlist\n",
    "5. Number of songs listened per session\n",
    "6. Number of listened artists\n",
    "7. Number of added friends.\n",
    "8. Total time duration/lenght of listening event\n",
    "9. Membership duration\n",
    "10. Churn label\n",
    "11. Downgrade label\n",
    "\n",
    "\n"
   ]
  },
  {
   "cell_type": "code",
   "execution_count": 55,
   "metadata": {},
   "outputs": [
    {
     "name": "stdout",
     "output_type": "stream",
     "text": [
      "+------+------+\n",
      "|userId|gender|\n",
      "+------+------+\n",
      "|    44|     1|\n",
      "|    46|     1|\n",
      "|    41|     1|\n",
      "|    72|     1|\n",
      "|300023|     1|\n",
      "+------+------+\n",
      "only showing top 5 rows\n",
      "\n"
     ]
    }
   ],
   "source": [
    "# Gender feature as numerical/binary variable\n",
    "feature_1 = df.select(\"userId\", \"gender\").dropDuplicates().replace(['M', 'F'], ['0', '1'], 'gender').select('userId', col('gender').cast('int'))\n",
    "feature_1.show(5)"
   ]
  },
  {
   "cell_type": "code",
   "execution_count": 56,
   "metadata": {},
   "outputs": [
    {
     "name": "stdout",
     "output_type": "stream",
     "text": [
      "+------+-----------+\n",
      "|userID|total_songs|\n",
      "+------+-----------+\n",
      "|100010|        381|\n",
      "|200002|        474|\n",
      "|   125|         11|\n",
      "|    51|       2464|\n",
      "|   124|       4825|\n",
      "+------+-----------+\n",
      "only showing top 5 rows\n",
      "\n"
     ]
    }
   ],
   "source": [
    "# Number of played/listened songs\n",
    "feature_2 = df.select('userID','song').groupBy('userID').count().withColumnRenamed('count', 'total_songs')\n",
    "feature_2.show(5)"
   ]
  },
  {
   "cell_type": "code",
   "execution_count": 57,
   "metadata": {},
   "outputs": [
    {
     "name": "stdout",
     "output_type": "stream",
     "text": [
      "+------+---------+\n",
      "|userID|thumbs_up|\n",
      "+------+---------+\n",
      "|100010|       17|\n",
      "|200002|       21|\n",
      "|    51|      100|\n",
      "|   124|      171|\n",
      "|     7|        7|\n",
      "+------+---------+\n",
      "only showing top 5 rows\n",
      "\n"
     ]
    }
   ],
   "source": [
    "# Number of liked songs according to thumbs up/down\n",
    "feature_3 = df.select('userID','page').where(df.page == 'Thumbs Up').groupBy('userID').count().withColumnRenamed('count', 'thumbs_up')\n",
    "feature_3.show(5)"
   ]
  },
  {
   "cell_type": "code",
   "execution_count": 58,
   "metadata": {},
   "outputs": [
    {
     "name": "stdout",
     "output_type": "stream",
     "text": [
      "+------+-----------+\n",
      "|userID|thumbs_down|\n",
      "+------+-----------+\n",
      "|100010|          5|\n",
      "|200002|          6|\n",
      "|    51|         21|\n",
      "|   124|         41|\n",
      "|     7|          1|\n",
      "+------+-----------+\n",
      "only showing top 5 rows\n",
      "\n"
     ]
    }
   ],
   "source": [
    "# Number of liked songs according to thumbs up/down\n",
    "feature_4 = df.select('userID','page').where(df.page == 'Thumbs Down').groupBy('userID').count().withColumnRenamed('count', 'thumbs_down')\n",
    "feature_4.show(5)"
   ]
  },
  {
   "cell_type": "code",
   "execution_count": 59,
   "metadata": {},
   "outputs": [
    {
     "name": "stdout",
     "output_type": "stream",
     "text": [
      "+------+---------------+\n",
      "|userID|add_to_playlist|\n",
      "+------+---------------+\n",
      "|100010|              7|\n",
      "|200002|              8|\n",
      "|    51|             52|\n",
      "|   124|            118|\n",
      "|     7|              5|\n",
      "+------+---------------+\n",
      "only showing top 5 rows\n",
      "\n"
     ]
    }
   ],
   "source": [
    "# Number of songs added to playlist\n",
    "feature_5 = df.select('userID','page').where(df.page == 'Add to Playlist').groupBy('userID').count().withColumnRenamed('count', 'add_to_playlist')\n",
    "feature_5.show(5)"
   ]
  },
  {
   "cell_type": "code",
   "execution_count": 60,
   "metadata": {},
   "outputs": [
    {
     "name": "stdout",
     "output_type": "stream",
     "text": [
      "+-------+------------------+-----------------+\n",
      "|summary|            userId| avg_songs_played|\n",
      "+-------+------------------+-----------------+\n",
      "|  count|               225|              225|\n",
      "|   mean|65391.013333333336|70.78971233958933|\n",
      "| stddev|105396.47791907164| 42.6153697543817|\n",
      "|    min|                10|              3.0|\n",
      "|    max|                99|286.6666666666667|\n",
      "+-------+------------------+-----------------+\n",
      "\n"
     ]
    }
   ],
   "source": [
    "# Number of songs listened per session\n",
    "feature_6 = df.where('page == \"NextSong\"').groupby(['userId', 'sessionId']).count().groupby(['userId']).agg({'count':'avg'}).withColumnRenamed('avg(count)', 'avg_songs_played')\n",
    "feature_6.describe().show()"
   ]
  },
  {
   "cell_type": "code",
   "execution_count": 61,
   "metadata": {},
   "outputs": [
    {
     "name": "stdout",
     "output_type": "stream",
     "text": [
      "+------+------------+\n",
      "|userId|artist_count|\n",
      "+------+------------+\n",
      "|100010|         252|\n",
      "|200002|         339|\n",
      "|   125|           8|\n",
      "|    51|        1385|\n",
      "|   124|        2232|\n",
      "+------+------------+\n",
      "only showing top 5 rows\n",
      "\n"
     ]
    }
   ],
   "source": [
    "# Number of listened artists\n",
    "feature_7 = df.filter(df.page==\"NextSong\").select(\"userId\", \"artist\").dropDuplicates().groupby(\"userId\").count().withColumnRenamed(\"count\", \"artist_count\")\n",
    "feature_7.show(5)\n"
   ]
  },
  {
   "cell_type": "code",
   "execution_count": 62,
   "metadata": {},
   "outputs": [
    {
     "name": "stdout",
     "output_type": "stream",
     "text": [
      "+------+----------+\n",
      "|userID|add_friend|\n",
      "+------+----------+\n",
      "|100010|         4|\n",
      "|200002|         4|\n",
      "|    51|        28|\n",
      "|   124|        74|\n",
      "|     7|         1|\n",
      "+------+----------+\n",
      "only showing top 5 rows\n",
      "\n"
     ]
    }
   ],
   "source": [
    "# Number of added friends\n",
    "feature_8 = df.select('userID','page').where(df.page == 'Add Friend').groupBy('userID').count().withColumnRenamed('count', 'add_friend') \n",
    "feature_8.show(5)"
   ]
  },
  {
   "cell_type": "code",
   "execution_count": 63,
   "metadata": {},
   "outputs": [
    {
     "name": "stdout",
     "output_type": "stream",
     "text": [
      "+------+------------------+\n",
      "|userID|       listen_time|\n",
      "+------+------------------+\n",
      "|100010| 66940.89735000003|\n",
      "|200002| 94008.87593999993|\n",
      "|   125|2089.1131000000005|\n",
      "|    51| 523275.8428000004|\n",
      "|   124|1012312.0927899999|\n",
      "+------+------------------+\n",
      "only showing top 5 rows\n",
      "\n"
     ]
    }
   ],
   "source": [
    "# Total time duration/lenght of listening event\n",
    "feature_9 = df.select('userID','length').groupBy('userID').sum().withColumnRenamed('sum(length)', 'listen_time')\n",
    "feature_9.show(5)\n"
   ]
  },
  {
   "cell_type": "code",
   "execution_count": 64,
   "metadata": {},
   "outputs": [
    {
     "name": "stdout",
     "output_type": "stream",
     "text": [
      "+------+------------------+\n",
      "|userId|          lifetime|\n",
      "+------+------------------+\n",
      "|100010|  55.6436574074074|\n",
      "|200002| 70.07462962962963|\n",
      "|   125| 71.31688657407408|\n",
      "|    51|19.455844907407407|\n",
      "|   124|131.55591435185184|\n",
      "+------+------------------+\n",
      "only showing top 5 rows\n",
      "\n"
     ]
    }
   ],
   "source": [
    "# Membership duration\n",
    "feature_10 = df.select('userId','registration','ts').withColumn('lifetime',(df.ts-df.registration)).groupBy('userId') \\\n",
    "    .agg({'lifetime':'max'}).withColumnRenamed('max(lifetime)','lifetime').select('userId', (col('lifetime')/1000/3600/24).alias('lifetime'))\n",
    "feature_10.show(5)"
   ]
  },
  {
   "cell_type": "code",
   "execution_count": 65,
   "metadata": {},
   "outputs": [
    {
     "name": "stdout",
     "output_type": "stream",
     "text": [
      "+------+-----+\n",
      "|userId|label|\n",
      "+------+-----+\n",
      "|100010|    0|\n",
      "|200002|    0|\n",
      "|   125|    1|\n",
      "|   124|    0|\n",
      "|    51|    1|\n",
      "+------+-----+\n",
      "only showing top 5 rows\n",
      "\n"
     ]
    }
   ],
   "source": [
    "# Churn label\n",
    "churn_label = df.select('userId', col('churn').alias('label')).dropDuplicates()\n",
    "churn_label.show(5)"
   ]
  },
  {
   "cell_type": "code",
   "execution_count": 66,
   "metadata": {},
   "outputs": [
    {
     "name": "stdout",
     "output_type": "stream",
     "text": [
      "+------+---------------+\n",
      "|userId|downgrade_label|\n",
      "+------+---------------+\n",
      "|100010|              0|\n",
      "|200002|              0|\n",
      "|   125|              0|\n",
      "|   124|              0|\n",
      "|    51|              0|\n",
      "+------+---------------+\n",
      "only showing top 5 rows\n",
      "\n"
     ]
    }
   ],
   "source": [
    "# Downgrade label\n",
    "downgrade_label = df.select('userId', col('downgrade').alias('downgrade_label')).dropDuplicates()\n",
    "downgrade_label.show(5)"
   ]
  },
  {
   "cell_type": "code",
   "execution_count": 67,
   "metadata": {},
   "outputs": [
    {
     "name": "stdout",
     "output_type": "stream",
     "text": [
      "+------+-----------+---------+-----------+---------------+------------------+------------+----------+------------------+------------------+-----+---------------+\n",
      "|gender|total_songs|thumbs_up|thumbs_down|add_to_playlist|  avg_songs_played|artist_count|add_friend|       listen_time|          lifetime|label|downgrade_label|\n",
      "+------+-----------+---------+-----------+---------------+------------------+------------+----------+------------------+------------------+-----+---------------+\n",
      "|     1|        381|       17|          5|              7|39.285714285714285|         252|         4| 66940.89735000003|  55.6436574074074|    0|              0|\n",
      "|     0|        474|       21|          6|              8|              64.5|         339|         4| 94008.87593999993| 70.07462962962963|    0|              0|\n",
      "|     0|         11|        0|          0|              0|               8.0|           8|         0|2089.1131000000005| 71.31688657407408|    1|              0|\n",
      "|     1|       4825|      171|         41|            118|145.67857142857142|        2232|        74|1012312.0927899999|131.55591435185184|    0|              0|\n",
      "|     0|       2464|      100|         21|             52|             211.1|        1385|        28| 523275.8428000004|19.455844907407407|    1|              0|\n",
      "+------+-----------+---------+-----------+---------------+------------------+------------+----------+------------------+------------------+-----+---------------+\n",
      "only showing top 5 rows\n",
      "\n"
     ]
    }
   ],
   "source": [
    "data = feature_1.join(feature_2,'userID','outer') \\\n",
    "    .join(feature_3,'userID','outer') \\\n",
    "    .join(feature_4,'userID','outer') \\\n",
    "    .join(feature_5,'userID','outer') \\\n",
    "    .join(feature_6,'userID','outer') \\\n",
    "    .join(feature_7,'userID','outer') \\\n",
    "    .join(feature_8,'userID','outer') \\\n",
    "    .join(feature_9,'userID','outer') \\\n",
    "    .join(feature_10,'userID','outer') \\\n",
    "    .join(churn_label,'userID','outer') \\\n",
    "    .join(downgrade_label,'userID','outer') \\\n",
    "    .drop('userID') \\\n",
    "    .fillna(0)\n",
    "\n",
    "data.show(5)"
   ]
  },
  {
   "cell_type": "code",
   "execution_count": 68,
   "metadata": {},
   "outputs": [],
   "source": [
    "# Saving as SPARK format\n",
    "data.write.save('SparkFile_10.CSV', format='csv', header=True)"
   ]
  },
  {
   "cell_type": "code",
   "execution_count": 69,
   "metadata": {},
   "outputs": [
    {
     "data": {
      "text/html": [
       "<div>\n",
       "<style scoped>\n",
       "    .dataframe tbody tr th:only-of-type {\n",
       "        vertical-align: middle;\n",
       "    }\n",
       "\n",
       "    .dataframe tbody tr th {\n",
       "        vertical-align: top;\n",
       "    }\n",
       "\n",
       "    .dataframe thead th {\n",
       "        text-align: right;\n",
       "    }\n",
       "</style>\n",
       "<table border=\"1\" class=\"dataframe\">\n",
       "  <thead>\n",
       "    <tr style=\"text-align: right;\">\n",
       "      <th></th>\n",
       "      <th>gender</th>\n",
       "      <th>total_songs</th>\n",
       "      <th>thumbs_up</th>\n",
       "      <th>thumbs_down</th>\n",
       "      <th>add_to_playlist</th>\n",
       "      <th>avg_songs_played</th>\n",
       "      <th>artist_count</th>\n",
       "      <th>add_friend</th>\n",
       "      <th>listen_time</th>\n",
       "      <th>lifetime</th>\n",
       "      <th>label</th>\n",
       "      <th>downgrade_label</th>\n",
       "    </tr>\n",
       "  </thead>\n",
       "  <tbody>\n",
       "    <tr>\n",
       "      <th>0</th>\n",
       "      <td>1</td>\n",
       "      <td>381</td>\n",
       "      <td>17</td>\n",
       "      <td>5</td>\n",
       "      <td>7</td>\n",
       "      <td>39.285714</td>\n",
       "      <td>252</td>\n",
       "      <td>4</td>\n",
       "      <td>6.694090e+04</td>\n",
       "      <td>55.643657</td>\n",
       "      <td>0</td>\n",
       "      <td>0</td>\n",
       "    </tr>\n",
       "    <tr>\n",
       "      <th>1</th>\n",
       "      <td>0</td>\n",
       "      <td>474</td>\n",
       "      <td>21</td>\n",
       "      <td>6</td>\n",
       "      <td>8</td>\n",
       "      <td>64.500000</td>\n",
       "      <td>339</td>\n",
       "      <td>4</td>\n",
       "      <td>9.400888e+04</td>\n",
       "      <td>70.074630</td>\n",
       "      <td>0</td>\n",
       "      <td>0</td>\n",
       "    </tr>\n",
       "    <tr>\n",
       "      <th>2</th>\n",
       "      <td>0</td>\n",
       "      <td>11</td>\n",
       "      <td>0</td>\n",
       "      <td>0</td>\n",
       "      <td>0</td>\n",
       "      <td>8.000000</td>\n",
       "      <td>8</td>\n",
       "      <td>0</td>\n",
       "      <td>2.089113e+03</td>\n",
       "      <td>71.316887</td>\n",
       "      <td>1</td>\n",
       "      <td>0</td>\n",
       "    </tr>\n",
       "    <tr>\n",
       "      <th>3</th>\n",
       "      <td>1</td>\n",
       "      <td>4825</td>\n",
       "      <td>171</td>\n",
       "      <td>41</td>\n",
       "      <td>118</td>\n",
       "      <td>145.678571</td>\n",
       "      <td>2232</td>\n",
       "      <td>74</td>\n",
       "      <td>1.012312e+06</td>\n",
       "      <td>131.555914</td>\n",
       "      <td>0</td>\n",
       "      <td>0</td>\n",
       "    </tr>\n",
       "    <tr>\n",
       "      <th>4</th>\n",
       "      <td>0</td>\n",
       "      <td>2464</td>\n",
       "      <td>100</td>\n",
       "      <td>21</td>\n",
       "      <td>52</td>\n",
       "      <td>211.100000</td>\n",
       "      <td>1385</td>\n",
       "      <td>28</td>\n",
       "      <td>5.232758e+05</td>\n",
       "      <td>19.455845</td>\n",
       "      <td>1</td>\n",
       "      <td>0</td>\n",
       "    </tr>\n",
       "    <tr>\n",
       "      <th>5</th>\n",
       "      <td>0</td>\n",
       "      <td>201</td>\n",
       "      <td>7</td>\n",
       "      <td>1</td>\n",
       "      <td>5</td>\n",
       "      <td>21.428571</td>\n",
       "      <td>142</td>\n",
       "      <td>1</td>\n",
       "      <td>3.803409e+04</td>\n",
       "      <td>72.778183</td>\n",
       "      <td>0</td>\n",
       "      <td>0</td>\n",
       "    </tr>\n",
       "    <tr>\n",
       "      <th>6</th>\n",
       "      <td>0</td>\n",
       "      <td>2278</td>\n",
       "      <td>81</td>\n",
       "      <td>14</td>\n",
       "      <td>59</td>\n",
       "      <td>136.714286</td>\n",
       "      <td>1302</td>\n",
       "      <td>31</td>\n",
       "      <td>4.773076e+05</td>\n",
       "      <td>56.513576</td>\n",
       "      <td>0</td>\n",
       "      <td>0</td>\n",
       "    </tr>\n",
       "    <tr>\n",
       "      <th>7</th>\n",
       "      <td>1</td>\n",
       "      <td>3437</td>\n",
       "      <td>163</td>\n",
       "      <td>29</td>\n",
       "      <td>72</td>\n",
       "      <td>81.171429</td>\n",
       "      <td>1744</td>\n",
       "      <td>33</td>\n",
       "      <td>7.113449e+05</td>\n",
       "      <td>110.751690</td>\n",
       "      <td>1</td>\n",
       "      <td>1</td>\n",
       "    </tr>\n",
       "    <tr>\n",
       "      <th>8</th>\n",
       "      <td>1</td>\n",
       "      <td>1002</td>\n",
       "      <td>58</td>\n",
       "      <td>3</td>\n",
       "      <td>24</td>\n",
       "      <td>136.666667</td>\n",
       "      <td>643</td>\n",
       "      <td>11</td>\n",
       "      <td>1.987793e+05</td>\n",
       "      <td>23.556019</td>\n",
       "      <td>0</td>\n",
       "      <td>0</td>\n",
       "    </tr>\n",
       "    <tr>\n",
       "      <th>9</th>\n",
       "      <td>0</td>\n",
       "      <td>310</td>\n",
       "      <td>17</td>\n",
       "      <td>3</td>\n",
       "      <td>7</td>\n",
       "      <td>42.833333</td>\n",
       "      <td>233</td>\n",
       "      <td>6</td>\n",
       "      <td>6.770347e+04</td>\n",
       "      <td>85.083403</td>\n",
       "      <td>1</td>\n",
       "      <td>0</td>\n",
       "    </tr>\n",
       "  </tbody>\n",
       "</table>\n",
       "</div>"
      ],
      "text/plain": [
       "   gender  total_songs  thumbs_up  thumbs_down  add_to_playlist  \\\n",
       "0       1          381         17            5                7   \n",
       "1       0          474         21            6                8   \n",
       "2       0           11          0            0                0   \n",
       "3       1         4825        171           41              118   \n",
       "4       0         2464        100           21               52   \n",
       "5       0          201          7            1                5   \n",
       "6       0         2278         81           14               59   \n",
       "7       1         3437        163           29               72   \n",
       "8       1         1002         58            3               24   \n",
       "9       0          310         17            3                7   \n",
       "\n",
       "   avg_songs_played  artist_count  add_friend   listen_time    lifetime  \\\n",
       "0         39.285714           252           4  6.694090e+04   55.643657   \n",
       "1         64.500000           339           4  9.400888e+04   70.074630   \n",
       "2          8.000000             8           0  2.089113e+03   71.316887   \n",
       "3        145.678571          2232          74  1.012312e+06  131.555914   \n",
       "4        211.100000          1385          28  5.232758e+05   19.455845   \n",
       "5         21.428571           142           1  3.803409e+04   72.778183   \n",
       "6        136.714286          1302          31  4.773076e+05   56.513576   \n",
       "7         81.171429          1744          33  7.113449e+05  110.751690   \n",
       "8        136.666667           643          11  1.987793e+05   23.556019   \n",
       "9         42.833333           233           6  6.770347e+04   85.083403   \n",
       "\n",
       "   label  downgrade_label  \n",
       "0      0                0  \n",
       "1      0                0  \n",
       "2      1                0  \n",
       "3      0                0  \n",
       "4      1                0  \n",
       "5      0                0  \n",
       "6      0                0  \n",
       "7      1                1  \n",
       "8      0                0  \n",
       "9      1                0  "
      ]
     },
     "execution_count": 69,
     "metadata": {},
     "output_type": "execute_result"
    }
   ],
   "source": [
    "data_pandas = data.toPandas()\n",
    "data_pandas.head(10)"
   ]
  },
  {
   "cell_type": "code",
   "execution_count": 70,
   "metadata": {},
   "outputs": [],
   "source": [
    "data_pandas.to_csv('PandasFile_71.CSV', index=False)"
   ]
  },
  {
   "cell_type": "markdown",
   "metadata": {},
   "source": [
    "# Modeling\n",
    "Split the full dataset into train, test, and validation sets. Test out several of the machine learning methods you learned. Evaluate the accuracy of the various models, tuning parameters as necessary. Determine your winning model based on test accuracy and report results on the validation set. Since the churned users are a fairly small subset, I suggest using F1 score as the metric to optimize. "
   ]
  },
  {
   "cell_type": "markdown",
   "metadata": {},
   "source": [
    "##### Notes on F1 Score\n",
    "\n",
    "According to Wikipedia, F1 Score is defined as a weighted average of the precision and recall where an F1 score reached its best value at 1 and worst at 0. But first lets define the precision and recall:\n",
    "\n",
    "* The precision is the number of correct positive results divided by the number of all positive results. Precision talks about how precise/accurate your model is out of those predicted positive, how many of them are actual positive. Precision is a good measure to determine, when the costs of False Positive is high. For instance, email spam detection. In email spam detection, a false positive means that an email that is non-spam (actual negative) has been identified as spam (predicted spam). The email user might lose important emails if the precision is not high for the spam detection model.\n",
    "\n",
    "* The recall is the number of correct positive results divided by the number of positive results that should have been returned. Recall actually calculates how many of the Actual Positives our model capture through labeling it as Positive (True Positive). Applying the same understanding, we know that Recall shall be the model metric we use to select our best model when there is a high cost associated with False Negative.\n",
    "\n",
    "\n",
    "And accuracy is one of the more obvious metrics, it is the measure of all the correctly identified cases. It is most used when all the classes are equally important.\n",
    "\n",
    "F1 Score is defined as the harmonic mean of Precision and Recall and gives a better measure of the incorrectly classified cases than the Accuracy Metric. And the use case differences of accuracy and F1 Score can be summarized as below:\n",
    "\n",
    "1. Accuracy is used when the True Positives and True negatives are more important while F1-score is used when the False Negatives and False Positives are crucial\n",
    "\n",
    "2. Accuracy can be used when the class distribution is similar while F1-score is a better metric when there are imbalanced classes as in the above case.\n",
    "\n",
    "3. In most real-life classification problems, imbalanced class distribution exists and thus F1-score is a better metric to evaluate our model on.\n",
    "\n",
    "\n",
    "[1] https://towardsdatascience.com/accuracy-precision-recall-or-f1-331fb37c5cb9\n",
    "\n",
    "[2] https://adamyedidia.files.wordpress.com/2014/11/f_score.pdf\n",
    "\n",
    "[3] https://medium.com/analytics-vidhya/accuracy-vs-f1-score-6258237beca2"
   ]
  },
  {
   "cell_type": "code",
   "execution_count": 71,
   "metadata": {},
   "outputs": [
    {
     "data": {
      "text/plain": [
       "Index(['gender', 'total_songs', 'thumbs_up', 'thumbs_down', 'add_to_playlist',\n",
       "       'avg_songs_played', 'artist_count', 'add_friend', 'listen_time',\n",
       "       'lifetime', 'label', 'downgrade_label'],\n",
       "      dtype='object')"
      ]
     },
     "execution_count": 71,
     "metadata": {},
     "output_type": "execute_result"
    }
   ],
   "source": [
    "data_pandas.columns"
   ]
  },
  {
   "cell_type": "markdown",
   "metadata": {},
   "source": [
    "We will use the saved features as the inputs except the churn event, indicated as label. Because the churn label will be the feature that we want to predict by using the related features.\n",
    "\n",
    "After defining the features, we will create the feature vector and perform transformation."
   ]
  },
  {
   "cell_type": "code",
   "execution_count": 72,
   "metadata": {},
   "outputs": [],
   "source": [
    "# The input features are all features except the Churn Label and the output is the churn event.\n",
    "\n",
    "features_labels = ['gender', 'total_songs', 'thumbs_up', 'thumbs_down', 'add_to_playlist',\n",
    "                   'avg_songs_played', 'artist_count', 'add_friend', 'listen_time', 'lifetime', 'downgrade_label' ]\n",
    "\n",
    "# Define the vector assembler for all input columns\n",
    "features_vector  = VectorAssembler(inputCols = features_labels, outputCol = \"features\")\n",
    "\n",
    "input_data = features_vector.transform(data)"
   ]
  },
  {
   "cell_type": "markdown",
   "metadata": {},
   "source": [
    "As a next step, we will perform standardization. Standardization is performed because using these variables without standardization in effect gives the variable with the larger range a weight of 100 in the analysis. Typical data standardization procedures equalize the range and/or data variability. Therefore we standardize the features by taking off the mean and divided by the standard deviation of each feature.\n",
    "\n",
    "[1] https://spark.apache.org/docs/latest/ml-features\n",
    "\n",
    "[2] https://scikit-learn.org/stable/modules/preprocessing.html"
   ]
  },
  {
   "cell_type": "code",
   "execution_count": 73,
   "metadata": {},
   "outputs": [],
   "source": [
    "# standard scaler\n",
    "features_scaler = StandardScaler(inputCol = \"features\", outputCol=\"scaled_features\", withMean=True)\n",
    "features_scaler_fit = features_scaler.fit(input_data)\n",
    "scaled_inputs = features_scaler_fit.transform(input_data)"
   ]
  },
  {
   "cell_type": "markdown",
   "metadata": {},
   "source": [
    "After standardize our features, we can divide our dataset in to test, train, and validation. We can use randomSplit function to divide our dataset. \n",
    "\n",
    "RandomSplit is performing the randomly splits this DataFrame with the provided weights. When we perform random splitting we are splitting the data randomly to generate two sets: one to use during training of the ML algorithm (training set), and the second to check whether the training is working (test set). This is widely done and a very good idea, as it catches overfitting which otherwise can make it seem like you have a great ML solution when it's actually effectively just memorized the answer for each data point and can't interpolate or generalize.\n",
    "\n",
    "And one of the main problem is selecting the seed which is defined according to reference 4.\n",
    "\n",
    "[1] https://spark.apache.org/docs/2.2.0/api/python/pyspark.sql.html\n",
    "\n",
    "[2] https://stackoverflow.com/questions/40606456/randomsplit-dont-respect-specific-weights-pyspark\n",
    "\n",
    "[3] https://stackoverflow.com/questions/24857650/issue-understanding-splitting-data-in-scala-using-randomsplit-for-machine-lear\n",
    "\n",
    "[4] https://medium.com/@ODSC/properly-setting-the-random-seed-in-ml-experiments-not-as-simple-as-you-might-imagine-219969c84752"
   ]
  },
  {
   "cell_type": "code",
   "execution_count": 74,
   "metadata": {},
   "outputs": [],
   "source": [
    "# Creating train, test, and validation\n",
    "train, rest = scaled_inputs.randomSplit([0.8, 0.2], seed = 45)\n",
    "validation, test = rest.randomSplit([0.5, 0.5], seed = 45)"
   ]
  },
  {
   "cell_type": "markdown",
   "metadata": {},
   "source": [
    "Use baseline model to observe accuracy and F1-Score."
   ]
  },
  {
   "cell_type": "code",
   "execution_count": 75,
   "metadata": {},
   "outputs": [],
   "source": [
    "results_1 = test.withColumn('prediction', lit(1.0))"
   ]
  },
  {
   "cell_type": "code",
   "execution_count": 76,
   "metadata": {},
   "outputs": [
    {
     "name": "stdout",
     "output_type": "stream",
     "text": [
      "Test set metrics:\n",
      "Accuracy: 0.20588235294117646\n",
      "F-1 Score:0.07030129124820661\n"
     ]
    }
   ],
   "source": [
    "evaluator = MulticlassClassificationEvaluator(predictionCol=\"prediction\")\n",
    "print('Test set metrics:')\n",
    "print('Accuracy: {}'.format(evaluator.evaluate(results_1, {evaluator.metricName: \"accuracy\"})))\n",
    "print('F-1 Score:{}'.format(evaluator.evaluate(results_1, {evaluator.metricName: \"f1\"})))"
   ]
  },
  {
   "cell_type": "code",
   "execution_count": 77,
   "metadata": {},
   "outputs": [],
   "source": [
    "results_0 = test.withColumn('prediction', lit(0.0))"
   ]
  },
  {
   "cell_type": "code",
   "execution_count": 78,
   "metadata": {},
   "outputs": [
    {
     "name": "stdout",
     "output_type": "stream",
     "text": [
      "Test set metrics:\n",
      "Accuracy: 0.7941176470588235\n",
      "F-1 Score:0.7029893924783028\n"
     ]
    }
   ],
   "source": [
    "evaluator = MulticlassClassificationEvaluator(predictionCol=\"prediction\")\n",
    "print('Test set metrics:')\n",
    "print('Accuracy: {}'.format(evaluator.evaluate(results_0, {evaluator.metricName: \"accuracy\"})))\n",
    "print('F-1 Score:{}'.format(evaluator.evaluate(results_0, {evaluator.metricName: \"f1\"})))"
   ]
  },
  {
   "cell_type": "markdown",
   "metadata": {},
   "source": [
    "As a next step, we will perform classification with different algorithms to observe the result. \n",
    "\n",
    "[1] https://spark.apache.org/docs/latest/ml-classification-regression.html"
   ]
  },
  {
   "cell_type": "markdown",
   "metadata": {},
   "source": [
    "##### Gradient Boost and Random Forest"
   ]
  },
  {
   "cell_type": "markdown",
   "metadata": {},
   "source": [
    "\n",
    "The idea of boosting came out of the idea of whether a weak learner can be modified to become better. A weak hypothesis or weak learner is defined as one whose performance is at least slightly better than random chance.\n",
    "Gradient Boost Trees is the modified and improved version of AdaBoost. \n",
    "\n",
    "AdaBoost, which is the abbreviation of the Adaptive Boosting, is the first practical boosting algorithm proposed by Freund and Schapire in 1996. AdaBoost is an algorithm for constructing a “strong” classifier as linear combination of “simple” “weak” classifier. In other words, the main working principle is to convert a set of weak classifiers into a strong one. Weak classifier is described as less than 50% error over any distribution and strong classifier is thresholded linear combination of the weak classifier outputs. AdaBoost works by weighting the observations, putting more weight on difficult to classify instances and less on those already handled well. New weak learners are added sequentially that focus their training on the more difficult patterns. Predictions are made by majority vote of the weak learners’ predictions, weighted by their individual accuracy. \n",
    "\n",
    "Gradient boosting involves three elements:\n",
    "* A loss function to be optimized. The loss function used depends on the type of problem being solved. It must be differentiable, but many standard loss functions are supported and you can define your own. For example, regression may use a squared error and classification may use logarithmic loss\n",
    "* A weak learner to make predictions. Decision trees are used as the weak learner in gradient boosting\n",
    "* An additive model to add weak learners to minimize the loss function. Trees are added one at a time, and existing trees in the model are not changed. A gradient descent procedure is used to minimize the loss when adding trees.\n",
    "\n",
    "GBT build trees one at a time, where each new tree helps to correct errors made by previously trained tree. A great application of GBM is anomaly detection in supervised learning settings where data is often highly unbalanced such as DNA sequences, credit card transactions or cybersecurity.\n",
    "\n",
    "The differences between the GBT and RF can be explained as Gradient boosting uses regression trees for prediction purpose where a random forest use decision tree. ... The random forest is easy to parallelize but boosted trees are hard to do. Random forests overfit a sample of the training data and then reduces the overfit by simple averaging the predictors. If you carefully tune parameters, gradient boosting can result in better performance than random forests. However, gradient boosting may not be a good choice if you have a lot of noise, as it can result in overfitting. They also tend to be harder to tune than random forests.\n",
    "\n",
    "[1] https://machinelearningmastery.com/gentle-introduction-gradient-boosting-algorithm-machine-learning/\n",
    "\n",
    "[2] https://medium.com/@aravanshad/gradient-boosting-versus-random-forest-cfa3fa8f0d80\n",
    "\n",
    "[3] https://www.datasciencecentral.com/profiles/blogs/decision-tree-vs-random-forest-vs-boosted-trees-explained"
   ]
  },
  {
   "cell_type": "code",
   "execution_count": 79,
   "metadata": {},
   "outputs": [],
   "source": [
    "# initialize the GBT classifier\n",
    "gbt = GBTClassifier(maxIter = 10, seed = 45)\n",
    "\n",
    "# set evaluator\n",
    "f1_evaluator = MulticlassClassificationEvaluator(metricName='f1')\n",
    "\n",
    "# build paramGrid\n",
    "paramGrid = ParamGridBuilder().build()\n",
    "\n",
    "gbt_crossvalidation = CrossValidator(estimator = gbt,\n",
    "                                    estimatorParamMaps = paramGrid,\n",
    "                                    evaluator = f1_evaluator,\n",
    "                                    numFolds = 3)"
   ]
  },
  {
   "cell_type": "markdown",
   "metadata": {},
   "source": [
    "Fit the training data:"
   ]
  },
  {
   "cell_type": "code",
   "execution_count": 80,
   "metadata": {},
   "outputs": [
    {
     "name": "stdout",
     "output_type": "stream",
     "text": [
      "The training process took 1140.1361155509949 seconds\n"
     ]
    }
   ],
   "source": [
    "start = time()\n",
    "cvModel_gbt = gbt_crossvalidation.fit(train)\n",
    "end = time()\n",
    "cvModel_gbt.avgMetrics\n",
    "print('The training process took {} seconds'.format(end - start))"
   ]
  },
  {
   "cell_type": "code",
   "execution_count": 81,
   "metadata": {},
   "outputs": [],
   "source": [
    "gbt_result = cvModel_gbt.transform(validation)"
   ]
  },
  {
   "cell_type": "code",
   "execution_count": 90,
   "metadata": {},
   "outputs": [
    {
     "name": "stdout",
     "output_type": "stream",
     "text": [
      "Gradient Boosted Trees Metrics:\n",
      "Accuracy: 0.8333333333333334\n",
      "F-1 Score:0.838095238095238\n"
     ]
    }
   ],
   "source": [
    "evaluator = MulticlassClassificationEvaluator(predictionCol = \"prediction\")\n",
    "print('Gradient Boosted Trees Metrics:')\n",
    "print('Accuracy: {}'.format(evaluator.evaluate(gbt_result, {evaluator.metricName: \"accuracy\"})))\n",
    "print('F-1 Score:{}'.format(evaluator.evaluate(gbt_result, {evaluator.metricName: \"f1\"})))"
   ]
  },
  {
   "cell_type": "code",
   "execution_count": 91,
   "metadata": {},
   "outputs": [],
   "source": [
    "# initialize the random forest classifier\n",
    "randomforest = RandomForestClassifier()\n",
    "\n",
    "# set evaluator\n",
    "f1_evaluator = MulticlassClassificationEvaluator(metricName = 'f1')\n",
    "\n",
    "# build paramGrid\n",
    "paramGrid = ParamGridBuilder().build()\n",
    "\n",
    "randomforest_crossval = CrossValidator(estimator = randomforest,\n",
    "                              estimatorParamMaps = paramGrid,\n",
    "                              evaluator = f1_evaluator,\n",
    "                              numFolds = 3)"
   ]
  },
  {
   "cell_type": "code",
   "execution_count": 92,
   "metadata": {},
   "outputs": [
    {
     "name": "stdout",
     "output_type": "stream",
     "text": [
      "The training process took 520.41619181633 seconds\n"
     ]
    }
   ],
   "source": [
    "start = time()\n",
    "cvModel_rf = randomforest_crossval.fit(train)\n",
    "end = time()\n",
    "cvModel_rf.avgMetrics\n",
    "print('The training process took {} seconds'.format(end - start))"
   ]
  },
  {
   "cell_type": "code",
   "execution_count": 93,
   "metadata": {},
   "outputs": [],
   "source": [
    "randomforest_result = cvModel_rf.transform(validation)"
   ]
  },
  {
   "cell_type": "code",
   "execution_count": 94,
   "metadata": {},
   "outputs": [
    {
     "name": "stdout",
     "output_type": "stream",
     "text": [
      "Random Forest Metrics:\n",
      "Accuracy: 1.0\n",
      "F-1 Score:1.0\n"
     ]
    }
   ],
   "source": [
    "evaluator = MulticlassClassificationEvaluator(predictionCol=\"prediction\")\n",
    "print('Random Forest Metrics:')\n",
    "print('Accuracy: {}'.format(evaluator.evaluate(randomforest_result, {evaluator.metricName: \"accuracy\"})))\n",
    "print('F-1 Score:{}'.format(evaluator.evaluate(randomforest_result, {evaluator.metricName: \"f1\"})))"
   ]
  },
  {
   "cell_type": "markdown",
   "metadata": {},
   "source": [
    "##### Support Vector Machines\n",
    "The working principle of the support vector machines is to find or create the hyperplane in an N-dimensional space that distinctly classifies the data points. The dimension of the hyperplane is depending on the number of the features. Hyperplanes are basicly the desicion boundaries that helps the classification of the data such that data points which are locating at te different side of the hyperplane are classified as different classes. Support vector machines are commonly used in face detection, text and hypertext categorization, classification of images, bioinformatics and, handwriting recognition. One of the real world example is performed in the article \"Application of support vector machine modeling for prediction of common diseases: the case of diabetes and pre-diabetes\".\n"
   ]
  },
  {
   "cell_type": "code",
   "execution_count": 95,
   "metadata": {},
   "outputs": [],
   "source": [
    "# initialize classifier\n",
    "svm = LinearSVC(maxIter = 10)\n",
    "\n",
    "# set evaluator\n",
    "f1_evaluator = MulticlassClassificationEvaluator(metricName='f1')\n",
    "\n",
    "# build paramGrid\n",
    "paramGrid = ParamGridBuilder().build()\n",
    "\n",
    "svm_crossval = CrossValidator(estimator=svm,\n",
    "                          estimatorParamMaps=paramGrid,\n",
    "                          evaluator=f1_evaluator,\n",
    "                          numFolds=3)"
   ]
  },
  {
   "cell_type": "code",
   "execution_count": 96,
   "metadata": {},
   "outputs": [
    {
     "name": "stdout",
     "output_type": "stream",
     "text": [
      "The training process took 709.1884164810181 seconds\n"
     ]
    }
   ],
   "source": [
    "start = time()\n",
    "cvModel_svm = svm_crossval.fit(train)\n",
    "end = time()\n",
    "cvModel_svm.avgMetrics\n",
    "print('The training process took {} seconds'.format(end - start))"
   ]
  },
  {
   "cell_type": "code",
   "execution_count": 97,
   "metadata": {},
   "outputs": [],
   "source": [
    "svm_result = cvModel_svm.transform(validation)"
   ]
  },
  {
   "cell_type": "code",
   "execution_count": 98,
   "metadata": {},
   "outputs": [
    {
     "name": "stdout",
     "output_type": "stream",
     "text": [
      "SVM Metrics:\n",
      "Accuracy: 0.6666666666666666\n",
      "F-1 Score:0.5333333333333333\n"
     ]
    }
   ],
   "source": [
    "evaluator = MulticlassClassificationEvaluator(predictionCol=\"prediction\")\n",
    "print('SVM Metrics:')\n",
    "print('Accuracy: {}'.format(evaluator.evaluate(svm_result, {evaluator.metricName: \"accuracy\"})))\n",
    "print('F-1 Score:{}'.format(evaluator.evaluate(svm_result, {evaluator.metricName: \"f1\"})))"
   ]
  },
  {
   "cell_type": "markdown",
   "metadata": {},
   "source": [
    "##### Decision Tree Classifier\n",
    "\n",
    "In decision analysis, one of the visual and explicit representation of decision and decision making procedure can be performed by using decision trees. The decision tree is using a tree-like model of decisions such that a flowchart like tree structure in which each node internal node denotes a test and each branch represents an outcome of the test and each leaf node holds a corresponding class label. Decision tree is the one of the most powerfull and popular tool for classification and prediction. Decision trees are commonly using in medical diagnosis, failure prediction, credit scroing and crime risk investigation. Several business analysis examples can be found but one of the widely used one is the detection of the raudulent Financial Statements."
   ]
  },
  {
   "cell_type": "code",
   "execution_count": 99,
   "metadata": {},
   "outputs": [],
   "source": [
    "dt = DecisionTreeClassifier()\n",
    "\n",
    "# set evaluator\n",
    "f1_evaluator = MulticlassClassificationEvaluator(metricName='f1')\n",
    "\n",
    "# build paramGrid\n",
    "paramGrid = ParamGridBuilder().build()\n",
    "\n",
    "dt_crossval = CrossValidator(estimator=dt,\n",
    "                          estimatorParamMaps=paramGrid,\n",
    "                          evaluator=f1_evaluator,\n",
    "                          numFolds=3)"
   ]
  },
  {
   "cell_type": "code",
   "execution_count": 100,
   "metadata": {},
   "outputs": [
    {
     "name": "stdout",
     "output_type": "stream",
     "text": [
      "The training process took 595.8720190525055 seconds\n"
     ]
    }
   ],
   "source": [
    "start = time()\n",
    "cvModel_dt = dt_crossval.fit(train)\n",
    "end = time()\n",
    "cvModel_dt.avgMetrics\n",
    "print('The training process took {} seconds'.format(end - start))"
   ]
  },
  {
   "cell_type": "code",
   "execution_count": 101,
   "metadata": {},
   "outputs": [],
   "source": [
    "dt_result = cvModel_dt.transform(validation)"
   ]
  },
  {
   "cell_type": "code",
   "execution_count": 102,
   "metadata": {},
   "outputs": [
    {
     "name": "stdout",
     "output_type": "stream",
     "text": [
      "SVM Metrics:\n",
      "Accuracy: 0.8333333333333334\n",
      "F-1 Score:0.838095238095238\n"
     ]
    }
   ],
   "source": [
    "evaluator = MulticlassClassificationEvaluator(predictionCol=\"prediction\")\n",
    "print('Decision Trees Metrics:')\n",
    "print('Accuracy: {}'.format(evaluator.evaluate(dt_result, {evaluator.metricName: \"accuracy\"})))\n",
    "print('F-1 Score:{}'.format(evaluator.evaluate(dt_result, {evaluator.metricName: \"f1\"})))"
   ]
  },
  {
   "cell_type": "markdown",
   "metadata": {},
   "source": [
    "#### Model Comparision and Decision\n",
    "\n",
    "Gradient Boost Trees, Random Forest, Support Vector Machines, and Decision Tree algorithms are selected and used for training. Below is the summary of obtained accuracy, F1 Score during a recorded training time\n",
    "* **Gradient Boost Trees** gave the accuracy of **0.833**, F1 Score of **0.830** with **1140.13 secs** of training duration.\n",
    "\n",
    "* **Random Forest** gave the accuracy of **1.00**, F1 Score of **1.00** with **520.41 secs** of training duration.\n",
    "\n",
    "* **Support Vector Machines** gave the accuracy of **0.666**, F1 Score of **0.5333** with **709.8 secs** of training duration.\n",
    "\n",
    "* **Decision Trees** gave the accuracy of **0.833**, F1 Score of **0.830** with **595.87 secs** of training duration.\n",
    "\n",
    "Since the accuracy and F1 Score are the most important results for selecting the algorithm, training duration time has also an effect while working with large dataset. Since we have a relatively small dataset, I will choose the GBT algorithm because it has the 0.833% accuracy.\n",
    "\n",
    "Note: Random Forest algorithm provides 1.0 accuracy and F1 results which is interesting and can be sign of overfitting.\n"
   ]
  },
  {
   "cell_type": "markdown",
   "metadata": {},
   "source": [
    "##### Model Tuning"
   ]
  },
  {
   "cell_type": "code",
   "execution_count": 113,
   "metadata": {},
   "outputs": [],
   "source": [
    "#gbt = GBTClassifier(maxIter = 10, seed = 45)\n",
    "\n",
    "# build paramGrid\n",
    "#paramGrid_gbt = ParamGridBuilder() \\\n",
    "#    .addGrid(gbt.maxDepth,[5, 10]) \\\n",
    "#    .addGrid(gbt.maxIter, [10,15]) \\\n",
    "#    .build()\n",
    "\n",
    "# set evaluator\n",
    "#f1_evaluator = MulticlassClassificationEvaluator(metricName='f1')\n",
    "\n",
    "#gbt_crossval = CrossValidator(estimator=gbt,\n",
    "#                          estimatorParamMaps=paramGrid_gbt,\n",
    "#                          evaluator=f1_evaluator,\n",
    "#                          numFolds=3)"
   ]
  },
  {
   "cell_type": "code",
   "execution_count": 119,
   "metadata": {},
   "outputs": [],
   "source": [
    "#start = time()\n",
    "#cvModel_gbt = gbt_crossval.fit(train)\n",
    "#end = time()\n",
    "#cvModel_gbt.avgMetrics\n",
    "#print('The training process took {} seconds'.format(end - start))"
   ]
  },
  {
   "cell_type": "code",
   "execution_count": 115,
   "metadata": {},
   "outputs": [],
   "source": [
    "#best_model = GBTClassifier(maxIter=10,seed=45, maxDepth=5)\n",
    "#best_model = best_model.fit(train)\n",
    "#results = best_model.transform(test)"
   ]
  },
  {
   "cell_type": "code",
   "execution_count": 116,
   "metadata": {},
   "outputs": [
    {
     "name": "stdout",
     "output_type": "stream",
     "text": [
      "Best Model Metrics:\n",
      "Accuracy: 0.7647058823529411\n",
      "F-1 Score:0.7492997198879553\n"
     ]
    }
   ],
   "source": [
    "#evaluator = MulticlassClassificationEvaluator(predictionCol=\"prediction\")\n",
    "#print('Best Model Metrics:')\n",
    "#print('Accuracy: {}'.format(evaluator.evaluate(results, {evaluator.metricName: \"accuracy\"})))\n",
    "#print('F-1 Score:{}'.format(evaluator.evaluate(results, {evaluator.metricName: \"f1\"})))"
   ]
  },
  {
   "cell_type": "code",
   "execution_count": 120,
   "metadata": {},
   "outputs": [],
   "source": [
    "# The Gradient-Boosted Trees (GBTs) model\n",
    "\n",
    "#model = GBTClassifier(seed = 45)\n",
    "#param_grid = ParamGridBuilder().addGrid(model.maxDepth,[3, 5, 10]).addGrid(model.maxBins ,[10, 5]) \\\n",
    "#    .addGrid(model.maxIter ,[20, 5]).build()\n",
    "\n",
    "#gbt_crossval = CrossValidator(estimator=model,\n",
    "#                          estimatorParamMaps=param_grid,\n",
    "#                          evaluator=f1_evaluator,\n",
    "#                          numFolds=3)\n",
    "\n"
   ]
  },
  {
   "cell_type": "code",
   "execution_count": 139,
   "metadata": {},
   "outputs": [],
   "source": [
    "#start = time()\n",
    "#cvModel_gbt = gbt_crossval.fit(train)\n",
    "#end = time()\n",
    "#cvModel_dt.avgMetrics\n",
    "#print('The training process took {} seconds'.format(end - start))"
   ]
  },
  {
   "cell_type": "code",
   "execution_count": null,
   "metadata": {},
   "outputs": [],
   "source": [
    "#gbt_result = cvModel_gbt.transform(validation)"
   ]
  },
  {
   "cell_type": "code",
   "execution_count": null,
   "metadata": {},
   "outputs": [],
   "source": [
    "#evaluator = MulticlassClassificationEvaluator(predictionCol=\"prediction\")\n",
    "#print('GBT Metrics:')\n",
    "#print('Accuracy: {}'.format(evaluator.evaluate(gbt_result, {evaluator.metricName: \"accuracy\"})))\n",
    "#print('F-1 Score:{}'.format(evaluator.evaluate(gbt_result, {evaluator.metricName: \"f1\"})))"
   ]
  },
  {
   "cell_type": "markdown",
   "metadata": {},
   "source": [
    "##### Feature Importance Observation"
   ]
  },
  {
   "cell_type": "code",
   "execution_count": 123,
   "metadata": {},
   "outputs": [],
   "source": [
    "gbt_best = GBTClassifier(maxIter=10,seed=45)\n",
    "gbt_best_model = gbt_best.fit(train)\n",
    "results_final = gbt_best_model.transform(test)"
   ]
  },
  {
   "cell_type": "code",
   "execution_count": 126,
   "metadata": {},
   "outputs": [
    {
     "name": "stdout",
     "output_type": "stream",
     "text": [
      "Test set metrics:\n",
      "Accuracy: 0.7647058823529411\n",
      "F-1 Score:0.7492997198879553\n"
     ]
    }
   ],
   "source": [
    "evaluator = MulticlassClassificationEvaluator(predictionCol=\"prediction\")\n",
    "print('Test set metrics:')\n",
    "print('Accuracy: {}'.format(evaluator.evaluate(results_final, {evaluator.metricName: \"accuracy\"})))\n",
    "print('F-1 Score:{}'.format(evaluator.evaluate(results_final, {evaluator.metricName: \"f1\"})))"
   ]
  },
  {
   "cell_type": "code",
   "execution_count": 138,
   "metadata": {},
   "outputs": [
    {
     "data": {
      "image/png": "[encoded data removed]",
      "text/plain": [
       "<matplotlib.figure.Figure at 0x7f45081f0a90>"
      ]
     },
     "metadata": {
      "needs_background": "light"
     },
     "output_type": "display_data"
    }
   ],
   "source": [
    "features = gbt_best_model.featureImportances.values\n",
    "features_labels = ['gender', 'total_songs', 'thumbs_up', 'thumbs_down', 'add_to_playlist',\n",
    "                   'avg_songs_played', 'artist_count', 'add_friend', 'listen_time', 'lifetime', 'downgrade_label' ]\n",
    "y_pos = np.arange(len(features_labels))\n",
    "plt.figure(figsize=(10,8)) \n",
    "plt.barh(y_pos, features, align='center', color = 'magenta')\n",
    "plt.yticks(y_pos, features_labels)\n",
    "plt.xlabel('Importance Score')\n",
    "plt.title('Feature Importances');"
   ]
  },
  {
   "cell_type": "markdown",
   "metadata": {},
   "source": [
    "Feature importance is utilized for Gradient Boost Tree model. From the above Figure, it is seen that thumbs down feature has a very important role. And second important feature is lifetime. It is reasonable that lifetime is an indicator because it is known that churned users have a shorter lifetime. \n"
   ]
  },
  {
   "cell_type": "markdown",
   "metadata": {},
   "source": [
    "### Conclusion\n",
    "\n",
    "The machine learning modeling has a success in predicting the customer's churn activity. That can help the application owners to improve the user lifetime. Despite the relatively good results of other selected machine learning models such as SVM and Decision Trees, the GBT algorithm is selected and tuned with hyperparameters. For a future work, the Random Forest algorithm can be adjusted with different settings to overcome the over-fitting.\n",
    "\n",
    "###### Possible Improvements for Current Model\n",
    "Even if we have almost 80% accuracy in current model, there is still a chance to improve it by \n",
    "* Working with more observations by increasing the dataset size.\n",
    "* Investigating the different parameter settings to have more accuracy.\n",
    "* Analyzing location information effect on the churned user since location can provide us a information about life style and give company owner a chance to provide location based promotions to keep the users.\n",
    "* Used environment can also provide a usefull information. If android users are more likely to churned, this means the application needs an improvement for that environment.\n",
    "\n",
    "\n"
   ]
  },
  {
   "cell_type": "markdown",
   "metadata": {},
   "source": [
    "# Final Steps\n",
    "Clean up your code, adding comments and renaming variables to make the code easier to read and maintain. Refer to the Spark Project Overview page and Data Scientist Capstone Project Rubric to make sure you are including all components of the capstone project and meet all expectations. Remember, this includes thorough documentation in a README file in a Github repository, as well as a web app or blog post."
   ]
  },
  {
   "cell_type": "code",
   "execution_count": null,
   "metadata": {},
   "outputs": [],
   "source": []
  }
 ],
 "metadata": {
  "kernelspec": {
   "display_name": "Python 3",
   "language": "python",
   "name": "python3"
  }
 },
 "nbformat": 4,
 "nbformat_minor": 2
}
